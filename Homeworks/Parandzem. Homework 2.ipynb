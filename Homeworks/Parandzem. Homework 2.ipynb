{
 "cells": [
  {
   "cell_type": "code",
   "execution_count": 1,
   "metadata": {},
   "outputs": [],
   "source": [
    "import pandas as pd\n",
    "import requests\n",
    "from scrapy.http import TextResponse\n",
    "import time\n",
    "import numpy as np\n",
    "import re "
   ]
  },
  {
   "cell_type": "code",
   "execution_count": 2,
   "metadata": {},
   "outputs": [],
   "source": [
    "url=\"http://books.toscrape.com/\"\n",
    "all_urls=['http://books.toscrape.com/catalogue/page-{}.html'.format(i) for i in range(1,51)]"
   ]
  },
  {
   "cell_type": "markdown",
   "metadata": {},
   "source": [
    "### Task 1. Collect\tthe\tfollowing\tinformation\tfrom\tall\tof\tthe\tpages\t(and\tall\tof\tthe\tbooks)\ton\tbooks.toscrape.com:\t\n",
    "\n",
    "a)\tName\tof\tthe\tbook,\n",
    "b)\tPrice,\n",
    "c)\tRating.\n",
    "\n",
    "- Note\t1:\tcomplete\tthe\ttask\ttwice\tusing\tCSS\tSelector\tand\tXpath\tapproaches.\n",
    "- Note\t2:\tuse\tfunctions\tand\tloops\twhenever\tapplicable.\n",
    "- Note\t3:\tyou\tmay\tdevelop\tyour\tcode\twithout\tfunctions\tin\tthe\tbeginning,\tand\tadd\tfunctions\tonly\tif\tyou\tsee\tit\tworks."
   ]
  },
  {
   "cell_type": "markdown",
   "metadata": {},
   "source": [
    "## Task 1. Xpath"
   ]
  },
  {
   "cell_type": "code",
   "execution_count": 3,
   "metadata": {},
   "outputs": [],
   "source": [
    "#name, price and ratings of the books\n",
    "def book_scraper(URL):\n",
    "    page=requests.get(URL)\n",
    "    response=TextResponse(url=page.url, body=page.text,encoding=\"utf-8\")\n",
    "    books=response.xpath('//h3/a/@title').extract()\n",
    "    prices=response.xpath('//p[@class=\"price_color\"]/text()').extract()\n",
    "    ratings=response.xpath('//p[contains(@class,\"star-rating\")]/@class').extract()\n",
    "    return books, prices,ratings"
   ]
  },
  {
   "cell_type": "code",
   "execution_count": 4,
   "metadata": {
    "scrolled": true
   },
   "outputs": [
    {
     "name": "stdout",
     "output_type": "stream",
     "text": [
      "['A Light in the Attic', 'Tipping the Velvet', 'Soumission', 'Sharp Objects', 'Sapiens: A Brief History of Humankind', 'The Requiem Red', 'The Dirty Little Secrets of Getting Your Dream Job', 'The Coming Woman: A Novel Based on the Life of the Infamous Feminist, Victoria Woodhull', 'The Boys in the Boat: Nine Americans and Their Epic Quest for Gold at the 1936 Berlin Olympics', 'The Black Maria', 'Starving Hearts (Triangular Trade Trilogy, #1)', \"Shakespeare's Sonnets\", 'Set Me Free', \"Scott Pilgrim's Precious Little Life (Scott Pilgrim #1)\", 'Rip it Up and Start Again', 'Our Band Could Be Your Life: Scenes from the American Indie Underground, 1981-1991', 'Olio', 'Mesaerion: The Best Science Fiction Stories 1800-1849', 'Libertarianism for Beginners', \"It's Only the Himalayas\", 'In Her Wake', 'How Music Works', 'Foolproof Preserving: A Guide to Small Batch Jams, Jellies, Pickles, Condiments, and More: A Foolproof Guide to Making Small Batch Jams, Jellies, Pickles, Condiments, and More', 'Chase Me (Paris Nights #2)', 'Black Dust', 'Birdsong: A Story in Pictures', \"America's Cradle of Quarterbacks: Western Pennsylvania's Football Factory from Johnny Unitas to Joe Montana\", 'Aladdin and His Wonderful Lamp', 'Worlds Elsewhere: Journeys Around Shakespeareâ\\x80\\x99s Globe', 'Wall and Piece', 'The Four Agreements: A Practical Guide to Personal Freedom', 'The Five Love Languages: How to Express Heartfelt Commitment to Your Mate', 'The Elephant Tree', 'The Bear and the Piano', \"Sophie's World\", 'Penny Maybe', 'Maude (1883-1993):She Grew Up with the country', 'In a Dark, Dark Wood', 'Behind Closed Doors', \"You can't bury them all: Poems\", 'Slow States of Collapse: Poems', 'Reasons to Stay Alive', 'Private Paris (Private #10)', '#HigherSelfie: Wake Up Your Life. Free Your Soul. Find Your Tribe.', 'Without Borders (Wanderlove #1)', 'When We Collided', 'We Love You, Charlie Freeman', 'Untitled Collection: Sabbath Poems 2014', 'Unseen City: The Majesty of Pigeons, the Discreet Charm of Snails & Other Wonders of the Urban Wilderness', 'Unicorn Tracks', 'Unbound: How Eight Technologies Made Us Human, Transformed Society, and Brought Our World to the Brink', 'Tsubasa: WoRLD CHRoNiCLE 2 (Tsubasa WoRLD CHRoNiCLE #2)', 'Throwing Rocks at the Google Bus: How Growth Became the Enemy of Prosperity', 'This One Summer', 'Thirst', 'The Torch Is Passed: A Harding Family Story', 'The Secret of Dreadwillow Carse', 'The Pioneer Woman Cooks: Dinnertime: Comfort Classics, Freezer Food, 16-Minute Meals, and Other Delicious Ways to Solve Supper!', 'The Past Never Ends', 'The Natural History of Us (The Fine Art of Pretending #2)', 'The Nameless City (The Nameless City #1)', 'The Murder That Never Was (Forensic Instincts #5)', \"The Most Perfect Thing: Inside (and Outside) a Bird's Egg\", 'The Mindfulness and Acceptance Workbook for Anxiety: A Guide to Breaking Free from Anxiety, Phobias, and Worry Using Acceptance and Commitment Therapy', 'The Life-Changing Magic of Tidying Up: The Japanese Art of Decluttering and Organizing', 'The Inefficiency Assassin: Time Management Tactics for Working Smarter, Not Longer', 'The Gutsy Girl: Escapades for Your Life of Epic Adventure', 'The Electric Pencil: Drawings from Inside State Hospital No. 3', 'The Death of Humanity: and the Case for Life', 'The Bulletproof Diet: Lose up to a Pound a Day, Reclaim Energy and Focus, Upgrade Your Life', 'The Art Forger', 'The Age of Genius: The Seventeenth Century and the Birth of the Modern Mind', \"The Activist's Tao Te Ching: Ancient Advice for a Modern Revolution\", 'Spark Joy: An Illustrated Master Class on the Art of Organizing and Tidying Up', 'Soul Reader', 'Security', 'Saga, Volume 6 (Saga (Collected Editions) #6)', 'Saga, Volume 5 (Saga (Collected Editions) #5)', 'Reskilling America: Learning to Labor in the Twenty-First Century', 'Rat Queens, Vol. 3: Demons (Rat Queens (Collected Editions) #11-15)', 'Princess Jellyfish 2-in-1 Omnibus, Vol. 01 (Princess Jellyfish 2-in-1 Omnibus #1)', 'Princess Between Worlds (Wide-Awake Princess #5)', 'Pop Gun War, Volume 1: Gift', 'Political Suicide: Missteps, Peccadilloes, Bad Calls, Backroom Hijinx, Sordid Pasts, Rotten Breaks, and Just Plain Dumb Mistakes in the Annals of American Politics', 'Patience', 'Outcast, Vol. 1: A Darkness Surrounds Him (Outcast #1)', 'orange: The Complete Collection 1 (orange: The Complete Collection #1)', 'Online Marketing for Busy Authors: A Step-By-Step Guide', 'On a Midnight Clear', 'Obsidian (Lux #1)', 'My Paris Kitchen: Recipes and Stories', 'Masks and Shadows', 'Mama Tried: Traditional Italian Cooking for the Screwed, Crude, Vegan, and Tattooed', 'Lumberjanes, Vol. 2: Friendship to the Max (Lumberjanes #5-8)', 'Lumberjanes, Vol. 1: Beware the Kitten Holy (Lumberjanes #1-4)', 'Lumberjanes Vol. 3: A Terrible Plan (Lumberjanes #9-12)', 'Layered: Baking, Building, and Styling Spectacular Cakes', 'Judo: Seven Steps to Black Belt (an Introductory Guide for Beginners)', 'Join', 'In the Country We Love: My Family Divided', 'Immunity: How Elie Metchnikoff Changed the Course of Modern Medicine', 'I Hate Fairyland, Vol. 1: Madly Ever After (I Hate Fairyland (Compilations) #1-5)', 'I am a Hero Omnibus Volume 1', 'How to Be Miserable: 40 Strategies You Already Use', 'Her Backup Boyfriend (The Sorensen Family #1)', 'Giant Days, Vol. 2 (Giant Days #5-8)', 'Forever and Forever: The Courtship of Henry Longfellow and Fanny Appleton', 'First and First (Five Boroughs #3)', 'Fifty Shades Darker (Fifty Shades #2)', 'Everydata: The Misinformation Hidden in the Little Data You Consume Every Day', \"Don't Be a Jerk: And Other Practical Advice from Dogen, Japan's Greatest Zen Master\", 'Danganronpa Volume 1', 'Crown of Midnight (Throne of Glass #2)', 'Codename Baboushka, Volume 1: The Conclave of Death', 'Camp Midnight', 'Call the Nurse: True Stories of a Country Nurse on a Scottish Isle', 'Burning', 'Bossypants', 'Bitch Planet, Vol. 1: Extraordinary Machine (Bitch Planet (Collected Editions))', 'Avatar: The Last Airbender: Smoke and Shadow, Part 3 (Smoke and Shadow #3)', 'Algorithms to Live By: The Computer Science of Human Decisions', 'A World of Flavor: Your Gluten Free Passport', 'A Piece of Sky, a Grain of Rice: A Memoir in Four Meditations', 'A Murder in Time', 'A Flight of Arrows (The Pathfinders #2)', 'A Fierce and Subtle Poison', 'A Court of Thorns and Roses (A Court of Thorns and Roses #1)', '(Un)Qualified: How God Uses Broken People to Do Big Things', 'You Are What You Love: The Spiritual Power of Habit', \"William Shakespeare's Star Wars: Verily, A New Hope (William Shakespeare's Star Wars #4)\", 'Tuesday Nights in 1980', 'Tracing Numbers on a Train', 'Throne of Glass (Throne of Glass #1)', 'Thomas Jefferson and the Tripoli Pirates: The Forgotten War That Changed American History', 'Thirteen Reasons Why', 'The White Cat and the Monk: A Retelling of the Poem â\\x80\\x9cPangur BÃ¡nâ\\x80\\x9d', 'The Wedding Dress', 'The Vacationers', 'The Third Wave: An Entrepreneurâ\\x80\\x99s Vision of the Future', 'The Stranger', 'The Shadow Hero (The Shadow Hero)', 'The Secret (The Secret #1)', 'The Regional Office Is Under Attack!', 'The Psychopath Test: A Journey Through the Madness Industry', 'The Project', 'The Power of Now: A Guide to Spiritual Enlightenment', \"The Omnivore's Dilemma: A Natural History of Four Meals\", 'The Nerdy Nummies Cookbook: Sweet Treats for the Geek in All of Us', 'The Murder of Roger Ackroyd (Hercule Poirot #4)', 'The Mistake (Off-Campus #2)', \"The Matchmaker's Playbook (Wingmen Inc. #1)\", 'The Love and Lemons Cookbook: An Apple-to-Zucchini Celebration of Impromptu Cooking', 'The Long Shadow of Small Ghosts: Murder and Memory in an American City', 'The Kite Runner', 'The House by the Lake', 'The Glittering Court (The Glittering Court #1)', 'The Girl on the Train', 'The Genius of Birds', 'The Emerald Mystery', 'The Cookies & Cups Cookbook: 125+ sweet & savory recipes reminding you to Always Eat Dessert First', \"The Bridge to Consciousness: I'm Writing the Bridge Between Science and Our Old and New Beliefs.\", \"The Artist's Way: A Spiritual Path to Higher Creativity\", 'The Art of War', 'The Argonauts', 'The 10% Entrepreneur: Live Your Startup Dream Without Quitting Your Day Job', 'Suddenly in Love (Lake Haven #1)', 'Something More Than This', 'Soft Apocalypse', \"So You've Been Publicly Shamed\", 'Shoe Dog: A Memoir by the Creator of NIKE', 'Shobu Samurai, Project Aryoku (#3)', 'Secrets and Lace (Fatal Hearts #1)', 'Scarlett Epstein Hates It Here', 'Romero and Juliet: A Tragic Tale of Love and Zombies', 'Redeeming Love', 'Poses for Artists Volume 1 - Dynamic and Sitting Poses: An Essential Reference for Figure Drawing and the Human Form', 'Poems That Make Grown Women Cry', 'Nightingale, Sing', 'Night Sky with Exit Wounds', 'Mrs. Houdini', 'Modern Romance', 'Miss Peregrineâ\\x80\\x99s Home for Peculiar Children (Miss Peregrineâ\\x80\\x99s Peculiar Children #1)', 'Louisa: The Extraordinary Life of Mrs. Adams', 'Little Red', 'Library of Souls (Miss Peregrineâ\\x80\\x99s Peculiar Children #3)', 'Large Print Heart of the Pride', 'I Had a Nice Time And Other Lies...: How to find love & sh*t like that', 'Hollow City (Miss Peregrineâ\\x80\\x99s Peculiar Children #2)', 'Grumbles', 'Full Moon over Noahâ\\x80\\x99s Ark: An Odyssey to Mount Ararat and Beyond', 'Frostbite (Vampire Academy #2)', 'Follow You Home', 'First Steps for New Christians (Print Edition)', 'Finders Keepers (Bill Hodges Trilogy #2)', 'Fables, Vol. 1: Legends in Exile (Fables #1)', 'Eureka Trivia 6.0', 'Drive: The Surprising Truth About What Motivates Us', 'Done Rubbed Out (Reightman & Bailey #1)', 'Doing It Over (Most Likely To #1)', 'Deliciously Ella Every Day: Quick and Easy Recipes for Gluten-Free Snacks, Packed Lunches, and Simple Meals', 'Dark Notes', 'Daring Greatly: How the Courage to Be Vulnerable Transforms the Way We Live, Love, Parent, and Lead', 'Close to You', 'Chasing Heaven: What Dying Taught Me About Living', 'Big Magic: Creative Living Beyond Fear', 'Becoming Wise: An Inquiry into the Mystery and Art of Living', 'Beauty Restored (Riley Family Legacy Novellas #3)', 'Batman: The Long Halloween (Batman)', 'Batman: The Dark Knight Returns (Batman)', \"Ayumi's Violin\", 'Anonymous', 'Amy Meets the Saints and Sages', 'Amid the Chaos', 'Amatus', 'Agnostic: A Spirited Manifesto', 'Zealot: The Life and Times of Jesus of Nazareth', 'You (You #1)', 'Wonder Woman: Earth One, Volume One (Wonder Woman: Earth One #1)', 'Wild Swans', 'Why the Right Went Wrong: Conservatism--From Goldwater to the Tea Party and Beyond', 'Whole Lotta Creativity Going On: 60 Fun and Unusual Exercises to Awaken and Strengthen Your Creativity', \"What's It Like in Space?: Stories from Astronauts Who've Been There\", 'We Are Robin, Vol. 1: The Vigilante Business (We Are Robin #1)', \"Walt Disney's Alice in Wonderland\", 'V for Vendetta (V for Vendetta Complete)', 'Until Friday Night (The Field Party #1)', 'Unbroken: A World War II Story of Survival, Resilience, and Redemption', 'Twenty Yawns', 'Through the Woods', 'This Is Where It Ends', 'The Year of Magical Thinking', 'The Wright Brothers', \"The White Queen (The Cousins' War #1)\", \"The Wedding Pact (The O'Malleys #2)\", 'The Time Keeper', 'The Testament of Mary', 'The Star-Touched Queen', 'The Songs of the Gods', 'The Song of Achilles', 'The Rosie Project (Don Tillman #1)', 'The Power of Habit: Why We Do What We Do in Life and Business', 'The Marriage of Opposites', 'The Lucifer Effect: Understanding How Good People Turn Evil', 'The Long Haul (Diary of a Wimpy Kid #9)', 'The Loney', 'The Literature Book (Big Ideas Simply Explained)', 'The Last Mile (Amos Decker #2)', 'The Immortal Life of Henrietta Lacks', 'The Hidden Oracle (The Trials of Apollo #1)', 'The Help Yourself Cookbook for Kids: 60 Easy Plant-Based Recipes Kids Can Make to Stay Healthy and Save the Earth', 'The Guilty (Will Robie #4)', 'The First Hostage (J.B. Collins #2)', 'The Dovekeepers', 'The Darkest Lie', 'The Bane Chronicles (The Bane Chronicles #1-11)', 'The Bad-Ass Librarians of Timbuktu: And Their Race to Save the Worldâ\\x80\\x99s Most Precious Manuscripts', 'The 14th Colony (Cotton Malone #11)', 'That Darkness (Gardiner and Renner #1)', 'Tastes Like Fear (DI Marnie Rome #3)', 'Take Me with You', 'Swell: A Year of Waves', 'Superman Vol. 1: Before Truth (Superman by Gene Luen Yang #1)', 'Still Life with Bread Crumbs', 'Steve Jobs', 'Sorting the Beef from the Bull: The Science of Food Fraud Forensics', 'Someone Like You (The Harrisons #2)', 'So Cute It Hurts!!, Vol. 6 (So Cute It Hurts!! #6)', 'Shtum', 'See America: A Celebration of Our National Parks & Treasured Sites', 'salt.', 'Robin War', 'Red Hood/Arsenal, Vol. 1: Open for Business (Red Hood/Arsenal #1)', 'Rain Fish', 'Quarter Life Poetry: Poems for the Young, Broke and Hangry', 'Pet Sematary', 'Overload: How to Unplug, Unwind, and Unleash Yourself from the Pressure of Stress', 'Once Was a Time', 'Old School (Diary of a Wimpy Kid #10)', 'No Dream Is Too High: Life Lessons From a Man Who Walked on the Moon', 'Naruto (3-in-1 Edition), Vol. 14: Includes Vols. 40, 41 & 42 (Naruto: Omnibus #14)', 'My Name Is Lucy Barton', 'My Mrs. Brown', 'My Kind of Crazy', 'Mr. Mercedes (Bill Hodges Trilogy #1)', 'More Than Music (Chasing the Dream #1)', 'Made to Stick: Why Some Ideas Survive and Others Die', 'Luis Paints the World', 'Luckiest Girl Alive', 'Lowriders to the Center of the Earth (Lowriders in Space #2)', 'Love Is a Mix Tape (Music #1)', 'Looking for Lovely: Collecting the Moments that Matter', 'Living Leadership by Insight: A Good Leader Achieves, a Great Leader Builds Monuments', 'Let It Out: A Journey Through Journaling', 'Lady Midnight (The Dark Artifices #1)', \"It's All Easy: Healthy, Delicious Weeknight Meals in under 30 Minutes\", 'Island of Dragons (Unwanteds #7)', \"I Know What I'm Doing -- and Other Lies I Tell Myself: Dispatches from a Life Under Construction\", 'I Am Pilgrim (Pilgrim #1)', 'Hyperbole and a Half: Unfortunate Situations, Flawed Coping Mechanisms, Mayhem, and Other Things That Happened', 'Hush, Hush (Hush, Hush #1)', 'Hold Your Breath (Search and Rescue #1)', 'Hamilton: The Revolution', 'Greek Mythic History', 'God: The Most Unpleasant Character in All Fiction', 'Glory over Everything: Beyond The Kitchen House', 'Feathers: Displays of Brilliant Plumage', 'Far & Away: Places on the Brink of Change: Seven Continents, Twenty-Five Years', 'Every Last Word', 'Eligible (The Austen Project #4)', 'El Deafo', 'Eight Hundred Grapes', 'Eaternity: More than 150 Deliciously Easy Vegan Recipes for a Long, Healthy, Satisfied, Joyful Life', 'Eat Fat, Get Thin', \"Don't Get Caught\", 'Doctor Sleep (The Shining #2)', 'Demigods & Magicians: Percy and Annabeth Meet the Kanes (Percy Jackson & Kane Chronicles Crossover #1-3)', 'Dear Mr. Knightley', 'Daily Fantasy Sports', 'Crazy Love: Overwhelmed by a Relentless God', 'Cometh the Hour (The Clifton Chronicles #6)', 'Code Name Verity (Code Name Verity #1)', 'Clockwork Angel (The Infernal Devices #1)', 'City of Glass (The Mortal Instruments #3)', 'City of Fallen Angels (The Mortal Instruments #4)', 'City of Bones (The Mortal Instruments #1)', 'City of Ashes (The Mortal Instruments #2)', 'Cell', 'Catching Jordan (Hundred Oaks)', 'Carry On, Warrior: Thoughts on Life Unarmed', 'Carrie', 'Buying In: The Secret Dialogue Between What We Buy and Who We Are', 'Brain on Fire: My Month of Madness', 'Batman: Europa', 'Barefoot Contessa Back to Basics', \"Barefoot Contessa at Home: Everyday Recipes You'll Make Over and Over Again\", 'Balloon Animals', 'Art Ops Vol. 1', 'Aristotle and Dante Discover the Secrets of the Universe (Aristotle and Dante Discover the Secrets of the Universe #1)', 'Angels Walking (Angels Walking #1)', 'Angels & Demons (Robert Langdon #1)', 'All the Light We Cannot See', 'Adulthood Is a Myth: A \"Sarah\\'s Scribbles\" Collection', 'Abstract City', 'A Time of Torment (Charlie Parker #14)', 'A Study in Scarlet (Sherlock Holmes #1)', 'A Series of Catastrophes and Miracles: A True Story of Love, Science, and Cancer', \"A People's History of the United States\", 'A Man Called Ove', 'A Distant Mirror: The Calamitous 14th Century', 'A Brush of Wings (Angels Walking #3)', '1491: New Revelations of the Americas Before Columbus', 'The Three Searches, Meaning, and the Story', 'Searching for Meaning in Gailana', 'Rook', 'My Kitchen Year: 136 Recipes That Saved My Life', '13 Hours: The Inside Account of What Really Happened In Benghazi', \"Will You Won't You Want Me?\", 'Tipping Point for Planet Earth: How Close Are We to the Edge?', 'The Star-Touched Queen', 'The Silent Sister (Riley MacPherson #1)', 'The Midnight Watch: A Novel of the Titanic and the Californian', 'The Lonely City: Adventures in the Art of Being Alone', 'The Gray Rhino: How to Recognize and Act on the Obvious Dangers We Ignore', 'The Golden Condom: And Other Essays on Love Lost and Found', 'The Epidemic (The Program 0.6)', 'The Dinner Party', 'The Diary of a Young Girl', 'The Children', 'Stars Above (The Lunar Chronicles #4.5)', 'Snatched: How A Drug Queen Went Undercover for the DEA and Was Kidnapped By Colombian Guerillas', 'Raspberry Pi Electronics Projects for the Evil Genius', 'Quench Your Own Thirst: Business Lessons Learned Over a Beer or Two', 'Psycho: Sanitarium (Psycho #1.5)', 'Poisonous (Max Revere Novels #3)', 'One with You (Crossfire #5)', 'No Love Allowed (Dodge Cove #1)', 'Murder at the 42nd Street Library (Raymond Ambler #1)', 'Most Wanted', 'Love, Lies and Spies', 'How to Speak Golf: An Illustrated Guide to Links Lingo', 'Hide Away (Eve Duncan #20)', 'Furiously Happy: A Funny Book About Horrible Things', 'Everyday Italian: 125 Simple and Delicious Recipes', \"Equal Is Unfair: America's Misguided Fight Against Income Inequality\", 'Eleanor & Park', 'Dirty (Dive Bar #1)', 'Can You Keep a Secret? (Fear Street Relaunch #4)', 'Boar Island (Anna Pigeon #19)', 'A Paris Apartment', 'A la Mode: 120 Recipes in 60 Pairings: Pies, Tarts, Cakes, Crisps, and More Topped with Ice Cream, Gelato, Frozen Custard, and More', 'Troublemaker: Surviving Hollywood and Scientology', 'The Widow', 'The Sleep Revolution: Transforming Your Life, One Night at a Time', 'The Improbability of Love', 'The Art of Startup Fundraising', 'Take Me Home Tonight (Rock Star Romance #3)', 'Sleeping Giants (Themis Files #1)', 'Setting the World on Fire: The Brief, Astonishing Life of St. Catherine of Siena', 'Playing with Fire', 'Off the Hook (Fishing for Trouble #1)', 'Mothering Sunday', 'Mother, Can You Not?', 'M Train', 'Lilac Girls', 'Lies and Other Acts of Love', 'Lab Girl', 'Keep Me Posted', \"It Didn't Start with You: How Inherited Family Trauma Shapes Who We Are and How to End the Cycle\", 'Grey (Fifty Shades #4)', 'Exit, Pursued by a Bear', 'Daredevils', 'Cravings: Recipes for What You Want to Eat', 'Born for This: How to Find the Work You Were Meant to Do', 'Arena', 'Adultery', \"A Mother's Reckoning: Living in the Aftermath of Tragedy\", \"A Gentleman's Position (Society of Gentlemen #3)\", '11/22/63', '10% Happier: How I Tamed the Voice in My Head, Reduced Stress Without Losing My Edge, and Found Self-Help That Actually Works', '10-Day Green Smoothie Cleanse: Lose Up to 15 Pounds in 10 Days!', 'Without Shame', 'Watchmen', 'Unlimited Intuition Now', 'Underlying Notes', 'The Shack', 'The New Brand You: Your New Image Makes the Sale for You', 'The Moosewood Cookbook: Recipes from Moosewood Restaurant, Ithaca, New York', 'The Flowers Lied', 'The Fabric of the Cosmos: Space, Time, and the Texture of Reality', 'The Book of Mormon', 'The Art and Science of Low Carbohydrate Living', 'The Alien Club', 'Suzie Snowflake: One beautiful flake (a self-esteem story)', 'Nap-a-Roo', 'NaNo What Now? Finding your editing process, revising your NaNoWriMo book and building a writing career through publishing and beyond', 'Modern Day Fables', \"If I Gave You God's Phone Number....: Searching for Spirituality in America\", 'Fruits Basket, Vol. 9 (Fruits Basket #9)', 'Dress Your Family in Corduroy and Denim', \"Don't Forget Steven\", \"Chernobyl 01:23:40: The Incredible True Story of the World's Worst Nuclear Disaster\", 'Art and Fear: Observations on the Perils (and Rewards) of Artmaking', 'A Shard of Ice (The Black Symphony Saga #1)', \"A Hero's Curse (The Unseen Chronicles #1)\", '23 Degrees South: A Tropical Tale of Changing Whether...', 'Zero to One: Notes on Startups, or How to Build the Future', 'Why Not Me?', 'When Breath Becomes Air', 'Vagabonding: An Uncommon Guide to the Art of Long-Term World Travel', 'The Unlikely Pilgrimage of Harold Fry (Harold Fry #1)', 'The New Drawing on the Right Side of the Brain', \"The Midnight Assassin: Panic, Scandal, and the Hunt for America's First Serial Killer\", 'The Martian (The Martian #1)', 'The High Mountains of Portugal', 'The Grownup', \"The E-Myth Revisited: Why Most Small Businesses Don't Work and What to Do About It\", 'South of Sunshine', 'Smarter Faster Better: The Secrets of Being Productive in Life and Business', 'Silence in the Dark (Logan Point #4)', 'Shadows of the Past (Logan Point #1)', 'Roller Girl', 'Rising Strong', 'Proofs of God: Classical Arguments from Tertullian to Barth', 'Please Kill Me: The Uncensored Oral History of Punk', 'Out of Print: City Lights Spotlight No. 14', 'My Life Next Door (My Life Next Door )', \"Miller's Valley\", \"Man's Search for Meaning\", \"Love That Boy: What Two Presidents, Eight Road Trips, and My Son Taught Me About a Parent's Expectations\", 'Living Forward: A Proven Plan to Stop Drifting and Get the Life You Want', 'Les Fleurs du Mal', 'Left Behind (Left Behind #1)', \"Kill 'Em and Leave: Searching for James Brown and the American Soul\", 'Kierkegaard: A Christian Missionary to Christians', 'John Vassos: Industrial Design for Modern Life', \"I'll Give You the Sun\", 'I Will Find You', 'Hystopia: A Novel', 'Howl and Other Poems', 'History of Beauty', \"Heaven is for Real: A Little Boy's Astounding Story of His Trip to Heaven and Back\", 'Future Shock (Future Shock #1)', \"Ender's Game (The Ender Quintet #1)\", 'Diary of a Citizen Scientist: Chasing Tiger Beetles and Other New Ways of Engaging the World', 'Death by Leisure: A Cautionary Tale', 'Brilliant Beacons: A History of the American Lighthouse', \"Brazen: The Courage to Find the You That's Been Hiding\", 'Between the World and Me', 'Being Mortal: Medicine and What Matters in the End', 'A Murder Over a Girl: Justice, Gender, Junior High', '32 Yolks', '\"Most Blessed of the Patriarchs\": Thomas Jefferson and the Empire of the Imagination', 'You Are a Badass: How to Stop Doubting Your Greatness and Start Living an Awesome Life', 'Wildlife of New York: A Five-Borough Coloring Book', 'What Happened on Beale Street (Secrets of the South Mysteries #2)', 'Unreasonable Hope: Finding Faith in the God Who Brings Purpose to Your Pain', 'Under the Tuscan Sun', \"Toddlers Are A**holes: It's Not Your Fault\", \"The Year of Living Biblically: One Man's Humble Quest to Follow the Bible as Literally as Possible\", 'The Whale', 'The Story of Art', 'The Origin of Species', 'The Great Gatsby', 'The Good Girl', 'The Glass Castle', \"The Faith of Christopher Hitchens: The Restless Soul of the World's Most Notorious Atheist\", 'The Drowning Girls', 'The Constant Princess (The Tudor Court #1)', 'The Bourne Identity (Jason Bourne #1)', \"The Bachelor Girl's Guide to Murder (Herringford and Watts Mysteries #1)\", 'The Art Book', 'The 7 Habits of Highly Effective People: Powerful Lessons in Personal Change', 'Team of Rivals: The Political Genius of Abraham Lincoln', 'Steal Like an Artist: 10 Things Nobody Told You About Being Creative', 'Sit, Stay, Love', 'Sister Dear', 'Shrunken Treasures: Literary Classics, Short, Sweet, and Silly', 'Rich Dad, Poor Dad', 'Raymie Nightingale', 'Playing from the Heart', 'Nightstruck: A Novel', 'Naturally Lean: 125 Nourishing Gluten-Free, Plant-Based Recipes--All Under 300 Calories', 'Meternity', 'Memoirs of a Geisha', 'Like Never Before (Walker Family #2)', 'Life of Pi', 'Leave This Song Behind: Teen Poetry at Its Best', \"King's Folly (The Kinsman Chronicles #1)\", 'John Adams', 'How to Cook Everything Vegetarian: Simple Meatless Recipes for Great Food (How to Cook Everything)', 'How to Be a Domestic Goddess: Baking and the Art of Comfort Cooking', 'Good in Bed (Cannie Shapiro #1)', 'Fruits Basket, Vol. 7 (Fruits Basket #7)', 'For the Love: Fighting for Grace in a World of Impossible Standards', 'Finding God in the Ruins: How God Redeems Pain', 'Every Heart a Doorway (Every Heart A Doorway #1)', 'Delivering the Truth (Quaker Midwife Mystery #1)', 'Counted With the Stars (Out from Egypt #1)', 'Chronicles, Vol. 1', 'Blue Like Jazz: Nonreligious Thoughts on Christian Spirituality', 'Benjamin Franklin: An American Life', 'At The Existentialist CafÃ©: Freedom, Being, and apricot cocktails with: Jean-Paul Sartre, Simone de Beauvoir, Albert Camus, Martin Heidegger, Edmund Husserl, Karl Jaspers, Maurice Merleau-Ponty and others', 'A Summer In Europe', 'A Short History of Nearly Everything', 'A Gathering of Shadows (Shades of Magic #2)', 'The Sound Of Love', 'The Rise and Fall of the Third Reich: A History of Nazi Germany', 'The Perks of Being a Wallflower', 'The Mysterious Affair at Styles (Hercule Poirot #1)', 'The Man Who Mistook His Wife for a Hat and Other Clinical Tales', 'The Makings of a Fatherless Child', 'The Joy of Cooking', 'The Invention of Wings', 'The Hobbit (Middle-Earth Universe)', 'The Great Railway Bazaar', 'The Golden Compass (His Dark Materials #1)', 'The God Delusion', 'The Girl You Left Behind (The Girl You Left Behind #1)', 'The Fellowship of the Ring (The Lord of the Rings #1)', 'The Collected Poems of W.B. Yeats (The Collected Works of W.B. Yeats #1)', 'The Barefoot Contessa Cookbook', \"Tell the Wolves I'm Home\", 'Ship Leaves Harbor: Essays on Travel by a Recovering Journeyman', 'Pride and Prejudice', 'Musicophilia: Tales of Music and the Brain', 'Mere Christianity', 'Me Before You (Me Before You #1)', 'In the Woods (Dublin Murder Squad #1)', 'In Cold Blood', 'How to Stop Worrying and Start Living', 'Give It Back', 'Girl, Interrupted', 'Fun Home: A Family Tragicomic', 'Fruits Basket, Vol. 6 (Fruits Basket #6)', 'Deception Point', 'Death Note, Vol. 6: Give-and-Take (Death Note #6)', 'Catherine the Great: Portrait of a Woman', 'Better Homes and Gardens New Cook Book', 'An Unquiet Mind: A Memoir of Moods and Madness', 'A Year in Provence (Provence #1)', 'World Without End (The Pillars of the Earth #2)', 'Will Grayson, Will Grayson (Will Grayson, Will Grayson)', 'Why Save the Bankers?: And Other Essays on Our Economic and Political Crisis', 'Where She Went (If I Stay #2)', 'What If?: Serious Scientific Answers to Absurd Hypothetical Questions', 'Two Summers', 'This Is Your Brain on Music: The Science of a Human Obsession', 'The Secret Garden', 'The Raven King (The Raven Cycle #4)', 'The Raven Boys (The Raven Cycle #1)', 'The Power Greens Cookbook: 140 Delicious Superfood Recipes', 'The Metamorphosis', \"The Mathews Men: Seven Brothers and the War Against Hitler's U-boats\", 'The Little Paris Bookshop', 'The Hiding Place', 'The Grand Design', 'The Firm', 'The Fault in Our Stars', 'The False Prince (The Ascendance Trilogy #1)', 'The Expatriates', 'The Dream Thieves (The Raven Cycle #2)', 'The Darkest Corners', 'The Crossover', 'The 5th Wave (The 5th Wave #1)', 'Tell the Wind and Fire', 'Tell Me Three Things', \"Talking to Girls About Duran Duran: One Young Man's Quest for True Love and a Cooler Haircut\", 'Siddhartha', 'Shiver (The Wolves of Mercy Falls #1)', 'Remember Me?', 'Red Dragon (Hannibal Lecter #1)', 'Peak: Secrets from the New Science of Expertise', 'My Mother Was Nuts', 'Mexican Today: New and Rediscovered Recipes for Contemporary Kitchens', 'Maybe Something Beautiful: How Art Transformed a Neighborhood', 'Lola and the Boy Next Door (Anna and the French Kiss #2)', 'Logan Kade (Fallen Crest High #5.5)', 'Last One Home (New Beginnings #1)', 'Killing Floor (Jack Reacher #1)', 'Kill the Boy Band', 'Isla and the Happily Ever After (Anna and the French Kiss #3)', 'If I Stay (If I Stay #1)', \"I Know Why the Caged Bird Sings (Maya Angelou's Autobiography #1)\", 'Harry Potter and the Deathly Hallows (Harry Potter #7)', 'Fruits Basket, Vol. 5 (Fruits Basket #5)', 'Foundation (Foundation (Publication Order) #1)', 'Fool Me Once', 'Find Her (Detective D.D. Warren #8)', 'Evicted: Poverty and Profit in the American City', 'Drama', 'Dracula the Un-Dead', 'Digital Fortress', 'Death Note, Vol. 5: Whiteout (Death Note #5)', 'Data, A Love Story: How I Gamed Online Dating to Meet My Match', 'Critique of Pure Reason', 'Booked', 'Blue Lily, Lily Blue (The Raven Cycle #3)', 'Approval Junkie: Adventures in Caring Too Much', 'An Abundance of Katherines', \"America's War for the Greater Middle East: A Military History\", 'Alight (The Generations Trilogy #2)', \"A Girl's Guide to Moving On (New Beginnings #2)\", 'A Game of Thrones (A Song of Ice and Fire #1)', 'A Feast for Crows (A Song of Ice and Fire #4)', 'A Clash of Kings (A Song of Ice and Fire #2)', 'Vogue Colors A to Z: A Fashion Coloring Book', 'The Shining (The Shining #1)', \"The Pilgrim's Progress\", 'The Perfect Play (Play by Play #1)', 'The Passion of Dolssa', 'The Jazz of Physics: The Secret Link Between Music and the Structure of the Universe', 'The Hunger Games (The Hunger Games #1)', 'The Hound of the Baskervilles (Sherlock Holmes #5)', 'The Gunning of America: Business and the Making of American Gun Culture', \"The Geography of Bliss: One Grump's Search for the Happiest Places in the World\", 'The Demonists (Demonist #1)', 'The Demon Prince of Momochi House, Vol. 4 (The Demon Prince of Momochi House #4)', 'The Bone Hunters (Lexy Vaughan & Steven Macaulay #2)', 'The Beast (Black Dagger Brotherhood #14)', 'Some Women', 'Shopaholic Ties the Knot (Shopaholic #3)', 'Paper and Fire (The Great Library #2)', 'Outlander (Outlander #1)', 'Orchestra of Exiles: The Story of Bronislaw Huberman, the Israel Philharmonic, and the One Thousand Jews He Saved from Nazi Horrors', 'No One Here Gets Out Alive', 'Night Shift (Night Shift #1-20)', 'Needful Things', 'Mockingjay (The Hunger Games #3)', 'Misery', 'Little Women (Little Women #1)', 'It', \"Harry Potter and the Sorcerer's Stone (Harry Potter #1)\", 'Harry Potter and the Prisoner of Azkaban (Harry Potter #3)', 'Harry Potter and the Order of the Phoenix (Harry Potter #5)', 'Harry Potter and the Half-Blood Prince (Harry Potter #6)', 'Harry Potter and the Chamber of Secrets (Harry Potter #2)', 'Gone with the Wind', 'God Is Not Great: How Religion Poisons Everything', 'Girl With a Pearl Earring', 'Fruits Basket, Vol. 4 (Fruits Basket #4)', 'Far From True (Promise Falls Trilogy #2)', 'Dark Lover (Black Dagger Brotherhood #1)', 'Confessions of a Shopaholic (Shopaholic #1)', 'Changing the Game (Play by Play #2)', 'Candide', 'Can You Keep a Secret?', 'Atlas Shrugged', 'Animal Farm', 'A Walk to Remember', \"A New Earth: Awakening to Your Life's Purpose\", 'A History of God: The 4,000-Year Quest of Judaism, Christianity, and Islam', \"'Salem's Lot\", 'Zero History (Blue Ant #3)', 'Wuthering Heights', 'World War Z: An Oral History of the Zombie War', 'Wild: From Lost to Found on the Pacific Crest Trail', \"Where'd You Go, Bernadette\", 'When You Are Engulfed in Flames', \"We the People: The Modern-Day Figures Who Have Reshaped and Affirmed the Founding Fathers' Vision of America\", 'We Are All Completely Beside Ourselves', 'Walk the Edge (Thunder Road #2)', 'Voyager (Outlander #3)', 'Very Good Lives: The Fringe Benefits of Failure and the Importance of Imagination', 'Vegan Vegetarian Omnivore: Dinner for Everyone at the Table', 'Unstuffed: Decluttering Your Home, Mind, and Soul', 'Under the Banner of Heaven: A Story of Violent Faith', 'Two Boys Kissing', 'Twilight (Twilight #1)', 'Twenties Girl', \"Trespassing Across America: One Man's Epic, Never-Done-Before (and Sort of Illegal) Hike Across the Heartland\", 'Three-Martini Lunch', 'Thinking, Fast and Slow', 'The Wild Robot', 'The Wicked + The Divine, Vol. 3: Commercial Suicide (The Wicked + The Divine)', 'The Undomestic Goddess', 'The Travelers', 'The Tipping Point: How Little Things Can Make a Big Difference', 'The Thing About Jellyfish', 'The Stand', 'The Smitten Kitchen Cookbook', 'The Silkworm (Cormoran Strike #2)', 'The Sandman, Vol. 3: Dream Country (The Sandman (volumes) #3)', 'The Rose & the Dagger (The Wrath and the Dawn #2)', 'The Road to Little Dribbling: Adventures of an American in Britain (Notes From a Small Island #2)', 'The Rise of Theodore Roosevelt (Theodore Roosevelt #1)', \"The Restaurant at the End of the Universe (Hitchhiker's Guide to the Galaxy #2)\", 'The Rest Is Noise: Listening to the Twentieth Century', 'The Red Tent', 'The Purpose Driven Life: What on Earth Am I Here for?', 'The Purest Hook (Second Circle Tattoos #3)', 'The Picture of Dorian Gray', 'The Paris Wife', 'The Obsession', 'The Nightingale', 'The New Guy (and Other Senior Year Distractions)', 'The Nanny Diaries (Nanny #1)', 'The Name of God is Mercy', 'The Maze Runner (The Maze Runner #1)', \"The Lover's Dictionary\", 'The Lonely Ones', \"The Lean Startup: How Today's Entrepreneurs Use Continuous Innovation to Create Radically Successful Businesses\", 'The Last Painting of Sara de Vos', 'The Land of 10,000 Madonnas', 'The Infinities', \"The Husband's Secret\", \"The Hitchhiker's Guide to the Galaxy (Hitchhiker's Guide to the Galaxy #1)\", 'The Guns of August', 'The Guernsey Literary and Potato Peel Pie Society', 'The Goldfinch', 'The Giver (The Giver Quartet #1)', 'The Girl with All the Gifts', 'The Girl Who Played with Fire (Millennium Trilogy #2)', \"The Girl Who Kicked the Hornet's Nest (Millennium Trilogy #3)\", 'The Exiled', 'The End of Faith: Religion, Terror, and the Future of Reason', 'The Elegant Universe: Superstrings, Hidden Dimensions, and the Quest for the Ultimate Theory', 'The Disappearing Spoon: And Other True Tales of Madness, Love, and the History of the World from the Periodic Table of the Elements', 'The Devil Wears Prada (The Devil Wears Prada #1)', 'The Demon-Haunted World: Science as a Candle in the Dark', 'The Day the Crayons Came Home (Crayons)', 'The Da Vinci Code (Robert Langdon #2)', \"The Cuckoo's Calling (Cormoran Strike #1)\", 'The Complete Stories and Poems (The Works of Edgar Allan Poe [Cameo Edition])', 'The Complete Poems', 'The Catcher in the Rye', 'The Cat in the Hat (Beginner Books B-1)', 'The Case for Christ (Cases for Christianity)', 'The Book Thief', 'The Book of Basketball: The NBA According to The Sports Guy', 'The Blind Side: Evolution of a Game', 'The Autobiography of Malcolm X', 'The Art of Simple Food: Notes, Lessons, and Recipes from a Delicious Revolution', 'The Art of Fielding', \"Surely You're Joking, Mr. Feynman!: Adventures of a Curious Character\", 'Stiff: The Curious Lives of Human Cadavers', 'Spilled Milk: Based on a True Story', 'Something Borrowed (Darcy & Rachel #1)', 'Something Blue (Darcy & Rachel #2)', 'Soldier (Talon #3)', 'Shopaholic & Baby (Shopaholic #5)', 'Seven Days in the Art World', 'Seven Brief Lessons on Physics', 'Scarlet (The Lunar Chronicles #2)', \"Sarah's Key\", 'Saga, Volume 3 (Saga (Collected Editions) #3)', 'Running with Scissors', 'Rogue Lawyer (Rogue Lawyer #1)', 'Rise of the Rocket Girls: The Women Who Propelled Us, from Missiles to the Moon to Mars', 'Rework', 'Reservations for Two', 'Red: The True Story of Red Riding Hood', 'Ready Player One', \"Quiet: The Power of Introverts in a World That Can't Stop Talking\", 'Prodigy: The Graphic Novel (Legend: The Graphic Novel #2)', 'Persepolis: The Story of a Childhood (Persepolis #1-2)', 'Packing for Mars: The Curious Science of Life in the Void', 'Outliers: The Story of Success', 'Original Fake', 'Orange Is the New Black', 'One for the Money (Stephanie Plum #1)', 'Notes from a Small Island (Notes From a Small Island #1)', 'Night (The Night Trilogy #1)', 'Neither Here nor There: Travels in Europe', 'Naked', 'Morning Star (Red Rising #3)', 'Miracles from Heaven: A Little Girl, Her Journey to Heaven, and Her Amazing Story of Healing', 'Midnight Riot (Peter Grant/ Rivers of London - books #1)', 'Me Talk Pretty One Day', 'Manuscript Found in Accra', 'Lust & Wonder', 'Lila (Gilead #3)', \"Life, the Universe and Everything (Hitchhiker's Guide to the Galaxy #3)\", 'Life Without a Recipe', 'Life After Life', 'Letter to a Christian Nation', \"Let's Pretend This Never Happened: A Mostly True Memoir\", 'Legend (Legend #1)', 'Lean In: Women, Work, and the Will to Lead', \"Lamb: The Gospel According to Biff, Christ's Childhood Pal\", 'Lady Renegades (Rebel Belle #3)', 'Jurassic Park (Jurassic Park #1)', \"It's Never Too Late to Begin Again: Discovering Creativity and Meaning at Midlife and Beyond\", 'Is Everyone Hanging Out Without Me? (And Other Concerns)', 'Into the Wild', 'Inferno (Robert Langdon #4)', \"In the Garden of Beasts: Love, Terror, and an American Family in Hitler's Berlin\", 'If I Run (If I Run #1)', \"I've Got Your Number\", 'I Am Malala: The Girl Who Stood Up for Education and Was Shot by the Taliban', 'Hungry Girl Clean & Hungry: Easy All-Natural Recipes for Healthy Eating in the Real World', 'House of Lost Worlds: Dinosaurs, Dynasties, and the Story of Life on Earth', 'House of Leaves', 'Horrible Bear!', 'Holidays on Ice', 'Heir to the Sky', 'Green Eggs and Ham (Beginner Books B-16)', 'Grayson, Vol 3: Nemesis (Grayson #3)', 'Gratitude', 'Gone Girl', 'Golden (Heart of Dread #3)', 'Girl in the Blue Coat', 'Fruits Basket, Vol. 3 (Fruits Basket #3)', 'Friday Night Lights: A Town, a Team, and a Dream', 'Fire Bound (Sea Haven/Sisters of the Heart #5)', 'Fifty Shades Freed (Fifty Shades #3)', 'Fellside', 'Extreme Prey (Lucas Davenport #26)', 'Eragon (The Inheritance Cycle #1)', 'Eclipse (Twilight #3)', 'Dune (Dune #1)', 'Dracula', 'Do Androids Dream of Electric Sheep? (Blade Runner #1)', 'Disrupted: My Misadventure in the Start-Up Bubble', 'Dead Wake: The Last Crossing of the Lusitania', 'David and Goliath: Underdogs, Misfits, and the Art of Battling Giants', 'Darkfever (Fever #1)', 'Dark Places', 'Crazy Rich Asians (Crazy Rich Asians #1)', 'Counting Thyme', 'Cosmos', 'Civilization and Its Discontents', 'Cinder (The Lunar Chronicles #1)', \"Catastrophic Happiness: Finding Joy in Childhood's Messy Years\", 'Career of Evil (Cormoran Strike #3)', 'Breaking Dawn (Twilight #4)', 'Brave Enough', 'Boy Meets Boy', 'Born to Run: A Hidden Tribe, Superathletes, and the Greatest Race the World Has Never Seen', 'Blink: The Power of Thinking Without Thinking', 'Black Flags: The Rise of ISIS', 'Black Butler, Vol. 1 (Black Butler #1)', 'Big Little Lies', 'Between Shades of Gray', \"Best of My Love (Fool's Gold #20)\", 'Beowulf', 'Beautiful Creatures (Caster Chronicles #1)', 'Awkward', 'Ash', 'Are We There Yet?', 'Are We Smart Enough to Know How Smart Animals Are?', 'Annie on My Mind', 'And Then There Were None', 'A Walk in the Woods: Rediscovering America on the Appalachian Trail', 'A Visit from the Goon Squad', 'A Storm of Swords (A Song of Ice and Fire #3)', 'A Heartbreaking Work of Staggering Genius', '8 Keys to Mental Health Through Exercise', '#GIRLBOSS', 'The Suffragettes (Little Black Classics, #96)', 'The Sense of an Ending', \"The Sandman, Vol. 2: The Doll's House (The Sandman (volumes) #2)\", 'The Course of Love', 'Sugar Rush (Offensive Line #2)', 'Saga, Volume 2 (Saga (Collected Editions) #2)', 'Run, Spot, Run: The Ethics of Keeping Pets', 'New Moon (Twilight #2)', 'Life', \"Kindle Paperwhite User's Guide\", 'H is for Hawk', 'Girl Online On Tour (Girl Online #2)', 'Fruits Basket, Vol. 2 (Fruits Basket #2)', 'Diary of a Minecraft Zombie Book 1: A Scare of a Dare (An Unofficial Minecraft Book)', 'Y: The Last Man, Vol. 1: Unmanned (Y: The Last Man #1)', 'While You Were Mine', 'Where Lightning Strikes (Bleeding Stars #3)', \"When I'm Gone\", 'Ways of Seeing', 'Vampire Knight, Vol. 1 (Vampire Knight #1)', 'Vampire Girl (Vampire Girl #1)', 'Twenty Love Poems and a Song of Despair', 'Travels with Charley: In Search of America', 'Three Wishes (River of Time: California #1)', 'This One Moment (Pushing Limits #1)', 'The Zombie Room', 'The Wicked + The Divine, Vol. 1: The Faust Act (The Wicked + The Divine)', 'The Tumor', 'The Story of Hong Gildong', 'The Silent Wife', 'The Silent Twin (Detective Jennifer Knight #3)', 'The Selfish Gene', 'The Secret Healer', 'The Sandman, Vol. 1: Preludes and Nocturnes (The Sandman (volumes) #1)', 'The Republic', 'The Odyssey', \"The No. 1 Ladies' Detective Agency (No. 1 Ladies' Detective Agency #1)\", 'The Nicomachean Ethics', 'The Name of the Wind (The Kingkiller Chronicle #1)', 'The Mirror & the Maze (The Wrath and the Dawn #1.5)', 'The Little Prince', 'The Light of the Fireflies', 'The Last Girl (The Dominion Trilogy #1)', 'The Iliad', 'The Hook Up (Game On #1)', 'The Haters', 'The Girl You Lost', 'The Girl In The Ice (DCI Erika Foster #1)', 'The End of the Jesus Era (An Investigation #1)', 'The Edge of Reason (Bridget Jones #2)', 'The Complete Maus (Maus #1-2)', 'The Communist Manifesto', 'The Bhagavad Gita', 'The Bette Davis Club', 'The Art of Not Breathing', 'Taking Shots (Assassins #1)', 'Starlark', 'Skip Beat!, Vol. 01 (Skip Beat! #1)', 'Sister Sable (The Mad Queen #1)', 'Shatter Me (Shatter Me #1)', 'Shameless', 'Shadow Rites (Jane Yellowrock #10)', 'Settling the Score (The Summer Games #1)', 'Sense and Sensibility', 'Saga, Volume 1 (Saga (Collected Editions) #1)', 'Rhythm, Chord & Malykhin', 'Rat Queens, Vol. 1: Sass & Sorcery (Rat Queens (Collected Editions) #1-5)', 'Paradise Lost (Paradise #1)', 'Paper Girls, Vol. 1 (Paper Girls #1-5)', 'Ouran High School Host Club, Vol. 1 (Ouran High School Host Club #1)', 'Origins (Alphas 0.5)', 'One Second (Seven #7)', 'On the Road (Duluoz Legend)', \"Old Records Never Die: One Man's Quest for His Vinyl and His Past\", 'Off Sides (Off #1)', 'Of Mice and Men', 'Myriad (Prentor #1)', 'My Perfect Mistake (Over the Top #1)', 'Ms. Marvel, Vol. 1: No Normal (Ms. Marvel (2014-2015) #1)', 'Meditations', 'Matilda', 'Lost Among the Living', 'Lord of the Flies', 'Listen to Me (Fusion #1)', 'Kitchens of the Great Midwest', 'Jane Eyre', 'Imperfect Harmony', 'Icing (Aces Hockey #2)', 'Hawkeye, Vol. 1: My Life as a Weapon (Hawkeye #1)', \"Having the Barbarian's Baby (Ice Planet Barbarians #7.5)\", 'Giant Days, Vol. 1 (Giant Days #1-4)', 'Fruits Basket, Vol. 1 (Fruits Basket #1)', 'Frankenstein', 'Forever Rockers (The Rocker #12)', 'Fighting Fate (Fighting #6)', 'Emma', 'Eat, Pray, Love', 'Deep Under (Walker Security #1)', \"Choosing Our Religion: The Spiritual Lives of America's Nones\", 'Charlie and the Chocolate Factory (Charlie Bucket #1)', \"Charity's Cross (Charles Towne Belles #4)\", 'Bright Lines', \"Bridget Jones's Diary (Bridget Jones #1)\", 'Bounty (Colorado Mountain #7)', 'Blood Defense (Samantha Brinkman #1)', 'Bleach, Vol. 1: Strawberry and the Soul Reapers (Bleach #1)', 'Beyond Good and Evil', \"Alice in Wonderland (Alice's Adventures in Wonderland #1)\", 'Ajin: Demi-Human, Volume 1 (Ajin: Demi-Human #1)', \"A Spy's Devotion (The Regency Spies of London #1)\", \"1st to Die (Women's Murder Club #1)\", '1,000 Places to See Before You Die'] ['Â£51.77', 'Â£53.74', 'Â£50.10', 'Â£47.82', 'Â£54.23', 'Â£22.65', 'Â£33.34', 'Â£17.93', 'Â£22.60', 'Â£52.15', 'Â£13.99', 'Â£20.66', 'Â£17.46', 'Â£52.29', 'Â£35.02', 'Â£57.25', 'Â£23.88', 'Â£37.59', 'Â£51.33', 'Â£45.17', 'Â£12.84', 'Â£37.32', 'Â£30.52', 'Â£25.27', 'Â£34.53', 'Â£54.64', 'Â£22.50', 'Â£53.13', 'Â£40.30', 'Â£44.18', 'Â£17.66', 'Â£31.05', 'Â£23.82', 'Â£36.89', 'Â£15.94', 'Â£33.29', 'Â£18.02', 'Â£19.63', 'Â£52.22', 'Â£33.63', 'Â£57.31', 'Â£26.41', 'Â£47.61', 'Â£23.11', 'Â£45.07', 'Â£31.77', 'Â£50.27', 'Â£14.27', 'Â£44.18', 'Â£18.78', 'Â£25.52', 'Â£16.28', 'Â£31.12', 'Â£19.49', 'Â£17.27', 'Â£19.09', 'Â£56.13', 'Â£56.41', 'Â£56.50', 'Â£45.22', 'Â£38.16', 'Â£54.11', 'Â£42.96', 'Â£23.89', 'Â£16.77', 'Â£20.59', 'Â£37.13', 'Â£56.06', 'Â£58.11', 'Â£49.05', 'Â£40.76', 'Â£19.73', 'Â£32.24', 'Â£41.83', 'Â£39.58', 'Â£39.25', 'Â£25.02', 'Â£51.04', 'Â£19.83', 'Â£50.40', 'Â£13.61', 'Â£13.34', 'Â£18.97', 'Â£36.28', 'Â£10.16', 'Â£15.44', 'Â£48.41', 'Â£46.35', 'Â£14.07', 'Â£14.86', 'Â£33.37', 'Â£56.40', 'Â£14.02', 'Â£46.91', 'Â£45.61', 'Â£19.92', 'Â£40.11', 'Â£53.90', 'Â£35.67', 'Â£22.00', 'Â£57.36', 'Â£29.17', 'Â£54.63', 'Â£46.03', 'Â£33.97', 'Â£22.11', 'Â£29.69', 'Â£15.97', 'Â£21.96', 'Â£54.35', 'Â£37.97', 'Â£51.99', 'Â£43.29', 'Â£36.72', 'Â£17.08', 'Â£29.14', 'Â£28.81', 'Â£49.46', 'Â£37.92', 'Â£28.09', 'Â£30.81', 'Â£42.95', 'Â£56.76', 'Â£16.64', 'Â£55.53', 'Â£28.13', 'Â£52.37', 'Â£54.00', 'Â£21.87', 'Â£43.30', 'Â£21.04', 'Â£41.60', 'Â£35.07', 'Â£59.64', 'Â£52.72', 'Â£58.08', 'Â£24.12', 'Â£42.15', 'Â£12.61', 'Â£17.44', 'Â£33.14', 'Â£27.37', 'Â£51.36', 'Â£36.00', 'Â£10.65', 'Â£43.54', 'Â£38.21', 'Â£37.34', 'Â£44.10', 'Â£43.29', 'Â£55.85', 'Â£37.60', 'Â£10.97', 'Â£41.82', 'Â£36.95', 'Â£44.28', 'Â£55.02', 'Â£17.24', 'Â£23.15', 'Â£41.25', 'Â£32.00', 'Â£38.49', 'Â£33.34', 'Â£10.93', 'Â£27.55', 'Â£55.99', 'Â£16.24', 'Â£26.12', 'Â£12.23', 'Â£23.99', 'Â£29.06', 'Â£20.27', 'Â£43.55', 'Â£36.94', 'Â£20.47', 'Â£41.06', 'Â£14.19', 'Â£38.28', 'Â£41.05', 'Â£30.25', 'Â£28.26', 'Â£10.76', 'Â£16.85', 'Â£13.47', 'Â£48.56', 'Â£19.15', 'Â£57.36', 'Â£42.98', 'Â£22.16', 'Â£49.43', 'Â£29.99', 'Â£21.36', 'Â£29.00', 'Â£53.53', 'Â£41.62', 'Â£54.59', 'Â£34.95', 'Â£37.72', 'Â£35.61', 'Â£42.16', 'Â£19.19', 'Â£19.43', 'Â£49.46', 'Â£37.80', 'Â£30.80', 'Â£27.43', 'Â£11.11', 'Â£36.50', 'Â£15.38', 'Â£15.48', 'Â£46.82', 'Â£18.46', 'Â£36.58', 'Â£50.54', 'Â£12.51', 'Â£24.70', 'Â£43.61', 'Â£37.34', 'Â£14.36', 'Â£52.65', 'Â£38.20', 'Â£19.60', 'Â£53.90', 'Â£12.96', 'Â£37.10', 'Â£46.31', 'Â£45.95', 'Â£22.08', 'Â£25.38', 'Â£27.12', 'Â£43.04', 'Â£56.80', 'Â£25.91', 'Â£32.61', 'Â£27.88', 'Â£52.67', 'Â£46.02', 'Â£44.48', 'Â£37.40', 'Â£54.04', 'Â£16.88', 'Â£28.08', 'Â£10.40', 'Â£44.07', 'Â£23.40', 'Â£17.43', 'Â£54.21', 'Â£40.67', 'Â£52.26', 'Â£28.77', 'Â£13.82', 'Â£25.85', 'Â£48.78', 'Â£35.35', 'Â£44.73', 'Â£15.77', 'Â£39.24', 'Â£13.92', 'Â£10.69', 'Â£45.21', 'Â£45.58', 'Â£11.89', 'Â£26.41', 'Â£39.50', 'Â£44.74', 'Â£52.79', 'Â£35.43', 'Â£55.84', 'Â£48.87', 'Â£46.78', 'Â£47.82', 'Â£25.48', 'Â£23.57', 'Â£50.89', 'Â£10.56', 'Â£52.15', 'Â£18.28', 'Â£11.83', 'Â£21.95', 'Â£38.39', 'Â£41.56', 'Â£24.48', 'Â£40.36', 'Â£28.90', 'Â£37.61', 'Â£38.85', 'Â£53.95', 'Â£49.83', 'Â£51.51', 'Â£18.03', 'Â£29.14', 'Â£46.91', 'Â£26.79', 'Â£16.28', 'Â£19.55', 'Â£29.65', 'Â£25.98', 'Â£10.60', 'Â£14.75', 'Â£47.02', 'Â£28.82', 'Â£58.79', 'Â£10.23', 'Â£30.03', 'Â£45.84', 'Â£49.05', 'Â£15.06', 'Â£46.47', 'Â£27.09', 'Â£57.62', 'Â£14.39', 'Â£51.75', 'Â£54.07', 'Â£55.35', 'Â£40.12', 'Â£37.51', 'Â£11.21', 'Â£36.58', 'Â£47.72', 'Â£25.01', 'Â£22.13', 'Â£44.14', 'Â£56.02', 'Â£11.23', 'Â£43.28', 'Â£47.27', 'Â£20.29', 'Â£50.83', 'Â£31.85', 'Â£46.23', 'Â£37.80', 'Â£49.32', 'Â£32.01', 'Â£28.01', 'Â£50.62', 'Â£17.03', 'Â£48.80', 'Â£58.14', 'Â£34.20', 'Â£51.48', 'Â£29.87', 'Â£10.90', 'Â£56.37', 'Â£48.35', 'Â£16.73', 'Â£56.48', 'Â£40.79', 'Â£39.72', 'Â£14.58', 'Â£55.51', 'Â£21.80', 'Â£13.33', 'Â£38.73', 'Â£37.86', 'Â£11.53', 'Â£27.06', 'Â£13.86', 'Â£37.55', 'Â£32.30', 'Â£46.29', 'Â£26.20', 'Â£33.26', 'Â£59.15', 'Â£39.43', 'Â£14.44', 'Â£56.54', 'Â£59.90', 'Â£11.88', 'Â£48.05', 'Â£21.21', 'Â£49.67', 'Â£43.14', 'Â£36.97', 'Â£26.80', 'Â£15.71', 'Â£54.65', 'Â£54.36', 'Â£35.28', 'Â£20.55', 'Â£58.32', 'Â£11.84', 'Â£41.46', 'Â£20.10', 'Â£56.86', 'Â£56.51', 'Â£40.83', 'Â£48.64', 'Â£59.48', 'Â£39.01', 'Â£38.77', 'Â£48.39', 'Â£27.26', 'Â£11.68', 'Â£59.45', 'Â£21.00', 'Â£53.98', 'Â£48.74', 'Â£21.15', 'Â£13.71', 'Â£47.67', 'Â£13.34', 'Â£16.89', 'Â£27.18', 'Â£17.28', 'Â£45.14', 'Â£40.85', 'Â£20.46', 'Â£56.27', 'Â£48.49', 'Â£51.34', 'Â£16.34', 'Â£20.50', 'Â£21.59', 'Â£21.36', 'Â£20.88', 'Â£19.53', 'Â£14.75', 'Â£48.48', 'Â£24.57', 'Â£49.71', 'Â£48.27', 'Â£58.05', 'Â£58.87', 'Â£11.82', 'Â£28.03', 'Â£44.05', 'Â£12.34', 'Â£16.68', 'Â£55.91', 'Â£24.57', 'Â£52.98', 'Â£54.40', 'Â£54.81', 'Â£25.08', 'Â£10.41', 'Â£47.44', 'Â£20.91', 'Â£33.95', 'Â£43.68', 'Â£33.23', 'Â£35.92', 'Â£48.63', 'Â£56.63', 'Â£50.49', 'Â£35.79', 'Â£34.06', 'Â£17.76', 'Â£39.36', 'Â£36.94', 'Â£43.62', 'Â£43.02', 'Â£28.45', 'Â£41.39', 'Â£51.15', 'Â£35.88', 'Â£36.91', 'Â£28.93', 'Â£38.89', 'Â£58.33', 'Â£39.67', 'Â£14.10', 'Â£21.82', 'Â£54.21', 'Â£31.19', 'Â£53.64', 'Â£36.39', 'Â£58.54', 'Â£29.48', 'Â£25.06', 'Â£12.55', 'Â£29.04', 'Â£40.72', 'Â£45.05', 'Â£47.13', 'Â£20.22', 'Â£56.48', 'Â£44.21', 'Â£21.96', 'Â£40.45', 'Â£10.29', 'Â£52.86', 'Â£55.65', 'Â£43.64', 'Â£28.41', 'Â£37.51', 'Â£11.45', 'Â£19.22', 'Â£56.91', 'Â£55.06', 'Â£13.20', 'Â£53.63', 'Â£44.48', 'Â£12.08', 'Â£22.14', 'Â£25.37', 'Â£46.33', 'Â£37.33', 'Â£25.55', 'Â£34.72', 'Â£35.96', 'Â£41.14', 'Â£10.01', 'Â£36.05', 'Â£49.03', 'Â£16.24', 'Â£39.55', 'Â£35.67', 'Â£16.62', 'Â£42.78', 'Â£52.30', 'Â£32.34', 'Â£33.17', 'Â£20.12', 'Â£20.90', 'Â£20.90', 'Â£40.20', 'Â£52.87', 'Â£51.74', 'Â£34.41', 'Â£32.38', 'Â£50.35', 'Â£11.38', 'Â£43.58', 'Â£49.67', 'Â£28.77', 'Â£13.22', 'Â£51.17', 'Â£39.61', 'Â£57.43', 'Â£46.01', 'Â£28.25', 'Â£37.05', 'Â£19.57', 'Â£45.13', 'Â£46.64', 'Â£12.16', 'Â£20.89', 'Â£17.97', 'Â£52.60', 'Â£25.77', 'Â£48.19', 'Â£29.93', 'Â£44.34', 'Â£52.40', 'Â£44.81', 'Â£57.84', 'Â£39.67', 'Â£55.02', 'Â£24.80', 'Â£59.45', 'Â£31.58', 'Â£43.27', 'Â£37.34', 'Â£17.80', 'Â£30.54', 'Â£18.77', 'Â£46.85', 'Â£15.79', 'Â£10.27', 'Â£15.42', 'Â£59.92', 'Â£50.96', 'Â£30.60', 'Â£19.27', 'Â£46.58', 'Â£48.51', 'Â£19.02', 'Â£38.38', 'Â£49.98', 'Â£46.49', 'Â£18.32', 'Â£42.14', 'Â£56.59', 'Â£20.96', 'Â£40.32', 'Â£36.39', 'Â£58.55', 'Â£39.61', 'Â£21.30', 'Â£56.88', 'Â£32.97', 'Â£47.31', 'Â£48.67', 'Â£41.73', 'Â£53.68', 'Â£14.64', 'Â£38.40', 'Â£15.08', 'Â£30.57', 'Â£57.74', 'Â£11.05', 'Â£28.58', 'Â£42.91', 'Â£24.73', 'Â£55.91', 'Â£13.76', 'Â£45.56', 'Â£47.22', 'Â£56.00', 'Â£44.58', 'Â£34.50', 'Â£11.33', 'Â£38.77', 'Â£11.83', 'Â£45.51', 'Â£41.81', 'Â£25.15', 'Â£34.22', 'Â£16.23', 'Â£11.48', 'Â£23.37', 'Â£16.28', 'Â£31.63', 'Â£24.91', 'Â£22.54', 'Â£23.63', 'Â£13.12', 'Â£59.98', 'Â£31.49', 'Â£15.52', 'Â£48.13', 'Â£38.13', 'Â£36.55', 'Â£23.32', 'Â£16.33', 'Â£32.42', 'Â£16.96', 'Â£22.37', 'Â£42.27', 'Â£38.70', 'Â£35.63', 'Â£58.00', 'Â£52.41', 'Â£32.35', 'Â£20.75', 'Â£17.49', 'Â£34.13', 'Â£58.81', 'Â£10.00', 'Â£51.22', 'Â£58.59', 'Â£31.30', 'Â£46.42', 'Â£17.21', 'Â£10.79', 'Â£52.35', 'Â£27.88', 'Â£50.26', 'Â£59.99', 'Â£28.32', 'Â£38.71', 'Â£29.85', 'Â£14.82', 'Â£16.81', 'Â£28.23', 'Â£52.11', 'Â£27.88', 'Â£59.71', 'Â£46.08', 'Â£13.73', 'Â£48.39', 'Â£49.45', 'Â£19.67', 'Â£12.36', 'Â£20.02', 'Â£12.75', 'Â£47.51', 'Â£20.44', 'Â£34.79', 'Â£28.07', 'Â£25.01', 'Â£13.90', 'Â£24.17', 'Â£31.63', 'Â£48.75', 'Â£14.74', 'Â£32.49', 'Â£27.80', 'Â£26.77', 'Â£50.44', 'Â£34.93', 'Â£12.87', 'Â£48.94', 'Â£13.38', 'Â£58.63', 'Â£21.94', 'Â£26.58', 'Â£57.22', 'Â£56.43', 'Â£55.65', 'Â£27.62', 'Â£49.56', 'Â£34.77', 'Â£17.73', 'Â£21.80', 'Â£46.02', 'Â£18.13', 'Â£30.89', 'Â£31.95', 'Â£24.04', 'Â£32.36', 'Â£21.07', 'Â£50.66', 'Â£13.66', 'Â£58.09', 'Â£30.00', 'Â£32.74', 'Â£41.93', 'Â£42.80', 'Â£53.51', 'Â£23.21', 'Â£21.14', 'Â£56.07', 'Â£14.41', 'Â£45.75', 'Â£15.77', 'Â£10.02', 'Â£48.77', 'Â£57.86', 'Â£23.59', 'Â£23.05', 'Â£55.55', 'Â£58.64', 'Â£23.21', 'Â£42.57', 'Â£10.92', 'Â£34.77', 'Â£35.66', 'Â£37.19', 'Â£12.25', 'Â£29.70', 'Â£36.80', 'Â£45.43', 'Â£26.26', 'Â£44.92', 'Â£52.53', 'Â£37.25', 'Â£20.93', 'Â£58.09', 'Â£43.59', 'Â£33.92', 'Â£55.55', 'Â£29.64', 'Â£27.41', 'Â£52.51', 'Â£47.80', 'Â£14.54', 'Â£49.53', 'Â£43.58', 'Â£12.30', 'Â£49.47', 'Â£22.14', 'Â£57.48', 'Â£43.45', 'Â£22.13', 'Â£13.03', 'Â£57.35', 'Â£44.29', 'Â£52.25', 'Â£26.33', 'Â£22.96', 'Â£19.21', 'Â£26.78', 'Â£41.32', 'Â£24.55', 'Â£16.26', 'Â£47.84', 'Â£53.49', 'Â£44.84', 'Â£53.71', 'Â£23.43', 'Â£34.32', 'Â£22.10', 'Â£25.83', 'Â£36.74', 'Â£49.51', 'Â£48.96', 'Â£54.62', 'Â£24.72', 'Â£46.45', 'Â£52.33', 'Â£30.60', 'Â£14.57', 'Â£46.29', 'Â£21.57', 'Â£12.91', 'Â£50.11', 'Â£41.67', 'Â£44.88', 'Â£11.10', 'Â£28.54', 'Â£19.07', 'Â£43.55', 'Â£43.63', 'Â£39.13', 'Â£56.68', 'Â£14.16', 'Â£31.45', 'Â£24.61', 'Â£32.87', 'Â£40.17', 'Â£13.51', 'Â£38.95', 'Â£31.69', 'Â£29.40', 'Â£57.83', 'Â£55.46', 'Â£57.60', 'Â£34.98', 'Â£11.87', 'Â£12.47', 'Â£33.26', 'Â£59.04', 'Â£26.13', 'Â£22.20', 'Â£45.11', 'Â£43.69', 'Â£25.02', 'Â£55.50', 'Â£53.04', 'Â£44.97', 'Â£42.38', 'Â£20.11', 'Â£56.70', 'Â£41.00', 'Â£28.85', 'Â£49.97', 'Â£19.69', 'Â£28.88', 'Â£33.14', 'Â£43.70', 'Â£54.89', 'Â£37.52', 'Â£51.07', 'Â£44.07', 'Â£10.79', 'Â£42.72', 'Â£26.66', 'Â£37.60', 'Â£42.21', 'Â£46.83', 'Â£45.17', 'Â£51.22', 'Â£21.28', 'Â£15.36', 'Â£38.62', 'Â£25.40', 'Â£43.87', 'Â£18.74', 'Â£54.86', 'Â£52.62', 'Â£51.48', 'Â£15.28', 'Â£39.24', 'Â£17.81', 'Â£56.02', 'Â£23.90', 'Â£49.13', 'Â£10.62', 'Â£36.17', 'Â£59.95', 'Â£26.09', 'Â£37.35', 'Â£24.72', 'Â£35.28', 'Â£51.32', 'Â£21.12', 'Â£27.35', 'Â£21.74', 'Â£40.87', 'Â£49.31', 'Â£22.11', 'Â£20.79', 'Â£27.41', 'Â£38.35', 'Â£21.55', 'Â£38.02', 'Â£22.06', 'Â£10.66', 'Â£56.58', 'Â£36.83', 'Â£35.01', 'Â£30.48', 'Â£14.08', 'Â£31.22', 'Â£54.29', 'Â£31.04', 'Â£50.96', 'Â£11.89', 'Â£31.38', 'Â£54.81', 'Â£16.78', 'Â£24.42', 'Â£11.75', 'Â£20.02', 'Â£12.86', 'Â£31.58', 'Â£34.00', 'Â£57.42', 'Â£53.47', 'Â£11.64', 'Â£52.88', 'Â£18.51', 'Â£41.32', 'Â£39.77', 'Â£51.96', 'Â£39.51', 'Â£15.40', 'Â£53.82', 'Â£30.95', 'Â£57.82', 'Â£44.18', 'Â£48.71', 'Â£19.69', 'Â£36.52', 'Â£41.56', 'Â£43.19', 'Â£12.34', 'Â£36.25', 'Â£29.45', 'Â£34.56', 'Â£54.12', 'Â£33.78', 'Â£29.64', 'Â£57.70', 'Â£36.34', 'Â£50.59', 'Â£29.38', 'Â£45.42', 'Â£54.43', 'Â£36.26', 'Â£16.16', 'Â£36.29', 'Â£27.89', 'Â£12.29', 'Â£15.85', 'Â£14.40', 'Â£19.18', 'Â£10.64', 'Â£14.76', 'Â£57.49', 'Â£30.66', 'Â£40.83', 'Â£18.88', 'Â£25.83', 'Â£42.12', 'Â£13.33', 'Â£42.40', 'Â£58.35', 'Â£21.72', 'Â£44.91', 'Â£37.46', 'Â£28.48', 'Â£28.34', 'Â£46.96', 'Â£24.96', 'Â£21.71', 'Â£29.87', 'Â£28.99', 'Â£52.94', 'Â£32.36', 'Â£55.66', 'Â£39.45', 'Â£47.11', 'Â£58.75', 'Â£38.92', 'Â£39.39', 'Â£25.89', 'Â£28.34', 'Â£27.70', 'Â£24.89', 'Â£58.99', 'Â£57.20', 'Â£38.43', 'Â£34.74', 'Â£40.44', 'Â£45.24', 'Â£34.96', 'Â£56.76', 'Â£40.28', 'Â£38.00', 'Â£28.80', 'Â£39.24', 'Â£32.93', 'Â£51.32', 'Â£47.09', 'Â£28.42', 'Â£22.85', 'Â£41.24', 'Â£39.07', 'Â£29.82', 'Â£37.26', 'Â£20.30', 'Â£34.65', 'Â£43.38', 'Â£55.53', 'Â£57.06', 'Â£16.97', 'Â£53.98', 'Â£26.08'] ['star-rating Three', 'star-rating One', 'star-rating One', 'star-rating Four', 'star-rating Five', 'star-rating One', 'star-rating Four', 'star-rating Three', 'star-rating Four', 'star-rating One', 'star-rating Two', 'star-rating Four', 'star-rating Five', 'star-rating Five', 'star-rating Five', 'star-rating Three', 'star-rating One', 'star-rating One', 'star-rating Two', 'star-rating Two', 'star-rating One', 'star-rating Two', 'star-rating Three', 'star-rating Five', 'star-rating Five', 'star-rating Three', 'star-rating Three', 'star-rating Three', 'star-rating Five', 'star-rating Four', 'star-rating Five', 'star-rating Three', 'star-rating Five', 'star-rating One', 'star-rating Five', 'star-rating Three', 'star-rating Two', 'star-rating One', 'star-rating Four', 'star-rating Two', 'star-rating Three', 'star-rating Two', 'star-rating Five', 'star-rating Five', 'star-rating Two', 'star-rating One', 'star-rating Five', 'star-rating Four', 'star-rating Four', 'star-rating Three', 'star-rating One', 'star-rating One', 'star-rating Three', 'star-rating Four', 'star-rating Five', 'star-rating One', 'star-rating One', 'star-rating One', 'star-rating Four', 'star-rating Three', 'star-rating Four', 'star-rating Three', 'star-rating Four', 'star-rating Four', 'star-rating Three', 'star-rating Five', 'star-rating One', 'star-rating One', 'star-rating Four', 'star-rating Three', 'star-rating Three', 'star-rating One', 'star-rating Five', 'star-rating Four', 'star-rating Two', 'star-rating Two', 'star-rating Three', 'star-rating Two', 'star-rating Two', 'star-rating Three', 'star-rating Five', 'star-rating Five', 'star-rating One', 'star-rating Two', 'star-rating Three', 'star-rating Four', 'star-rating One', 'star-rating One', 'star-rating Three', 'star-rating Two', 'star-rating Two', 'star-rating Two', 'star-rating Four', 'star-rating Two', 'star-rating Three', 'star-rating Two', 'star-rating One', 'star-rating Two', 'star-rating Five', 'star-rating Four', 'star-rating Five', 'star-rating Two', 'star-rating Three', 'star-rating One', 'star-rating One', 'star-rating Two', 'star-rating Three', 'star-rating Four', 'star-rating One', 'star-rating Two', 'star-rating Two', 'star-rating Four', 'star-rating Three', 'star-rating Four', 'star-rating Four', 'star-rating Five', 'star-rating Three', 'star-rating Two', 'star-rating Two', 'star-rating Two', 'star-rating One', 'star-rating One', 'star-rating Five', 'star-rating One', 'star-rating Five', 'star-rating Four', 'star-rating One', 'star-rating Five', 'star-rating Four', 'star-rating Four', 'star-rating Two', 'star-rating Three', 'star-rating Three', 'star-rating One', 'star-rating One', 'star-rating Four', 'star-rating One', 'star-rating Four', 'star-rating Five', 'star-rating Four', 'star-rating One', 'star-rating Four', 'star-rating Five', 'star-rating Two', 'star-rating One', 'star-rating Two', 'star-rating Two', 'star-rating Five', 'star-rating Four', 'star-rating Three', 'star-rating One', 'star-rating Two', 'star-rating One', 'star-rating Four', 'star-rating One', 'star-rating One', 'star-rating Two', 'star-rating One', 'star-rating Two', 'star-rating One', 'star-rating Three', 'star-rating Five', 'star-rating Five', 'star-rating Two', 'star-rating Three', 'star-rating Two', 'star-rating Four', 'star-rating Two', 'star-rating Two', 'star-rating Two', 'star-rating Three', 'star-rating One', 'star-rating Five', 'star-rating One', 'star-rating Five', 'star-rating One', 'star-rating Four', 'star-rating One', 'star-rating One', 'star-rating Five', 'star-rating Five', 'star-rating One', 'star-rating Two', 'star-rating Three', 'star-rating Five', 'star-rating Two', 'star-rating Four', 'star-rating One', 'star-rating Two', 'star-rating Four', 'star-rating Five', 'star-rating One', 'star-rating One', 'star-rating Five', 'star-rating Four', 'star-rating Four', 'star-rating Four', 'star-rating Five', 'star-rating Three', 'star-rating Three', 'star-rating Five', 'star-rating Three', 'star-rating Four', 'star-rating Two', 'star-rating Three', 'star-rating Two', 'star-rating Two', 'star-rating Two', 'star-rating Five', 'star-rating Two', 'star-rating Four', 'star-rating Three', 'star-rating One', 'star-rating Five', 'star-rating Five', 'star-rating Three', 'star-rating Five', 'star-rating Four', 'star-rating Two', 'star-rating Four', 'star-rating Four', 'star-rating Two', 'star-rating One', 'star-rating Five', 'star-rating Four', 'star-rating Two', 'star-rating Two', 'star-rating Two', 'star-rating Two', 'star-rating Two', 'star-rating Two', 'star-rating Four', 'star-rating Five', 'star-rating Three', 'star-rating Five', 'star-rating Four', 'star-rating Five', 'star-rating Five', 'star-rating Five', 'star-rating One', 'star-rating Three', 'star-rating Four', 'star-rating One', 'star-rating One', 'star-rating One', 'star-rating Three', 'star-rating Two', 'star-rating Two', 'star-rating Two', 'star-rating Three', 'star-rating Two', 'star-rating Three', 'star-rating One', 'star-rating Five', 'star-rating Four', 'star-rating One', 'star-rating One', 'star-rating One', 'star-rating One', 'star-rating Three', 'star-rating One', 'star-rating Five', 'star-rating Three', 'star-rating Five', 'star-rating Four', 'star-rating Five', 'star-rating Four', 'star-rating Four', 'star-rating Three', 'star-rating Four', 'star-rating Three', 'star-rating Two', 'star-rating Three', 'star-rating Five', 'star-rating Three', 'star-rating Three', 'star-rating Two', 'star-rating Five', 'star-rating Two', 'star-rating Two', 'star-rating One', 'star-rating Three', 'star-rating One', 'star-rating One', 'star-rating Two', 'star-rating Five', 'star-rating Three', 'star-rating Three', 'star-rating Two', 'star-rating One', 'star-rating Five', 'star-rating Four', 'star-rating Five', 'star-rating Five', 'star-rating One', 'star-rating One', 'star-rating Four', 'star-rating Four', 'star-rating Five', 'star-rating Three', 'star-rating One', 'star-rating Three', 'star-rating Five', 'star-rating Five', 'star-rating Three', 'star-rating Three', 'star-rating Four', 'star-rating Three', 'star-rating Three', 'star-rating Five', 'star-rating Four', 'star-rating Five', 'star-rating Two', 'star-rating One', 'star-rating Two', 'star-rating Five', 'star-rating Five', 'star-rating One', 'star-rating Two', 'star-rating Three', 'star-rating Four', 'star-rating One', 'star-rating Four', 'star-rating Four', 'star-rating One', 'star-rating One', 'star-rating Four', 'star-rating Three', 'star-rating Three', 'star-rating Two', 'star-rating Four', 'star-rating Five', 'star-rating Two', 'star-rating One', 'star-rating Five', 'star-rating Three', 'star-rating Three', 'star-rating Four', 'star-rating Two', 'star-rating Three', 'star-rating Five', 'star-rating Two', 'star-rating Five', 'star-rating Five', 'star-rating Two', 'star-rating Two', 'star-rating Two', 'star-rating One', 'star-rating Three', 'star-rating One', 'star-rating Three', 'star-rating Three', 'star-rating One', 'star-rating Four', 'star-rating Two', 'star-rating One', 'star-rating Three', 'star-rating One', 'star-rating Five', 'star-rating Five', 'star-rating One', 'star-rating Two', 'star-rating Four', 'star-rating One', 'star-rating Five', 'star-rating Two', 'star-rating Three', 'star-rating Three', 'star-rating Two', 'star-rating Three', 'star-rating Four', 'star-rating One', 'star-rating Five', 'star-rating Three', 'star-rating Four', 'star-rating Four', 'star-rating Four', 'star-rating Three', 'star-rating Two', 'star-rating Five', 'star-rating One', 'star-rating Four', 'star-rating Five', 'star-rating One', 'star-rating Five', 'star-rating Four', 'star-rating One', 'star-rating Three', 'star-rating Four', 'star-rating One', 'star-rating Two', 'star-rating Two', 'star-rating Four', 'star-rating One', 'star-rating Three', 'star-rating Three', 'star-rating One', 'star-rating Two', 'star-rating Three', 'star-rating Three', 'star-rating Two', 'star-rating Five', 'star-rating One', 'star-rating Two', 'star-rating One', 'star-rating One', 'star-rating Four', 'star-rating Three', 'star-rating Four', 'star-rating Four', 'star-rating Three', 'star-rating Three', 'star-rating Five', 'star-rating Four', 'star-rating Five', 'star-rating Three', 'star-rating Five', 'star-rating Three', 'star-rating Two', 'star-rating Five', 'star-rating Five', 'star-rating Four', 'star-rating Four', 'star-rating Two', 'star-rating One', 'star-rating Five', 'star-rating Four', 'star-rating Two', 'star-rating One', 'star-rating Three', 'star-rating Five', 'star-rating One', 'star-rating Five', 'star-rating One', 'star-rating Four', 'star-rating Two', 'star-rating One', 'star-rating Four', 'star-rating Three', 'star-rating One', 'star-rating Two', 'star-rating Four', 'star-rating Three', 'star-rating Three', 'star-rating Two', 'star-rating Three', 'star-rating One', 'star-rating Two', 'star-rating Two', 'star-rating Five', 'star-rating Three', 'star-rating Four', 'star-rating Two', 'star-rating One', 'star-rating One', 'star-rating One', 'star-rating One', 'star-rating Five', 'star-rating Three', 'star-rating Five', 'star-rating Five', 'star-rating Three', 'star-rating One', 'star-rating Four', 'star-rating Five', 'star-rating Five', 'star-rating Two', 'star-rating Three', 'star-rating Two', 'star-rating Three', 'star-rating Five', 'star-rating Two', 'star-rating Five', 'star-rating One', 'star-rating Four', 'star-rating One', 'star-rating One', 'star-rating Four', 'star-rating Two', 'star-rating Four', 'star-rating Two', 'star-rating Five', 'star-rating One', 'star-rating One', 'star-rating Four', 'star-rating Three', 'star-rating Two', 'star-rating Four', 'star-rating Four', 'star-rating Three', 'star-rating Two', 'star-rating Five', 'star-rating Three', 'star-rating Two', 'star-rating Five', 'star-rating Two', 'star-rating Three', 'star-rating One', 'star-rating One', 'star-rating Four', 'star-rating Four', 'star-rating Four', 'star-rating Four', 'star-rating Three', 'star-rating One', 'star-rating One', 'star-rating Three', 'star-rating Three', 'star-rating Four', 'star-rating Five', 'star-rating Two', 'star-rating Four', 'star-rating Five', 'star-rating Two', 'star-rating Three', 'star-rating Four', 'star-rating Three', 'star-rating One', 'star-rating Two', 'star-rating One', 'star-rating Four', 'star-rating Five', 'star-rating Three', 'star-rating Three', 'star-rating Two', 'star-rating Four', 'star-rating Five', 'star-rating Five', 'star-rating Four', 'star-rating Four', 'star-rating Two', 'star-rating Five', 'star-rating One', 'star-rating Three', 'star-rating Two', 'star-rating Five', 'star-rating Four', 'star-rating Five', 'star-rating Two', 'star-rating One', 'star-rating Three', 'star-rating Five', 'star-rating Two', 'star-rating Five', 'star-rating Four', 'star-rating Five', 'star-rating Two', 'star-rating Three', 'star-rating Four', 'star-rating Four', 'star-rating Two', 'star-rating Four', 'star-rating One', 'star-rating Five', 'star-rating One', 'star-rating One', 'star-rating Three', 'star-rating One', 'star-rating Two', 'star-rating Five', 'star-rating Five', 'star-rating Two', 'star-rating Three', 'star-rating Four', 'star-rating One', 'star-rating Three', 'star-rating One', 'star-rating Two', 'star-rating Four', 'star-rating Five', 'star-rating Two', 'star-rating Three', 'star-rating Four', 'star-rating Four', 'star-rating Four', 'star-rating Three', 'star-rating Four', 'star-rating Three', 'star-rating Three', 'star-rating Four', 'star-rating Four', 'star-rating Four', 'star-rating Two', 'star-rating Four', 'star-rating Four', 'star-rating One', 'star-rating One', 'star-rating Four', 'star-rating Two', 'star-rating Four', 'star-rating Five', 'star-rating One', 'star-rating Five', 'star-rating Three', 'star-rating Four', 'star-rating Three', 'star-rating Three', 'star-rating One', 'star-rating Five', 'star-rating Two', 'star-rating One', 'star-rating Five', 'star-rating Four', 'star-rating Two', 'star-rating Three', 'star-rating One', 'star-rating Four', 'star-rating Five', 'star-rating Five', 'star-rating Three', 'star-rating Three', 'star-rating Two', 'star-rating Four', 'star-rating Five', 'star-rating One', 'star-rating Four', 'star-rating Two', 'star-rating Three', 'star-rating Four', 'star-rating Five', 'star-rating Five', 'star-rating Five', 'star-rating Two', 'star-rating One', 'star-rating One', 'star-rating One', 'star-rating One', 'star-rating One', 'star-rating One', 'star-rating Two', 'star-rating Five', 'star-rating Five', 'star-rating One', 'star-rating Three', 'star-rating One', 'star-rating Five', 'star-rating Five', 'star-rating Five', 'star-rating Five', 'star-rating Two', 'star-rating Four', 'star-rating One', 'star-rating Two', 'star-rating Four', 'star-rating Three', 'star-rating Four', 'star-rating Three', 'star-rating Two', 'star-rating Three', 'star-rating Five', 'star-rating Three', 'star-rating Five', 'star-rating Two', 'star-rating Four', 'star-rating Two', 'star-rating Two', 'star-rating Two', 'star-rating Three', 'star-rating Five', 'star-rating Five', 'star-rating Five', 'star-rating Five', 'star-rating Five', 'star-rating Three', 'star-rating Five', 'star-rating Four', 'star-rating Four', 'star-rating Four', 'star-rating Two', 'star-rating Four', 'star-rating Three', 'star-rating Three', 'star-rating Four', 'star-rating Four', 'star-rating Five', 'star-rating One', 'star-rating Three', 'star-rating One', 'star-rating One', 'star-rating Four', 'star-rating Two', 'star-rating One', 'star-rating Two', 'star-rating Three', 'star-rating Three', 'star-rating One', 'star-rating Five', 'star-rating Three', 'star-rating One', 'star-rating Five', 'star-rating One', 'star-rating Four', 'star-rating One', 'star-rating Three', 'star-rating One', 'star-rating Three', 'star-rating One', 'star-rating Five', 'star-rating Three', 'star-rating One', 'star-rating Three', 'star-rating Five', 'star-rating Three', 'star-rating Two', 'star-rating One', 'star-rating One', 'star-rating Two', 'star-rating Two', 'star-rating Two', 'star-rating One', 'star-rating Three', 'star-rating One', 'star-rating Three', 'star-rating Three', 'star-rating Four', 'star-rating One', 'star-rating Two', 'star-rating One', 'star-rating Two', 'star-rating One', 'star-rating Five', 'star-rating Five', 'star-rating Four', 'star-rating One', 'star-rating Three', 'star-rating One', 'star-rating One', 'star-rating Five', 'star-rating Three', 'star-rating One', 'star-rating Two', 'star-rating Three', 'star-rating One', 'star-rating Four', 'star-rating Three', 'star-rating Five', 'star-rating Two', 'star-rating One', 'star-rating Two', 'star-rating Five', 'star-rating Three', 'star-rating Two', 'star-rating Four', 'star-rating One', 'star-rating Five', 'star-rating Three', 'star-rating Two', 'star-rating One', 'star-rating Three', 'star-rating One', 'star-rating Three', 'star-rating Two', 'star-rating One', 'star-rating Three', 'star-rating Four', 'star-rating Four', 'star-rating Five', 'star-rating One', 'star-rating Four', 'star-rating Five', 'star-rating Two', 'star-rating One', 'star-rating Four', 'star-rating Five', 'star-rating One', 'star-rating Two', 'star-rating One', 'star-rating Two', 'star-rating Five', 'star-rating Five', 'star-rating Two', 'star-rating Three', 'star-rating One', 'star-rating Two', 'star-rating Three', 'star-rating One', 'star-rating Five', 'star-rating One', 'star-rating Two', 'star-rating Two', 'star-rating Two', 'star-rating Four', 'star-rating Four', 'star-rating One', 'star-rating Five', 'star-rating Four', 'star-rating Three', 'star-rating Four', 'star-rating Two', 'star-rating Three', 'star-rating Three', 'star-rating Four', 'star-rating One', 'star-rating Three', 'star-rating One', 'star-rating Two', 'star-rating One', 'star-rating Three', 'star-rating Two', 'star-rating Two', 'star-rating One', 'star-rating One', 'star-rating Three', 'star-rating Three', 'star-rating One', 'star-rating One', 'star-rating Two', 'star-rating Two', 'star-rating Two', 'star-rating Two', 'star-rating Three', 'star-rating Two', 'star-rating Five', 'star-rating Two', 'star-rating One', 'star-rating One', 'star-rating Four', 'star-rating One', 'star-rating Five', 'star-rating Five', 'star-rating One', 'star-rating One', 'star-rating Three', 'star-rating Five', 'star-rating Five', 'star-rating Three', 'star-rating Four', 'star-rating One', 'star-rating Two', 'star-rating Three', 'star-rating Two', 'star-rating One', 'star-rating Two', 'star-rating Two', 'star-rating Four', 'star-rating Four', 'star-rating One', 'star-rating Five', 'star-rating Five', 'star-rating Four', 'star-rating Two', 'star-rating Two', 'star-rating Three', 'star-rating Four', 'star-rating Five', 'star-rating One', 'star-rating Three', 'star-rating Three', 'star-rating One', 'star-rating One', 'star-rating Three', 'star-rating One', 'star-rating Five', 'star-rating Five', 'star-rating One', 'star-rating One', 'star-rating Five', 'star-rating Five', 'star-rating One', 'star-rating Two', 'star-rating Two', 'star-rating One', 'star-rating Two', 'star-rating Two', 'star-rating Five', 'star-rating Five', 'star-rating Three', 'star-rating Two', 'star-rating Five', 'star-rating One', 'star-rating One', 'star-rating One', 'star-rating Five', 'star-rating Two', 'star-rating Two', 'star-rating Five', 'star-rating Two', 'star-rating Four', 'star-rating Three', 'star-rating One', 'star-rating Five', 'star-rating Two', 'star-rating Four', 'star-rating Five', 'star-rating Two', 'star-rating Five', 'star-rating One', 'star-rating One', 'star-rating Two', 'star-rating Three', 'star-rating One', 'star-rating Three', 'star-rating One', 'star-rating Three', 'star-rating One', 'star-rating Four', 'star-rating Five', 'star-rating Three', 'star-rating Five', 'star-rating One', 'star-rating Five', 'star-rating Four', 'star-rating Four', 'star-rating Five', 'star-rating Three', 'star-rating Three', 'star-rating Five', 'star-rating One', 'star-rating Two', 'star-rating Four', 'star-rating Five', 'star-rating Two', 'star-rating One', 'star-rating Five', 'star-rating Two', 'star-rating Five', 'star-rating Four', 'star-rating Five', 'star-rating Three', 'star-rating One', 'star-rating Three', 'star-rating Three', 'star-rating Three', 'star-rating Three', 'star-rating Four', 'star-rating One', 'star-rating Three', 'star-rating One', 'star-rating Two', 'star-rating One', 'star-rating Two', 'star-rating One', 'star-rating Five', 'star-rating Five', 'star-rating Five', 'star-rating Three', 'star-rating One', 'star-rating Four', 'star-rating Three', 'star-rating Three', 'star-rating Three', 'star-rating Three', 'star-rating Four', 'star-rating Two', 'star-rating Three', 'star-rating Three', 'star-rating Three', 'star-rating One', 'star-rating Three', 'star-rating Four', 'star-rating Two', 'star-rating One', 'star-rating One', 'star-rating Two', 'star-rating Five', 'star-rating One', 'star-rating Four', 'star-rating Three', 'star-rating One', 'star-rating Two', 'star-rating Three', 'star-rating Two', 'star-rating Five', 'star-rating Two', 'star-rating Four', 'star-rating Two', 'star-rating Four', 'star-rating Two', 'star-rating One', 'star-rating Four', 'star-rating Three', 'star-rating Three', 'star-rating Five', 'star-rating Five', 'star-rating Four', 'star-rating Four', 'star-rating Three', 'star-rating Four', 'star-rating Four', 'star-rating Five', 'star-rating Two', 'star-rating Three', 'star-rating Three', 'star-rating Two', 'star-rating Three', 'star-rating Five', 'star-rating Four', 'star-rating Three', 'star-rating One', 'star-rating Five', 'star-rating One', 'star-rating Four', 'star-rating Three', 'star-rating Five', 'star-rating One', 'star-rating One', 'star-rating Four', 'star-rating Five', 'star-rating One', 'star-rating Five']\n"
     ]
    }
   ],
   "source": [
    "all_book_names=[]\n",
    "all_prices=[]\n",
    "all_ratings=[]\n",
    "for i in all_urls:\n",
    "    all_book_names.extend(book_scraper(i)[0])\n",
    "    all_prices.extend(book_scraper(i)[1])\n",
    "    all_ratings.extend(book_scraper(i)[2])\n",
    "    time.sleep(2)\n",
    "print(all_book_names, all_prices,all_ratings)"
   ]
  },
  {
   "cell_type": "markdown",
   "metadata": {},
   "source": [
    "## Task.1 CSS Selectors"
   ]
  },
  {
   "cell_type": "code",
   "execution_count": 5,
   "metadata": {},
   "outputs": [],
   "source": [
    "def book_scraper2(url):\n",
    "    page=requests.get(url)\n",
    "    response=TextResponse(url=page.url, body=page.text,encoding=\"utf-8\" )\n",
    "    books=response.css(\"h3>a::attr(title)\").extract()\n",
    "    prices=response.css(\"p[class='price_color']::text\").extract()\n",
    "    ratings=response.css('.star-rating').xpath('./@class').extract()\n",
    "    return books, prices, ratings"
   ]
  },
  {
   "cell_type": "code",
   "execution_count": 6,
   "metadata": {
    "scrolled": true
   },
   "outputs": [
    {
     "name": "stdout",
     "output_type": "stream",
     "text": [
      "['A Light in the Attic', 'Tipping the Velvet', 'Soumission', 'Sharp Objects', 'Sapiens: A Brief History of Humankind', 'The Requiem Red', 'The Dirty Little Secrets of Getting Your Dream Job', 'The Coming Woman: A Novel Based on the Life of the Infamous Feminist, Victoria Woodhull', 'The Boys in the Boat: Nine Americans and Their Epic Quest for Gold at the 1936 Berlin Olympics', 'The Black Maria'] ['Â£51.77', 'Â£53.74', 'Â£50.10', 'Â£47.82', 'Â£54.23', 'Â£22.65', 'Â£33.34', 'Â£17.93', 'Â£22.60', 'Â£52.15'] ['star-rating Three', 'star-rating One', 'star-rating One', 'star-rating Four', 'star-rating Five', 'star-rating One', 'star-rating Four', 'star-rating Three', 'star-rating Four', 'star-rating One']\n"
     ]
    }
   ],
   "source": [
    "all_book_names2=[]\n",
    "all_prices2=[]\n",
    "all_ratings2=[]\n",
    "for i in all_urls:\n",
    "    all_book_names2.extend(book_scraper2(i)[0])\n",
    "    all_prices2.extend(book_scraper2(i)[1])\n",
    "    all_ratings2.extend(book_scraper2(i)[2])\n",
    "    time.sleep(2)\n",
    "print(all_book_names2[0:10], all_prices2[0:10],all_ratings2[0:10])"
   ]
  },
  {
   "cell_type": "markdown",
   "metadata": {},
   "source": [
    "### Task 2. Answer\tthe\tfollowing\tquestions\t(show\tyour\twork):\n",
    "- What\tis\tthe\tmost\tpopular\trating?\n",
    "- How\tmany\tbooks\ton\tthe\twebsite\thave\tthat\trating?\n",
    "- What\tis\tthe\taverage\tprice\tof\this/her\tboos?"
   ]
  },
  {
   "cell_type": "code",
   "execution_count": 7,
   "metadata": {},
   "outputs": [
    {
     "name": "stdout",
     "output_type": "stream",
     "text": [
      "['Three', 'One', 'One', 'Four', 'Five', 'One', 'Four', 'Three', 'Four', 'One']\n"
     ]
    }
   ],
   "source": [
    "#Task2_1, 2_2\n",
    "number_of_stars=[all_ratings[i].split(' ')[1] for i in range(0,len(all_ratings))]\n",
    "print(number_of_stars[0:10])"
   ]
  },
  {
   "cell_type": "code",
   "execution_count": 8,
   "metadata": {},
   "outputs": [
    {
     "data": {
      "text/plain": [
       "[['Four', 179], ['Three', 203], ['Five', 196], ['One', 226], ['Two', 196]]"
      ]
     },
     "execution_count": 8,
     "metadata": {},
     "output_type": "execute_result"
    }
   ],
   "source": [
    "#counting the most popular rating\n",
    "[[i,number_of_stars.count(i)] for i in set(number_of_stars)]"
   ]
  },
  {
   "cell_type": "markdown",
   "metadata": {},
   "source": [
    "<b> The most popular rating is One. 226 books on the website have rating of One.</b>"
   ]
  },
  {
   "cell_type": "code",
   "execution_count": 9,
   "metadata": {},
   "outputs": [
    {
     "data": {
      "text/plain": [
       "array([51.77, 53.74, 50.1 , 47.82, 54.23])"
      ]
     },
     "execution_count": 9,
     "metadata": {},
     "output_type": "execute_result"
    }
   ],
   "source": [
    "#Task 2_3\n",
    "all_prices=[all_prices[i].split('Â£')[1] for i in range(0,len(all_ratings))]\n",
    "all_prices=np.array(all_prices).astype(np.float)\n",
    "all_prices[0:5]"
   ]
  },
  {
   "cell_type": "code",
   "execution_count": 10,
   "metadata": {},
   "outputs": [
    {
     "data": {
      "text/html": [
       "<div>\n",
       "<style scoped>\n",
       "    .dataframe tbody tr th:only-of-type {\n",
       "        vertical-align: middle;\n",
       "    }\n",
       "\n",
       "    .dataframe tbody tr th {\n",
       "        vertical-align: top;\n",
       "    }\n",
       "\n",
       "    .dataframe thead th {\n",
       "        text-align: right;\n",
       "    }\n",
       "</style>\n",
       "<table border=\"1\" class=\"dataframe\">\n",
       "  <thead>\n",
       "    <tr style=\"text-align: right;\">\n",
       "      <th></th>\n",
       "      <th>stars</th>\n",
       "      <th>prices</th>\n",
       "    </tr>\n",
       "  </thead>\n",
       "  <tbody>\n",
       "    <tr>\n",
       "      <th>0</th>\n",
       "      <td>Three</td>\n",
       "      <td>51.77</td>\n",
       "    </tr>\n",
       "    <tr>\n",
       "      <th>1</th>\n",
       "      <td>One</td>\n",
       "      <td>53.74</td>\n",
       "    </tr>\n",
       "    <tr>\n",
       "      <th>2</th>\n",
       "      <td>One</td>\n",
       "      <td>50.10</td>\n",
       "    </tr>\n",
       "    <tr>\n",
       "      <th>3</th>\n",
       "      <td>Four</td>\n",
       "      <td>47.82</td>\n",
       "    </tr>\n",
       "    <tr>\n",
       "      <th>4</th>\n",
       "      <td>Five</td>\n",
       "      <td>54.23</td>\n",
       "    </tr>\n",
       "  </tbody>\n",
       "</table>\n",
       "</div>"
      ],
      "text/plain": [
       "   stars  prices\n",
       "0  Three   51.77\n",
       "1    One   53.74\n",
       "2    One   50.10\n",
       "3   Four   47.82\n",
       "4   Five   54.23"
      ]
     },
     "execution_count": 10,
     "metadata": {},
     "output_type": "execute_result"
    }
   ],
   "source": [
    "rating_price=pd.DataFrame(list(zip(number_of_stars,all_prices)), columns=(\"stars\",\"prices\"))\n",
    "rating_price.head()"
   ]
  },
  {
   "cell_type": "code",
   "execution_count": 11,
   "metadata": {},
   "outputs": [
    {
     "data": {
      "text/plain": [
       "34.5611946902655"
      ]
     },
     "execution_count": 11,
     "metadata": {},
     "output_type": "execute_result"
    }
   ],
   "source": [
    "rating_price.prices[rating_price.stars==\"One\"].mean()"
   ]
  },
  {
   "cell_type": "markdown",
   "metadata": {},
   "source": [
    "<b>Average price of the books w/ rating One is 34.561 pounds.</b>"
   ]
  },
  {
   "cell_type": "markdown",
   "metadata": {},
   "source": [
    "### Task 3. Scrape\tall\tthe\tbook\tdescriptions\tfrom\tthe\twebsite.\tSuggested\tworkflow:\n",
    "- a)\tdefine\ta\tfunction\tthat\tscrapes\tall\tthe\tindividual\tbook\tpage\tURLs\n",
    "- b)\tdefine\ta\tfunction\twhich\ttakes\tindividual\tpage URL\tas\tan\tinput and\tscrapes\tdescription.\n",
    "- c)\tuse\tfunction\t1\tto\tget\tall\tURLs\tand\tfunction.2\tto\tget\tall\tdescriptions from those\tURLs."
   ]
  },
  {
   "cell_type": "code",
   "execution_count": 12,
   "metadata": {},
   "outputs": [],
   "source": [
    "def page_scrape(url):\n",
    "    page=requests.get(url)\n",
    "    response=TextResponse(url=page.url, body=page.text,encoding=\"utf-8\")\n",
    "    names=response.xpath('//h3/a/@href').extract()\n",
    "    return names"
   ]
  },
  {
   "cell_type": "code",
   "execution_count": 13,
   "metadata": {},
   "outputs": [
    {
     "data": {
      "text/plain": [
       "['a-light-in-the-attic_1000/index.html',\n",
       " 'tipping-the-velvet_999/index.html',\n",
       " 'soumission_998/index.html',\n",
       " 'sharp-objects_997/index.html',\n",
       " 'sapiens-a-brief-history-of-humankind_996/index.html',\n",
       " 'the-requiem-red_995/index.html',\n",
       " 'the-dirty-little-secrets-of-getting-your-dream-job_994/index.html',\n",
       " 'the-coming-woman-a-novel-based-on-the-life-of-the-infamous-feminist-victoria-woodhull_993/index.html',\n",
       " 'the-boys-in-the-boat-nine-americans-and-their-epic-quest-for-gold-at-the-1936-berlin-olympics_992/index.html',\n",
       " 'the-black-maria_991/index.html',\n",
       " 'starving-hearts-triangular-trade-trilogy-1_990/index.html',\n",
       " 'shakespeares-sonnets_989/index.html',\n",
       " 'set-me-free_988/index.html',\n",
       " 'scott-pilgrims-precious-little-life-scott-pilgrim-1_987/index.html',\n",
       " 'rip-it-up-and-start-again_986/index.html',\n",
       " 'our-band-could-be-your-life-scenes-from-the-american-indie-underground-1981-1991_985/index.html',\n",
       " 'olio_984/index.html',\n",
       " 'mesaerion-the-best-science-fiction-stories-1800-1849_983/index.html',\n",
       " 'libertarianism-for-beginners_982/index.html',\n",
       " 'its-only-the-himalayas_981/index.html']"
      ]
     },
     "execution_count": 13,
     "metadata": {},
     "output_type": "execute_result"
    }
   ],
   "source": [
    "page_scrape('http://books.toscrape.com/catalogue/page-1.html')"
   ]
  },
  {
   "cell_type": "code",
   "execution_count": 14,
   "metadata": {},
   "outputs": [],
   "source": [
    "#urls of all books from all pages\n",
    "page_urls=[]\n",
    "for i in all_urls:\n",
    "    for j in range(0,len(page_scrape(i))):\n",
    "              page_urls.append('http://books.toscrape.com/catalogue/'+page_scrape(i)[j])"
   ]
  },
  {
   "cell_type": "code",
   "execution_count": 15,
   "metadata": {},
   "outputs": [
    {
     "data": {
      "text/plain": [
       "['http://books.toscrape.com/catalogue/a-light-in-the-attic_1000/index.html',\n",
       " 'http://books.toscrape.com/catalogue/tipping-the-velvet_999/index.html',\n",
       " 'http://books.toscrape.com/catalogue/soumission_998/index.html',\n",
       " 'http://books.toscrape.com/catalogue/sharp-objects_997/index.html',\n",
       " 'http://books.toscrape.com/catalogue/sapiens-a-brief-history-of-humankind_996/index.html',\n",
       " 'http://books.toscrape.com/catalogue/the-requiem-red_995/index.html',\n",
       " 'http://books.toscrape.com/catalogue/the-dirty-little-secrets-of-getting-your-dream-job_994/index.html',\n",
       " 'http://books.toscrape.com/catalogue/the-coming-woman-a-novel-based-on-the-life-of-the-infamous-feminist-victoria-woodhull_993/index.html',\n",
       " 'http://books.toscrape.com/catalogue/the-boys-in-the-boat-nine-americans-and-their-epic-quest-for-gold-at-the-1936-berlin-olympics_992/index.html',\n",
       " 'http://books.toscrape.com/catalogue/the-black-maria_991/index.html']"
      ]
     },
     "execution_count": 15,
     "metadata": {},
     "output_type": "execute_result"
    }
   ],
   "source": [
    "page_urls[0:10] #these urls will be used to scrape the description of each book"
   ]
  },
  {
   "cell_type": "code",
   "execution_count": 16,
   "metadata": {},
   "outputs": [],
   "source": [
    "def desc_scrape(URL):\n",
    "    page=requests.get(URL)\n",
    "    response=TextResponse(url=page.url, body=page.text,encoding=\"utf-8\" ) \n",
    "    description=response.xpath('//p[normalize-space(.//text())]/text()').extract()[1]\n",
    "    return description"
   ]
  },
  {
   "cell_type": "code",
   "execution_count": 18,
   "metadata": {
    "scrolled": true
   },
   "outputs": [
    {
     "name": "stdout",
     "output_type": "stream",
     "text": [
      "[\"It's hard to imagine a world without A Light in the Attic. This now-classic collection of poetry and drawings from Shel Silverstein celebrates its 20th anniversary with this special edition. Silverstein's humorous and creative verse can amuse the dowdiest of readers. Lemon-faced adults and fidgety kids sit still and read these rhythmic words and laugh and smile and love th It's hard to imagine a world without A Light in the Attic. This now-classic collection of poetry and drawings from Shel Silverstein celebrates its 20th anniversary with this special edition. Silverstein's humorous and creative verse can amuse the dowdiest of readers. Lemon-faced adults and fidgety kids sit still and read these rhythmic words and laugh and smile and love that Silverstein. Need proof of his genius? RockabyeRockabye baby, in the treetopDon't you know a treetopIs no safe place to rock?And who put you up there,And your cradle, too?Baby, I think someone down here'sGot it in for you. Shel, you never sounded so good. ...more\", '\"Erotic and absorbing...Written with starling power.\"--\"The New York Times Book Review \" Nan King, an oyster girl, is captivated by the music hall phenomenon Kitty Butler, a male impersonator extraordinaire treading the boards in Canterbury. Through a friend at the box office, Nan manages to visit all her shows and finally meet her heroine. Soon after, she becomes Kitty\\'s \"Erotic and absorbing...Written with starling power.\"--\"The New York Times Book Review \" Nan King, an oyster girl, is captivated by the music hall phenomenon Kitty Butler, a male impersonator extraordinaire treading the boards in Canterbury. Through a friend at the box office, Nan manages to visit all her shows and finally meet her heroine. Soon after, she becomes Kitty\\'s dresser and the two head for the bright lights of Leicester Square where they begin a glittering career as music-hall stars in an all-singing and dancing double act. At the same time, behind closed doors, they admit their attraction to each other and their affair begins. ...more', 'Dans une France assez proche de la nÃ´tre, un homme sâ\\x80\\x99engage dans la carriÃ¨re universitaire. Peu motivÃ© par lâ\\x80\\x99enseignement, il sâ\\x80\\x99attend Ã\\xa0 une vie ennuyeuse mais calme, protÃ©gÃ©e des grands drames historiques. Cependant les forces en jeu dans le pays ont fissurÃ© le systÃ¨me politique jusquâ\\x80\\x99Ã\\xa0 provoquer son effondrement. Cette implosion sans soubresauts, sans vraie rÃ©volution, s Dans une France assez proche de la nÃ´tre, un homme sâ\\x80\\x99engage dans la carriÃ¨re universitaire. Peu motivÃ© par lâ\\x80\\x99enseignement, il sâ\\x80\\x99attend Ã\\xa0 une vie ennuyeuse mais calme, protÃ©gÃ©e des grands drames historiques. Cependant les forces en jeu dans le pays ont fissurÃ© le systÃ¨me politique jusquâ\\x80\\x99Ã\\xa0 provoquer son effondrement. Cette implosion sans soubresauts, sans vraie rÃ©volution, se dÃ©veloppe comme un mauvais rÃªve.Le talent de lâ\\x80\\x99auteur, sa force visionnaire nous entraÃ®nent sur un terrain ambigu et glissant ; son regard sur notre civilisation vieillissante fait coexister dans ce roman les intuitions poÃ©tiques, les effets comiques, une mÃ©lancolie fataliste.Ce livre est une saisissante fable politique et morale. ...more', 'WICKED above her hipbone, GIRL across her heart Words are like a road map to reporter Camille Preakerâ\\x80\\x99s troubled past. Fresh from a brief stay at a psych hospital, Camilleâ\\x80\\x99s first assignment from the second-rate daily paper where she works brings her reluctantly back to her hometown to cover the murders of two preteen girls. NASTY on her kneecap, BABYDOLL on her leg Since WICKED above her hipbone, GIRL across her heart Words are like a road map to reporter Camille Preakerâ\\x80\\x99s troubled past. Fresh from a brief stay at a psych hospital, Camilleâ\\x80\\x99s first assignment from the second-rate daily paper where she works brings her reluctantly back to her hometown to cover the murders of two preteen girls. NASTY on her kneecap, BABYDOLL on her leg Since she left town eight years ago, Camille has hardly spoken to her neurotic, hypochondriac mother or to the half-sister she barely knows: a beautiful thirteen-year-old with an eerie grip on the town. Now, installed again in her familyâ\\x80\\x99s Victorian mansion, Camille is haunted by the childhood tragedy she has spent her whole life trying to cut from her memory. HARMFUL on her wrist, WHORE on her ankle As Camille works to uncover the truth about these violent crimes, she finds herself identifying with the young victimsâ\\x80\\x94a bit too strongly. Clues keep leading to dead ends, forcing Camille to unravel the psychological puzzle of her own past to get at the story. Dogged by her own demons, Camille will have to confront what happened to her years before if she wants to survive this homecoming.With its taut, crafted writing, Sharp Objects is addictive, haunting, and unforgettable. ...more', 'From a renowned historian comes a groundbreaking narrative of humanityâ\\x80\\x99s creation and evolutionâ\\x80\\x94a #1 international bestsellerâ\\x80\\x94that explores the ways in which biology and history have defined us and enhanced our understanding of what it means to be â\\x80\\x9chuman.â\\x80\\x9dOne hundred thousand years ago, at least six different species of humans inhabited Earth. Yet today there is only oneâ\\x80\\x94h From a renowned historian comes a groundbreaking narrative of humanityâ\\x80\\x99s creation and evolutionâ\\x80\\x94a #1 international bestsellerâ\\x80\\x94that explores the ways in which biology and history have defined us and enhanced our understanding of what it means to be â\\x80\\x9chuman.â\\x80\\x9dOne hundred thousand years ago, at least six different species of humans inhabited Earth. Yet today there is only oneâ\\x80\\x94homo sapiens. What happened to the others? And what may happen to us?Most books about the history of humanity pursue either a historical or a biological approach, but Dr. Yuval Noah Harari breaks the mold with this highly original book that begins about 70,000 years ago with the appearance of modern cognition. From examining the role evolving humans have played in the global ecosystem to charting the rise of empires, Sapiens integrates history and science to reconsider accepted narratives, connect past developments with contemporary concerns, and examine specific events within the context of larger ideas.Dr. Harari also compels us to look ahead, because over the last few decades humans have begun to bend laws of natural selection that have governed life for the past four billion years. We are acquiring the ability to design not only the world around us, but also ourselves. Where is this leading us, and what do we want to become?Featuring 27 photographs, 6 maps, and 25 illustrations/diagrams, this provocative and insightful work is sure to spark debate and is essential reading for aficionados of Jared Diamond, James Gleick, Matt Ridley, Robert Wright, and Sharon Moalem. ...more']\n"
     ]
    }
   ],
   "source": [
    "#let's get the description of all books\n",
    "all_descriptions=[]\n",
    "for i in range(0,len(page_urls)):\n",
    "    all_descriptions.append(desc_scrape(page_urls[i]))\n",
    "    time.sleep(1)\n",
    "print(all_descriptions[0:5]) #first 5 book descriptions have been printed to save the space:D"
   ]
  },
  {
   "cell_type": "markdown",
   "metadata": {},
   "source": [
    "### Task 4. Answer\tthe\tfollowing\tquestions\t(most\tprobably\tusing\tRegEx):\n",
    "- a)\tHow\tmany\tbooks\thave\ta\tnumeric\tcharacter\tin\ttitle?\n",
    "- b)\tHow\tmany\tbooks\thave\ta\tyear\tin\ttitle?\n",
    "- c)\tHow\tmany\tbooks\thave\tan\tenumerated\tcharacter\t(starting\twith\t#\tand\tfollowed\tby\ta\tnumber)\tin\ttitle?"
   ]
  },
  {
   "cell_type": "code",
   "execution_count": 20,
   "metadata": {
    "scrolled": true
   },
   "outputs": [],
   "source": [
    "p = re.compile('\\d+')\n",
    "nums=[]\n",
    "for i in all_book_names:\n",
    "    nums.append(p.findall(i))\n",
    "nums=[i for i in nums if i] #removing empty lists"
   ]
  },
  {
   "cell_type": "code",
   "execution_count": 21,
   "metadata": {
    "scrolled": true
   },
   "outputs": [
    {
     "data": {
      "text/plain": [
       "[['1936'],\n",
       " ['1'],\n",
       " ['1'],\n",
       " ['1981', '1991'],\n",
       " ['1800', '1849'],\n",
       " ['2'],\n",
       " ['1883', '1993'],\n",
       " ['10'],\n",
       " ['1'],\n",
       " ['2014']]"
      ]
     },
     "execution_count": 21,
     "metadata": {},
     "output_type": "execute_result"
    }
   ],
   "source": [
    "nums[0:10]"
   ]
  },
  {
   "cell_type": "code",
   "execution_count": 22,
   "metadata": {},
   "outputs": [
    {
     "data": {
      "text/plain": [
       "365"
      ]
     },
     "execution_count": 22,
     "metadata": {},
     "output_type": "execute_result"
    }
   ],
   "source": [
    "len(nums)"
   ]
  },
  {
   "cell_type": "markdown",
   "metadata": {},
   "source": [
    "#### There are 365 titles w/ numbers."
   ]
  },
  {
   "cell_type": "code",
   "execution_count": 23,
   "metadata": {},
   "outputs": [],
   "source": [
    "years=[]\n",
    "for i in nums:\n",
    "    for j in i:\n",
    "        if len(j)>=4:\n",
    "            years.append(i)"
   ]
  },
  {
   "cell_type": "code",
   "execution_count": 24,
   "metadata": {},
   "outputs": [
    {
     "data": {
      "text/plain": [
       "[['1936'],\n",
       " ['1981', '1991'],\n",
       " ['1981', '1991'],\n",
       " ['1800', '1849'],\n",
       " ['1800', '1849'],\n",
       " ['1883', '1993'],\n",
       " ['1883', '1993'],\n",
       " ['2014'],\n",
       " ['1980'],\n",
       " ['1491'],\n",
       " ['1', '2014', '2015', '1'],\n",
       " ['1', '2014', '2015', '1']]"
      ]
     },
     "execution_count": 24,
     "metadata": {},
     "output_type": "execute_result"
    }
   ],
   "source": [
    "years"
   ]
  },
  {
   "cell_type": "code",
   "execution_count": 25,
   "metadata": {},
   "outputs": [
    {
     "data": {
      "text/plain": [
       "12"
      ]
     },
     "execution_count": 25,
     "metadata": {},
     "output_type": "execute_result"
    }
   ],
   "source": [
    "len(years)"
   ]
  },
  {
   "cell_type": "markdown",
   "metadata": {},
   "source": [
    "#### There are 12 books with a year in title."
   ]
  },
  {
   "cell_type": "code",
   "execution_count": 27,
   "metadata": {},
   "outputs": [
    {
     "data": {
      "text/plain": [
       "313"
      ]
     },
     "execution_count": 27,
     "metadata": {},
     "output_type": "execute_result"
    }
   ],
   "source": [
    "p = re.compile('#(\\d+)')\n",
    "numbers=[]\n",
    "for i in all_book_names:\n",
    "    numbers.append(p.findall(i))\n",
    "len([i for i in numbers if i])"
   ]
  },
  {
   "cell_type": "markdown",
   "metadata": {},
   "source": [
    "#### There are 313 books an\tenumerated\tcharacter\t(starting\twith\t#\tand\tfollowed\tby\ta\tnumber)."
   ]
  }
 ],
 "metadata": {
  "kernelspec": {
   "display_name": "Python 3",
   "language": "python",
   "name": "python3"
  },
  "language_info": {
   "codemirror_mode": {
    "name": "ipython",
    "version": 3
   },
   "file_extension": ".py",
   "mimetype": "text/x-python",
   "name": "python",
   "nbconvert_exporter": "python",
   "pygments_lexer": "ipython3",
   "version": "3.6.5"
  }
 },
 "nbformat": 4,
 "nbformat_minor": 2
}
