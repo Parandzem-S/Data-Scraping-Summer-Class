{
 "cells": [
  {
   "cell_type": "markdown",
   "metadata": {},
   "source": [
    "# Part1: Selectors_xpath"
   ]
  },
  {
   "cell_type": "markdown",
   "metadata": {},
   "source": [
    "- google colab: https://colab.research.google.com/notebooks/welcome.ipynb#recent=true\n",
    "- personlization is done for css (ids,classes...),\n",
    "- looking for html components using css ids, components - css selectors\n",
    "- the next approach of scraping is xpath (providing path of the expression which should be scarpped)\n",
    "- XML???"
   ]
  },
  {
   "cell_type": "code",
   "execution_count": 1,
   "metadata": {},
   "outputs": [],
   "source": [
    "import pandas as pd\n",
    "import requests\n",
    "from scrapy.http import TextResponse\n",
    "import time\n",
    "import numpy as np"
   ]
  },
  {
   "cell_type": "code",
   "execution_count": 2,
   "metadata": {},
   "outputs": [],
   "source": [
    "url=\"http://quotes.toscrape.com/\""
   ]
  },
  {
   "cell_type": "code",
   "execution_count": 3,
   "metadata": {},
   "outputs": [],
   "source": [
    "request=requests.get(url)"
   ]
  },
  {
   "cell_type": "code",
   "execution_count": 4,
   "metadata": {},
   "outputs": [],
   "source": [
    "#TextResponse() distinguishes between text and html code\n",
    "response=TextResponse(url=request.url, #url scrapped\n",
    "                  body=request.text, #html text\n",
    "                 encoding=\"utf-8\")#encoding info)"
   ]
  },
  {
   "cell_type": "code",
   "execution_count": 5,
   "metadata": {},
   "outputs": [
    {
     "data": {
      "text/plain": [
       "['change',\n",
       " 'deep-thoughts',\n",
       " 'thinking',\n",
       " 'world',\n",
       " 'abilities',\n",
       " 'choices',\n",
       " 'inspirational',\n",
       " 'life',\n",
       " 'live',\n",
       " 'miracle',\n",
       " 'miracles',\n",
       " 'aliteracy',\n",
       " 'books',\n",
       " 'classic',\n",
       " 'humor',\n",
       " 'be-yourself',\n",
       " 'inspirational',\n",
       " 'adulthood',\n",
       " 'success',\n",
       " 'value',\n",
       " 'life',\n",
       " 'love',\n",
       " 'edison',\n",
       " 'failure',\n",
       " 'inspirational',\n",
       " 'paraphrased',\n",
       " 'misattributed-eleanor-roosevelt',\n",
       " 'humor',\n",
       " 'obvious',\n",
       " 'simile',\n",
       " 'love',\n",
       " 'inspirational',\n",
       " 'life',\n",
       " 'humor',\n",
       " 'books',\n",
       " 'reading',\n",
       " 'friendship',\n",
       " 'friends',\n",
       " 'truth',\n",
       " 'simile']"
      ]
     },
     "execution_count": 5,
     "metadata": {},
     "output_type": "execute_result"
    }
   ],
   "source": [
    "response.css(\"a[class='tag']::text\").extract()"
   ]
  },
  {
   "cell_type": "code",
   "execution_count": 6,
   "metadata": {},
   "outputs": [
    {
     "data": {
      "text/plain": [
       "['<a class=\"tag\" href=\"/tag/change/page/1/\">change</a>',\n",
       " '<a class=\"tag\" href=\"/tag/deep-thoughts/page/1/\">deep-thoughts</a>',\n",
       " '<a class=\"tag\" href=\"/tag/thinking/page/1/\">thinking</a>',\n",
       " '<a class=\"tag\" href=\"/tag/world/page/1/\">world</a>',\n",
       " '<a class=\"tag\" href=\"/tag/abilities/page/1/\">abilities</a>',\n",
       " '<a class=\"tag\" href=\"/tag/choices/page/1/\">choices</a>',\n",
       " '<a class=\"tag\" href=\"/tag/inspirational/page/1/\">inspirational</a>',\n",
       " '<a class=\"tag\" href=\"/tag/life/page/1/\">life</a>',\n",
       " '<a class=\"tag\" href=\"/tag/live/page/1/\">live</a>',\n",
       " '<a class=\"tag\" href=\"/tag/miracle/page/1/\">miracle</a>',\n",
       " '<a class=\"tag\" href=\"/tag/miracles/page/1/\">miracles</a>',\n",
       " '<a class=\"tag\" href=\"/tag/aliteracy/page/1/\">aliteracy</a>',\n",
       " '<a class=\"tag\" href=\"/tag/books/page/1/\">books</a>',\n",
       " '<a class=\"tag\" href=\"/tag/classic/page/1/\">classic</a>',\n",
       " '<a class=\"tag\" href=\"/tag/humor/page/1/\">humor</a>',\n",
       " '<a class=\"tag\" href=\"/tag/be-yourself/page/1/\">be-yourself</a>',\n",
       " '<a class=\"tag\" href=\"/tag/inspirational/page/1/\">inspirational</a>',\n",
       " '<a class=\"tag\" href=\"/tag/adulthood/page/1/\">adulthood</a>',\n",
       " '<a class=\"tag\" href=\"/tag/success/page/1/\">success</a>',\n",
       " '<a class=\"tag\" href=\"/tag/value/page/1/\">value</a>',\n",
       " '<a class=\"tag\" href=\"/tag/life/page/1/\">life</a>',\n",
       " '<a class=\"tag\" href=\"/tag/love/page/1/\">love</a>',\n",
       " '<a class=\"tag\" href=\"/tag/edison/page/1/\">edison</a>',\n",
       " '<a class=\"tag\" href=\"/tag/failure/page/1/\">failure</a>',\n",
       " '<a class=\"tag\" href=\"/tag/inspirational/page/1/\">inspirational</a>',\n",
       " '<a class=\"tag\" href=\"/tag/paraphrased/page/1/\">paraphrased</a>',\n",
       " '<a class=\"tag\" href=\"/tag/misattributed-eleanor-roosevelt/page/1/\">misattributed-eleanor-roosevelt</a>',\n",
       " '<a class=\"tag\" href=\"/tag/humor/page/1/\">humor</a>',\n",
       " '<a class=\"tag\" href=\"/tag/obvious/page/1/\">obvious</a>',\n",
       " '<a class=\"tag\" href=\"/tag/simile/page/1/\">simile</a>',\n",
       " '<a class=\"tag\" style=\"font-size: 28px\" href=\"/tag/love/\">love</a>',\n",
       " '<a class=\"tag\" style=\"font-size: 26px\" href=\"/tag/inspirational/\">inspirational</a>',\n",
       " '<a class=\"tag\" style=\"font-size: 26px\" href=\"/tag/life/\">life</a>',\n",
       " '<a class=\"tag\" style=\"font-size: 24px\" href=\"/tag/humor/\">humor</a>',\n",
       " '<a class=\"tag\" style=\"font-size: 22px\" href=\"/tag/books/\">books</a>',\n",
       " '<a class=\"tag\" style=\"font-size: 14px\" href=\"/tag/reading/\">reading</a>',\n",
       " '<a class=\"tag\" style=\"font-size: 10px\" href=\"/tag/friendship/\">friendship</a>',\n",
       " '<a class=\"tag\" style=\"font-size: 8px\" href=\"/tag/friends/\">friends</a>',\n",
       " '<a class=\"tag\" style=\"font-size: 8px\" href=\"/tag/truth/\">truth</a>',\n",
       " '<a class=\"tag\" style=\"font-size: 6px\" href=\"/tag/simile/\">simile</a>']"
      ]
     },
     "execution_count": 6,
     "metadata": {},
     "output_type": "execute_result"
    }
   ],
   "source": [
    "#instead of css selectors we can use xpath to scrape\n",
    "# the structure of xpath with full path is: response.xpath('/html/body/div/div/div/a')\n",
    "#xpath with relative xpath: response.xpath('//a[@class=\"tag\"]')\n",
    "response.xpath('//a[@class=\"tag\"]').extract()"
   ]
  },
  {
   "cell_type": "code",
   "execution_count": 7,
   "metadata": {},
   "outputs": [
    {
     "data": {
      "text/plain": [
       "['change',\n",
       " 'deep-thoughts',\n",
       " 'thinking',\n",
       " 'world',\n",
       " 'abilities',\n",
       " 'choices',\n",
       " 'inspirational',\n",
       " 'life',\n",
       " 'live',\n",
       " 'miracle',\n",
       " 'miracles',\n",
       " 'aliteracy',\n",
       " 'books',\n",
       " 'classic',\n",
       " 'humor',\n",
       " 'be-yourself',\n",
       " 'inspirational',\n",
       " 'adulthood',\n",
       " 'success',\n",
       " 'value',\n",
       " 'life',\n",
       " 'love',\n",
       " 'edison',\n",
       " 'failure',\n",
       " 'inspirational',\n",
       " 'paraphrased',\n",
       " 'misattributed-eleanor-roosevelt',\n",
       " 'humor',\n",
       " 'obvious',\n",
       " 'simile',\n",
       " 'love',\n",
       " 'inspirational',\n",
       " 'life',\n",
       " 'humor',\n",
       " 'books',\n",
       " 'reading',\n",
       " 'friendship',\n",
       " 'friends',\n",
       " 'truth',\n",
       " 'simile']"
      ]
     },
     "execution_count": 7,
     "metadata": {},
     "output_type": "execute_result"
    }
   ],
   "source": [
    "#taking only text\n",
    "response.xpath('//a[@class=\"tag\"]/text()').extract()"
   ]
  },
  {
   "cell_type": "markdown",
   "metadata": {},
   "source": [
    "## !xpath approach is faster than css selectors approach."
   ]
  },
  {
   "cell_type": "code",
   "execution_count": null,
   "metadata": {},
   "outputs": [],
   "source": []
  },
  {
   "cell_type": "code",
   "execution_count": 8,
   "metadata": {},
   "outputs": [
    {
     "data": {
      "text/plain": [
       "['“The world as we have created it is a process of our thinking. It cannot be changed without changing our thinking.”',\n",
       " '“It is our choices, Harry, that show what we truly are, far more than our abilities.”',\n",
       " '“There are only two ways to live your life. One is as though nothing is a miracle. The other is as though everything is a miracle.”',\n",
       " '“The person, be it gentleman or lady, who has not pleasure in a good novel, must be intolerably stupid.”',\n",
       " \"“Imperfection is beauty, madness is genius and it's better to be absolutely ridiculous than absolutely boring.”\",\n",
       " '“Try not to become a man of success. Rather become a man of value.”',\n",
       " '“It is better to be hated for what you are than to be loved for what you are not.”',\n",
       " \"“I have not failed. I've just found 10,000 ways that won't work.”\",\n",
       " \"“A woman is like a tea bag; you never know how strong it is until it's in hot water.”\",\n",
       " '“A day without sunshine is like, you know, night.”']"
      ]
     },
     "execution_count": 8,
     "metadata": {},
     "output_type": "execute_result"
    }
   ],
   "source": [
    "response.xpath('//span[@class=\"text\"]/text()').extract()"
   ]
  },
  {
   "cell_type": "code",
   "execution_count": 9,
   "metadata": {},
   "outputs": [
    {
     "data": {
      "text/plain": [
       "['Albert Einstein',\n",
       " 'J.K. Rowling',\n",
       " 'Albert Einstein',\n",
       " 'Jane Austen',\n",
       " 'Marilyn Monroe',\n",
       " 'Albert Einstein',\n",
       " 'André Gide',\n",
       " 'Thomas A. Edison',\n",
       " 'Eleanor Roosevelt',\n",
       " 'Steve Martin']"
      ]
     },
     "execution_count": 9,
     "metadata": {},
     "output_type": "execute_result"
    }
   ],
   "source": [
    "response.xpath('//small[@class=\"author\"]/text()').extract()"
   ]
  },
  {
   "cell_type": "code",
   "execution_count": 23,
   "metadata": {},
   "outputs": [],
   "source": [
    "def author_scraper(URL):\n",
    "    page=requests.get(URL)\n",
    "    response=TextResponse(url=page.url, body=page.text,encoding=\"utf-8\")\n",
    "    authors=response.xpath('//small[@class=\"author\"]/text()').extract()\n",
    "    return authors"
   ]
  },
  {
   "cell_type": "code",
   "execution_count": 24,
   "metadata": {},
   "outputs": [
    {
     "data": {
      "text/plain": [
       "['George R.R. Martin',\n",
       " 'C.S. Lewis',\n",
       " 'Marilyn Monroe',\n",
       " 'Marilyn Monroe',\n",
       " 'Albert Einstein',\n",
       " 'Marilyn Monroe',\n",
       " 'Marilyn Monroe',\n",
       " 'Martin Luther King Jr.',\n",
       " 'J.K. Rowling',\n",
       " 'James Baldwin']"
      ]
     },
     "execution_count": 24,
     "metadata": {},
     "output_type": "execute_result"
    }
   ],
   "source": [
    "author_scraper('http://quotes.toscrape.com/page/5/')"
   ]
  },
  {
   "cell_type": "code",
   "execution_count": 29,
   "metadata": {},
   "outputs": [],
   "source": [
    "all_urls=['http://quotes.toscrape.com/page/{}/'.format(i) for i in range(1,11)]"
   ]
  },
  {
   "cell_type": "code",
   "execution_count": 30,
   "metadata": {},
   "outputs": [
    {
     "data": {
      "text/plain": [
       "['http://quotes.toscrape.com/page/1/',\n",
       " 'http://quotes.toscrape.com/page/2/',\n",
       " 'http://quotes.toscrape.com/page/3/',\n",
       " 'http://quotes.toscrape.com/page/4/',\n",
       " 'http://quotes.toscrape.com/page/5/',\n",
       " 'http://quotes.toscrape.com/page/6/',\n",
       " 'http://quotes.toscrape.com/page/7/',\n",
       " 'http://quotes.toscrape.com/page/8/',\n",
       " 'http://quotes.toscrape.com/page/9/',\n",
       " 'http://quotes.toscrape.com/page/10/']"
      ]
     },
     "execution_count": 30,
     "metadata": {},
     "output_type": "execute_result"
    }
   ],
   "source": [
    "all_urls"
   ]
  },
  {
   "cell_type": "code",
   "execution_count": 31,
   "metadata": {},
   "outputs": [
    {
     "name": "stdout",
     "output_type": "stream",
     "text": [
      "['Albert Einstein', 'J.K. Rowling', 'Albert Einstein', 'Jane Austen', 'Marilyn Monroe', 'Albert Einstein', 'André Gide', 'Thomas A. Edison', 'Eleanor Roosevelt', 'Steve Martin', 'Marilyn Monroe', 'J.K. Rowling', 'Albert Einstein', 'Bob Marley', 'Dr. Seuss', 'Douglas Adams', 'Elie Wiesel', 'Friedrich Nietzsche', 'Mark Twain', 'Allen Saunders', 'Pablo Neruda', 'Ralph Waldo Emerson', 'Mother Teresa', 'Garrison Keillor', 'Jim Henson', 'Dr. Seuss', 'Albert Einstein', 'J.K. Rowling', 'Albert Einstein', 'Bob Marley', 'Dr. Seuss', 'J.K. Rowling', 'Bob Marley', 'Mother Teresa', 'J.K. Rowling', 'Charles M. Schulz', 'William Nicholson', 'Albert Einstein', 'Jorge Luis Borges', 'George Eliot', 'George R.R. Martin', 'C.S. Lewis', 'Marilyn Monroe', 'Marilyn Monroe', 'Albert Einstein', 'Marilyn Monroe', 'Marilyn Monroe', 'Martin Luther King Jr.', 'J.K. Rowling', 'James Baldwin', 'Jane Austen', 'Eleanor Roosevelt', 'Marilyn Monroe', 'Albert Einstein', 'Haruki Murakami', 'Alexandre Dumas fils', 'Stephenie Meyer', 'Ernest Hemingway', 'Helen Keller', 'George Bernard Shaw', 'Charles Bukowski', 'Suzanne Collins', 'Suzanne Collins', 'C.S. Lewis', 'J.R.R. Tolkien', 'J.K. Rowling', 'Ernest Hemingway', 'Ralph Waldo Emerson', 'Mark Twain', 'Dr. Seuss', 'Alfred Tennyson', 'Charles Bukowski', 'Terry Pratchett', 'Dr. Seuss', 'J.D. Salinger', 'George Carlin', 'John Lennon', 'W.C. Fields', 'Ayn Rand', 'Mark Twain', 'Albert Einstein', 'Jane Austen', 'J.K. Rowling', 'Jane Austen', 'Jane Austen', 'C.S. Lewis', 'C.S. Lewis', 'Mark Twain', 'Mark Twain', 'C.S. Lewis', 'J.K. Rowling', 'Jimi Hendrix', 'J.M. Barrie', 'E.E. Cummings', 'Khaled Hosseini', 'Harper Lee', \"Madeleine L'Engle\", 'Mark Twain', 'Dr. Seuss', 'George R.R. Martin']\n"
     ]
    }
   ],
   "source": [
    "all_authors=[]\n",
    "for i in all_urls:\n",
    "    all_authors.extend(author_scraper(i))\n",
    "    time.sleep(2)\n",
    "print(all_authors)"
   ]
  },
  {
   "cell_type": "code",
   "execution_count": 25,
   "metadata": {},
   "outputs": [],
   "source": [
    "my_authors=[]\n",
    "i=1\n",
    "while True:\n",
    "    url='http://quotes.toscrape.com/page/{}/'.format(i)\n",
    "    currnet_authors=author_scraper(url)\n",
    "    if len(currnet_authors)==0:\n",
    "        break\n",
    "    else:\n",
    "        my_authors.extend(author_scraper(url))\n",
    "        i=i+1"
   ]
  },
  {
   "cell_type": "code",
   "execution_count": 26,
   "metadata": {},
   "outputs": [
    {
     "name": "stdout",
     "output_type": "stream",
     "text": [
      "['Albert Einstein', 'J.K. Rowling', 'Albert Einstein', 'Jane Austen', 'Marilyn Monroe', 'Albert Einstein', 'André Gide', 'Thomas A. Edison', 'Eleanor Roosevelt', 'Steve Martin', 'Marilyn Monroe', 'J.K. Rowling', 'Albert Einstein', 'Bob Marley', 'Dr. Seuss', 'Douglas Adams', 'Elie Wiesel', 'Friedrich Nietzsche', 'Mark Twain', 'Allen Saunders', 'Pablo Neruda', 'Ralph Waldo Emerson', 'Mother Teresa', 'Garrison Keillor', 'Jim Henson', 'Dr. Seuss', 'Albert Einstein', 'J.K. Rowling', 'Albert Einstein', 'Bob Marley', 'Dr. Seuss', 'J.K. Rowling', 'Bob Marley', 'Mother Teresa', 'J.K. Rowling', 'Charles M. Schulz', 'William Nicholson', 'Albert Einstein', 'Jorge Luis Borges', 'George Eliot', 'George R.R. Martin', 'C.S. Lewis', 'Marilyn Monroe', 'Marilyn Monroe', 'Albert Einstein', 'Marilyn Monroe', 'Marilyn Monroe', 'Martin Luther King Jr.', 'J.K. Rowling', 'James Baldwin', 'Jane Austen', 'Eleanor Roosevelt', 'Marilyn Monroe', 'Albert Einstein', 'Haruki Murakami', 'Alexandre Dumas fils', 'Stephenie Meyer', 'Ernest Hemingway', 'Helen Keller', 'George Bernard Shaw', 'Charles Bukowski', 'Suzanne Collins', 'Suzanne Collins', 'C.S. Lewis', 'J.R.R. Tolkien', 'J.K. Rowling', 'Ernest Hemingway', 'Ralph Waldo Emerson', 'Mark Twain', 'Dr. Seuss', 'Alfred Tennyson', 'Charles Bukowski', 'Terry Pratchett', 'Dr. Seuss', 'J.D. Salinger', 'George Carlin', 'John Lennon', 'W.C. Fields', 'Ayn Rand', 'Mark Twain', 'Albert Einstein', 'Jane Austen', 'J.K. Rowling', 'Jane Austen', 'Jane Austen', 'C.S. Lewis', 'C.S. Lewis', 'Mark Twain', 'Mark Twain', 'C.S. Lewis', 'J.K. Rowling', 'Jimi Hendrix', 'J.M. Barrie', 'E.E. Cummings', 'Khaled Hosseini', 'Harper Lee', \"Madeleine L'Engle\", 'Mark Twain', 'Dr. Seuss', 'George R.R. Martin']\n"
     ]
    }
   ],
   "source": [
    "print(my_authors)"
   ]
  },
  {
   "cell_type": "markdown",
   "metadata": {},
   "source": [
    "# Part 2. Staff.am"
   ]
  },
  {
   "cell_type": "code",
   "execution_count": 32,
   "metadata": {},
   "outputs": [],
   "source": [
    "url2='https://staff.am/en/jobs'"
   ]
  },
  {
   "cell_type": "code",
   "execution_count": 63,
   "metadata": {},
   "outputs": [],
   "source": [
    "def job_scrapper(URL):\n",
    "    page2=requests.get(URL)\n",
    "    response=TextResponse(url=page2.url, body=page2.text,encoding=\"utf-8\")\n",
    "    jobs=response.xpath('//p[@class=\"font_bold\"]/text()').extract()\n",
    "    return jobs"
   ]
  },
  {
   "cell_type": "code",
   "execution_count": 64,
   "metadata": {},
   "outputs": [
    {
     "data": {
      "text/plain": [
       "['Wine Marketing Manager',\n",
       " 'System Administrator',\n",
       " 'Customs clearance specialist',\n",
       " 'Branch Representative',\n",
       " 'Contact Centre Intern',\n",
       " 'Node.js, React.js Developer',\n",
       " 'Service center logistics manager ',\n",
       " 'Junior PHP developer',\n",
       " 'Sr. Software Engineer, Front End',\n",
       " 'QA Automation Engineer',\n",
       " 'Incoming Tour agent for German Speaking Market',\n",
       " 'Front Desk Manager',\n",
       " 'HR assistant',\n",
       " 'Brand/Import manager']"
      ]
     },
     "execution_count": 64,
     "metadata": {},
     "output_type": "execute_result"
    }
   ],
   "source": [
    "job_scrapper('https://staff.am/en/jobs?page=13&per-page=50/')"
   ]
  },
  {
   "cell_type": "code",
   "execution_count": 65,
   "metadata": {},
   "outputs": [
    {
     "data": {
      "text/plain": [
       "['https://staff.am/en/jobs?page=0&per-page=50/',\n",
       " 'https://staff.am/en/jobs?page=1&per-page=50/',\n",
       " 'https://staff.am/en/jobs?page=2&per-page=50/',\n",
       " 'https://staff.am/en/jobs?page=3&per-page=50/',\n",
       " 'https://staff.am/en/jobs?page=4&per-page=50/',\n",
       " 'https://staff.am/en/jobs?page=5&per-page=50/',\n",
       " 'https://staff.am/en/jobs?page=6&per-page=50/',\n",
       " 'https://staff.am/en/jobs?page=7&per-page=50/',\n",
       " 'https://staff.am/en/jobs?page=8&per-page=50/',\n",
       " 'https://staff.am/en/jobs?page=9&per-page=50/',\n",
       " 'https://staff.am/en/jobs?page=10&per-page=50/',\n",
       " 'https://staff.am/en/jobs?page=11&per-page=50/',\n",
       " 'https://staff.am/en/jobs?page=12&per-page=50/',\n",
       " 'https://staff.am/en/jobs?page=13&per-page=50/']"
      ]
     },
     "execution_count": 65,
     "metadata": {},
     "output_type": "execute_result"
    }
   ],
   "source": [
    "all_urls2=['https://staff.am/en/jobs?page={}&per-page=50/'.format(i) for i in range(0,14)]\n",
    "all_urls2"
   ]
  },
  {
   "cell_type": "code",
   "execution_count": 66,
   "metadata": {
    "scrolled": false
   },
   "outputs": [
    {
     "name": "stdout",
     "output_type": "stream",
     "text": [
      "['Translator (Arabic Language)', 'Translator (Chinese Language)', 'IT Business Analyst ', 'Senior Front-End Developer', 'Mid-level Java Developer', 'Software Quality Assurance Engineer', 'LEADING SYSTEM ADMINISTRATOR', 'Accountant', 'Seller Consultant', 'Հեծանվային Տեխնիկ', 'Լոգիստիկայի բաժնի մենեջեր', 'Waiter/Waitress with foreign language Knowledge', 'Sales Manager', 'Sales manager ', 'Receptionist ', 'Գանձապահ', 'Հաշվապահ', 'Մեծածախ շուկայի և մարզային դիստրիբյուտորային մենեջերների պատասխանատու', 'Sales-engineer', 'Սուպերմարկետի տնօրեն', 'Computer operator', 'Experienced .NET Developer', 'Android Developer', 'ISMS Manager and Information Security Specialist', 'Sales Lead', 'ՀՀ Գեղարքունիքի մարզի «Լիճքի միջնակարգ դպրոց» ՊՈԱԿ-ի տնօրենի թափուր պաշտոնի մրցույթ', 'German Speaking HR Recruitment Specialist (m/f) in Yerevan', 'Business Developer, Yerevan', 'ՀՀ Արագածոտնի մարզի «Վերին Սասնաշենի հիմնական դպրոց» ՊՈԱԿ-ի տնօրենի թափուր պաշտոնի մրցույթ', 'HR-Manager (m/w) in Yerevan', 'Business Development Assistant ', 'Financial Manager / Specialist ', 'QA Engineer', 'Graphic designer ', 'Senior engineer, Kapan', 'Target marketing analyst', 'Lawyer with IT knowledge', 'Front-end Developer Internship (3-6 month)', 'Back-end Developer Internship (3-6 month)', 'Senior Java Engineer ', 'Front-end Software Engineer II', 'Sr. Java Software Engineer', 'Accountant/bookkeeper', 'Sales Specialist', 'Graphic Designer', 'Automation QA Engineer', 'Գանձապահ-վաճառողուհի', 'Manual QA Engineer', 'Financial analyst', 'PHP\\\\Yii2\\\\JS senior developer', 'Translator (Arabic Language)', 'Translator (Chinese Language)', 'IT Business Analyst ', 'Senior Front-End Developer', 'Mid-level Java Developer', 'Software Quality Assurance Engineer', 'LEADING SYSTEM ADMINISTRATOR', 'Accountant', 'Seller Consultant', 'Հեծանվային Տեխնիկ', 'Լոգիստիկայի բաժնի մենեջեր', 'Waiter/Waitress with foreign language Knowledge', 'Sales Manager', 'Sales manager ', 'Receptionist ', 'Գանձապահ', 'Հաշվապահ', 'Մեծածախ շուկայի և մարզային դիստրիբյուտորային մենեջերների պատասխանատու', 'Sales-engineer', 'Սուպերմարկետի տնօրեն', 'Computer operator', 'Experienced .NET Developer', 'Android Developer', 'ISMS Manager and Information Security Specialist', 'Sales Lead', 'ՀՀ Գեղարքունիքի մարզի «Լիճքի միջնակարգ դպրոց» ՊՈԱԿ-ի տնօրենի թափուր պաշտոնի մրցույթ', 'German Speaking HR Recruitment Specialist (m/f) in Yerevan', 'Business Developer, Yerevan', 'ՀՀ Արագածոտնի մարզի «Վերին Սասնաշենի հիմնական դպրոց» ՊՈԱԿ-ի տնօրենի թափուր պաշտոնի մրցույթ', 'HR-Manager (m/w) in Yerevan', 'Business Development Assistant ', 'Financial Manager / Specialist ', 'QA Engineer', 'Graphic designer ', 'Senior engineer, Kapan', 'Target marketing analyst', 'Lawyer with IT knowledge', 'Front-end Developer Internship (3-6 month)', 'Back-end Developer Internship (3-6 month)', 'Senior Java Engineer ', 'Front-end Software Engineer II', 'Sr. Java Software Engineer', 'Accountant/bookkeeper', 'Sales Specialist', 'Graphic Designer', 'Automation QA Engineer', 'Գանձապահ-վաճառողուհի', 'Manual QA Engineer', 'Financial analyst', 'PHP\\\\Yii2\\\\JS senior developer', 'Expeditor', 'Accountant assistant', 'Electronics engineer', 'Ֆինանսական խորհրդատու/ ք. Հրազդան', 'Միկրո հաճախորդների խորհրդատու/ ք. Երևան, ք. Գյումրի', 'Բիզնես խորհրդատու/ք. Երևան, ք. Արտաշատ, ք. Գյումրի', 'Fullstack Web Developer', 'Business Analyst ', 'Administrative assistant', 'Software Engineer', 'DeLonghi seller promoter', 'Client Adviser in Berd Branch', 'Loan Officer in Stepanavan Branch ', 'Security Shift Head', 'Junior Android Developer', 'Graphic Designer', 'Mid Javascript Developer', 'Customer Care and Sales Specialist', 'Software Developer', 'Web Developer', 'Affiliate Team Lead ', 'Որակի վերահսկման պատասխանատու', 'Junior Finance Specialist', 'Կոմերցիայի մասնագետ', 'Գնումների մասնագետ / տենդերների մասնագետ', 'Գլխավոր տնօրենի օգնական / գործավարուհի', 'Sales consultant', 'Sales Agent', 'Senior Full Stack Developer (PHP)', 'Supplied Services intern', 'Սրահի մենեջերի օգնական', 'System Administrator, Information Technology', 'Mid/Senior Angular Developer', 'Call for Tender_Local consultancy services ', 'LO of Artashat Branch', 'Call Center Agent – German Language (Mixed shifts)', 'System Administrator', 'Accountant', 'Սպառողական վարկավորման մասնագետ (Գյումրի մասնաճյուղ)', 'German Speaking Customer Service Representative (m/w) in Yerevan', 'Administrative manager', 'Arabic support Manager', 'Բանվոր/ առաքիչի օգնական', 'Product Owner', 'Operator', 'Accountant', 'Marketing Manager', 'Procurement specialist', 'Digital Marketing Specialist, Experienced in SEO', 'Business Development Manager', 'Digital Marketing Channels Management Division, Senior Specialist', 'SMM Specialist', 'PL/SQL Developer ', 'Անիմատոր-խաղավար (տղա)', 'Junior UX/UI designer', 'Credit Services Intern', 'Sport journalist (Intern)', 'Operator-cashier', 'Content Writer', 'Loan officer', 'Sales consultant', 'Project Manager', 'Android developer', 'Technical Project Manager', 'Measuring Engineer', 'Recruitment and Integration Senior Specialist', 'Housekeeping Manager', 'Customer Care Specialist/Night Shift\\xa0', 'Call Centre Specialist (Night shift)', 'Manual QA Engineer', 'Python Developer', 'Replacing LO of Stepanavan Branch ', 'Ֆինանսական ստորաբաժանման աշխատակից', 'LO of Abovyan branch/Eghvard representation', 'Front End Developer', 'sales manager', 'UI/UX Designer', 'Laravel/PHP developer', 'Intermediate level PHP Developer', 'IT support assistant', '.NET Developer', 'DevOps Engineer ', 'Front-end Developer', 'QA Engineer', 'Manual QA Specialist', 'Recruiter', 'Ֆիրմային խանութի վաճառողուհի', 'Վարորդ', 'Sales consultant', 'Auto parts retail manager', 'Back Office Specialist in Armavir Branch', 'QA Engineers (Junior, Mid, Senior)', 'Փաստաբան', 'Learning Coach in Yerevan', 'UI/UX Designer', 'Sales Director', 'Leading analyst, Risk Management Directorate', 'Front-end Developer', 'Թվային մարքեթինգի մասնագետ', 'SMM Specialist', 'uFleet Product Manager', 'Copywriter/ Advertising Specialist', 'Office Manager', 'Junior Android Developer', 'Mid/Senior JavaScript developer', 'Customer care', 'Translator (German)', 'Bartender / waiter', 'Service Administration', 'Սպասարկման կենտրոնի մանսագետ', 'QA Specialist', 'B2B Customers Enrollment Coordinator', 'Accountant', '.Net Developer', 'React.js Developer', 'ՀՀ Սյունիքի մարզի «Գորիսի թիվ 3 հիմնական դպրոց» ՊՈԱԿ-ի տնօրենի թափուր պաշտոնի մրցույթ', 'ՀՀ Արագածոտնի մարզի «Նոր Արթիկի միջնակարգ դպրոց» ՊՈԱԿ-ի տնօրենի թափուր պաշտոնի մրցույթ', 'Senior Product Manager, CRM', 'Restaurant Director', 'Finance Reporting Intern', 'System architect', 'QA Automation Engineer (back-end)', 'QA Automation Engineer (web)', 'Senior Node.js Developer', 'Data Architect', 'VoIP Engineer', 'Senior C++ Developer', 'Production operator', 'Technical Support Specialist', 'Վաճառքի և սպասարկման մասնագետ', 'HR assistant', 'Manual QA engineer', 'Automated QA Engineer', '.Net Developer (full stack)', 'QA Intern', 'Call Center Agent for U!Pay', 'HR Specialist', 'Javascript developer', 'React/Native Developer', 'Tecnical specialist', 'Tour Manager for English speaking markets', 'Ինտերնետ և Մոբայլ բանկինգի աջակցման (Help Desk) մասնագետ', 'Project manager, Digital Banking Directorate', 'Receptionist / Administrator', 'HR manager', 'Գանձապահ ', 'Mid Level Full Stack Developer ', 'PHP Developer', 'Applications Developer', 'Lead CRM Web Portal Developer', 'Senior .Net Developer', 'Senior QA Engineer', 'QA Engineer', '.NET Developer', 'Customer Service Agent ', 'Online support service', 'Android Developer', 'Senior Specialist of Sales Department', 'Buying Department Assistant ', 'UX & UI Designer', 'Senior Technical Writer ', 'Receptionist', 'ՀՀ Շիրակի մարզի «Գյումրու թիվ 5 հիմնական դպրոց» ՊՈԱԿ-ի տնօրենի թափուր պաշտոնի մրցույթ', 'Assistant to General Manager', 'ՀՀ Լոռու մարզի «Ծաղկաբերի միջնակարգ դպրոց» ՊՈԱԿ-ի տնօրենի թափուր պաշտոնի մրցույթ', '«Ֆիզիկական կրթություն և անվտանգ կենսագործունեություն» չափորոշիչների և ծրագրերի խորհրդատու', '«Օտար լեզուներ» առարկայական չափորոշիչների և ծրագրերի խորհրդատու', 'Security engineer', 'Economist ', 'Dispatcher', 'Project Manager Assistant', 'Sales manager', 'Specialist of problematic assets', 'Specialist of physical security unit ', 'Project finance analyst', 'Node.js developer', 'Administrator / Hall Staff Member', 'Administrative Assistant', 'Այգեգործ', 'Economic Security Senior Specialist', 'Marketing manager', 'Economic Security Specialist', 'Translator', 'ՏՏ դեպարտամենտի գլխավոր մասնագետ', 'Mid-level .NET Developer', ' «Տեխնոլոգիա» ոլորտի առարկայական չափորոշիչների և ծրագրերի խորհրդատու', 'Ինժեներ', 'Accountant', 'Վաճառքի գծով մենեջեր պահեստում', 'Senior JavaScript Developer', 'COAF SMART Room Coordinator Services in Akori Village of Lori Region', 'Senior ReactJS Developer', '«Հասարակություն, հասարակական գիտություններ» ոլորտի առարկայական չափորոշիչների և ծրագրերի խորհրդատու', '«Արվեստ» ոլորտի առարկայական չափորոշիչների և ծրագրերի խորհրդատու', '«Հայոց լեզու, գրականություն» առարկայական չափորոշիչների և ծրագրերի խորհրդատու', 'Front-End Developer', 'Front-end Developer', 'QA Engineer', 'Java Engineer', 'Procurement Specialist', 'DevOps Engineer', 'Արտադրամասի վարպետ', 'Big Data Engineer', 'Data Visualization Engineer', 'Data Scientist', 'Information Security Specialist', 'Community Manager/Support Specialist (Multilingual)', 'Systems analyst', 'QA Automation Engineer (mobile)', 'Technical Project Coordinator', 'Software Engineer in Test', 'DevOps Engineer with Docker Experience', 'Digital marketing specialist', 'Անվտանգության աշխատակից/իգական սեռի/Չարբախ', 'ՀՀ Գեղարքունիքի մարզի «Մադինայի միջնակարգ դպրոց» ՊՈԱԿ-ի տնօրենի թափուր պաշտոնի մրցույթ', 'ՀՀ Գեղարքունիքի մարզի «Երանոս գյուղի թիվ 2 միջնակարգ դպրոց» ՊՈԱԿ-ի տնօրենի թափուր պաշտոնի մրցույթ', 'ՀՀ Գեղարքունիքի մարզի «Երանոս գյուղի թիվ 2 միջնակարգ դպրոց» ՊՈԱԿ-ի տնօրենի թափուր պաշտոնի մրցույթ', \"Brand manager for L'Oréal Paris\", 'Senior Software Engineer', 'ՀՀ Արմավիրի մարզի «Վաղարշապատի թիվ 6 հիմնական դպրոց» ՊՈԱԿ-ի տնօրենի թափուր պաշտոնի մրցույթ', 'Designer', 'ՀՀ Արմավիրի մարզի «Արմավիրի թիվ 5 հիմնական դպրոց» ՊՈԱԿ-ի տնօրենի թափուր պաշտոնի մրցույթ', 'ՀՀ Արմավիրի մարզի «Մեծամորի թիվ 1 հիմնական դպրոց» ՊՈԱԿ-ի տնօրենի թափուր պաշտոնի մրցույթ', 'ՀՀ Արագածոտնի մարզի «Կայքի միջնակարգ դպրոց» ՊՈԱԿ-ի տնօրենի թափուր պաշտոնի մրցույթ', 'ՀՀ Արագածոտնի մարզի «Կարբիի միջնակարգ դպրոց» ՊՈԱԿ-ի տնօրենի թափուր պաշտոնի մրցույթ', '«Արարատի ավագ դպրոց» ՊՈԱԿ-ի տնօրենի թափուր պաշտոնի մրցույթ', '«Երևանի թիվ 168 հիմնական դպրոց» ՊՈԱԿ-ի տնօրենի թափուր պաշտոնի մրցույթ', '«Երևանի թիվ 16 հատուկ դպրոց» ՊՈԱԿ-ի գործադիր մարմնի` տնօրենի պաշտոնը զբաղեցնելու համար', 'Sports Trading Team Leader', 'Digital Marketing Specialist', 'WEB programmer', 'Risk Officer', 'Head of Business Operations', 'Sportsbook Officer', 'Trading Operations Officer', 'VP of Talent & Culture', 'Executive coordinator', 'Software Developer', 'Sales specialist, Gyumri ', 'Accountant', 'Sales specialist, Vanadzor ', 'Sales specialist, Etchmiadzin ', 'Sales specialist, Abovyan ', 'Sales specialist, Yerevan ', 'Treasury Accountant', 'Sales Manager', '1C:ERP System Administrator', 'էլեկտրատեխնիկ ավտոմատացման տեխնոլոգիաների ոլորտում ', 'Chief Accountant', 'Management Trainee in Human Resources', 'Արտադրական բաժնի աշխատակից/օպերատոր', 'System Administrator', 'Middle Web Developer', 'Game Monitoring Operator', 'JUNIOR ACCOUNTANT', 'Հաշվետար-օպերատոր', ' Translator (Russian Language)', 'Commercial Excellence Manager', 'Import specialist', 'Manual QA Tester', 'Head of Account Opening in Armenia', 'Transportation Manager', 'Developer’s Team Lead', 'Front-End (Angular+React.js) Engineer', 'Back-end Developer Internship (3-6 month)', 'Front-end Developer Internship (3-6 month)', 'IT Security Engineer', 'Information Security Specialist', 'Warehause manager', 'HR Generalist', 'Legal Counsel', 'Executive Director Assistant ', 'Copywriter', 'Գլխավոր մեթոդաբան', 'TypeScript developer', 'Junior iOS developer', 'Sales Director', 'Lawyer', 'Instructors for Cisco Networking Academy ', 'Chef', 'Digital Marketing Specialist', 'Salesperson/cashier', 'Corporate Education Manager', 'Վաճառող-խորհրդատու ', 'Corporate sales trainer', 'Mid Javascript/React Developer', 'Senior Android Developer', 'Senior Java Backend', 'Night shift Customer support specialist', 'Մոնիթորինգի և սպասարկման գծով մասնագետ', 'Receptionist', 'English Speaking Sales Representative', 'Advanced Manual QA Engineer', 'Regional Team Manager', 'Reservation Agent & Channel Manager', 'IT Recruiter', 'DevOps Engineer ', 'Office Manager', 'iOS Developer', 'Back-End Developer', 'iOS Developer', 'Regional Operations Manager', 'Senior Back-end Developer', 'Ռիսկերի կառավարման մասնագետ', 'Customer Care Specialist', 'Personal Claims Settlement Unit Specialist', 'Project manager of Fixed/FMC products/services', 'Office Manager', 'Մարքեթինգի մասնագետ', 'Experienced QA Specialist', 'Graphic Designer', 'Computer Network Installer', 'Network and Operating System Administrator', 'Sales Specialist ', 'Senior/Mid iOS Developer', 'Cafe Manager', 'Junior Architect ', 'Account Manager', 'Sales manager', 'Corporate Sales Senior Specialist', 'Informatics teacher ', 'Quality control specialist', 'Սպորտային կոնտենտի թարգմանիչ (Պարսկերեն)', 'Sr. Systems Engineer', 'Administrative assistant', 'Internship Web Developer (3-6 month)', 'Graphic Designer', 'Database Administrator', 'Front-end developer', ' Social Media Marketing Strategist', 'Learning Coach in Gyumri', 'Filmmaking Workshop Leader/Content Developer', 'Graphic Design Workshop Leader/ Content Developer', 'New Media Workshop Leader/Content Developer', 'Photography Workshop Leader/Content Developer', 'Programming Workshop Leader/Content Developer', 'Web Development Workshop Leader/Content Developer', 'Robotics Workshop Leader/Content Developer ', 'Game Development Workshop Leader/Content Developer', 'Drawing Workshop Leader/Content Developer', 'Animation Workshop Leader/ Content Developer ', 'SMM specialist', 'Mid/Senior React.js developer', 'Salesperson', 'Senior Graphic Designer', 'Middle full-stack developer (.NET Core/C#/Angular)', 'Receptionist', 'Accountant', 'Tournament Event Coordinator', 'Manual QA Specialist', 'Senior Customer Care Specialist', 'UI/UX Designer', 'Chief Operating Officer (COO)', 'Teller in Aparan Branch', 'Web Developer Intern', 'Architect/Project Manager', 'Senior PHP / Laravel developer', 'Electronics and Automation Engineer', 'Commercial specialist', 'Mid/Senior Android Developer', 'Արտադրության պետ', 'Service specialist', 'Մաքսային ձևակերպումների մասնագետ', 'Leasing Leading Specialist ', 'Graphic Designer', 'Sales Consultant', 'Research Analyst', 'Finance Officer', 'Product Owner', 'Marketing specialist ', 'Fashion Creative Manager ', 'Learning Coach in Stepanakert ', 'Վաճառքի Մենեջեր', 'Senior Web Developer – ReactJS', 'Business Controller/ Chief Accountant', 'Software Developer', 'Videographer / Video Editor', 'Freight Agent ', 'Գլխավոր տեխնոլոգի տեղակալ սննդամթերքի արտադրությունում', 'Restaurant Waiter with good knowledge of Armenian and Russian ', 'Financial Risks Specialist', 'HR Recruiter', 'Մերչենդայզեր', 'Head of Digital Marketing ', 'Senior Front End Software Engineer (React or Vue.js)', 'IT Project Manager', 'Deep Reinforcement Learning Specialist', 'Վճարումների խորհրդատու', 'Technician', 'Store Manager', 'HR Specialist', 'Digital Marketing Specialist', 'SMM specialist', 'Արտահանման գծով վաճառքի մենեջեր', 'RETAIL SALES MANAGER', 'DIRECT SALES MANAGER (B2B)', 'SERVICE COORDINATOR', 'TECHNICIAN', 'SHOP CONSULTANT', 'Head of human resources department', 'Advanced Analytics & Modelling Researcher', 'NLP engineer', 'Full Stack Web Developer', 'Bilingual Web Content Writer - Native or C2 English + C2 in a second language', 'Multilingual Team Assistant - Native or C2 in English and one other EU language', 'Internship Web Developer (3-6 month)', 'Outstanding Graphic Designer for Web Applications', 'Angular JS; Node JS; Javascript Developer', 'Quality Control Specialist', ' Financial Markets Administrator', 'Front-End Developer', 'Angular Developer', 'Senior Platform Engineer', 'Sr. Java Developer', 'Sr. JavaScript Frontend Developer', ' Machine Learning Engineer', 'Junior DevOps Engineer', 'Sr. Data Engineer', 'Sr. Technical Product Manager', 'Sr. UI/UX Designer', 'Data Scientist', 'Business Analyst', 'Computer Vision Engineer', 'C/C++ Engineer ', 'Big Data Engineer', 'Logistic coordinator', 'E-commerce and Revenue Management Specialist ', 'External logistics specialist', 'NOC Engineer (24/5 shift)', 'Senior Full Stack JS Developer', 'Computer Vision Engineer', 'Senior C++ developer', 'Senior Software Engineer in Test', 'Senior Data Scientist', 'Senior IOS Developer, Video Team', 'Senior Android Developer', 'Senior IOS Developer', 'Senior UX/UI Designer', '3D Designer', 'Graphic Designer', 'Recruiter/talent acquisition specialist', 'SERVICE CENTER AGENT', 'Sales Consultant', 'Manager', 'System Administrator', 'Graphic Designer', 'CSS Developer', 'Information Security Officer', 'Android developer', 'Data and Machine Learning Scientist', 'Mid Front-End Developer', 'Administrative Assistant ', 'Russian Speaking Customer Service Representative', 'Farsi Speaking Customer Service Representative', 'QA Automation Lead (backend)', 'Senior Python Developer ', 'Հաճախորդների սպասարկման մասնագետ', 'Marketing and Sales Specialist', 'GO/Golang developer', 'CHIEF ACCOUNTANT/CFO', 'ACCOUNTANT/CONSULTANT', ' K-8 Music Teacher', 'Sales consultant', 'NodeJS Back-End Developer', 'Sr. ReactJS Developer', 'Technical Writer', ' Junior Android Developer', 'Mid Level Android Developer', 'Scrum Master', 'QA Automation Lead', 'Financial Specialist', 'Տվյալների բազաների ադմինիստրատոր', 'DevOps մասնագետ', 'Sales consulant', 'Head of Backend and DevOps', 'Sales Manager', 'Head of Backend', 'Պահեստապետի Օգնական', 'Salesperson', 'Lawyer', 'Senior Economist ', 'Senior Digital Marketing Specialist', 'Creative Content Writer', 'Ֆինանսական բաժնի օգնական', 'Spanish support manager', 'Team Lead Node.js ', 'Монтажник бытовой техники', 'Специалист Call-центра', 'Network Engineer', 'Զանգերի սպասարկման կենտրոնի վաճառքի թիմի ղեկավար', 'Accountant', 'Sales Manager', 'Խանութ սրահի մենեջեր', 'Chief Accountant', 'Technical Team Lead ', 'TUMO Moscow Center Manager ', 'Native Russian Translator', 'Systems Administrator / Property Systems Technician', ' Tour Manager', 'Վաճառքի խորհրդատու', 'Software Development Internship', 'Senior Project Manager', ' Sales and Service Specialist', 'Sales consultant ', 'Senior Front-end React.js Developer', 'Farsi Speaking Customer Agent', 'React.js developer (mid-level/senior)', 'Advanced Front-End Developer (Angular2+)', 'Logistics Coordinator ', 'Knowledge Base Editor (part-time) ', 'Sales Consultant', 'Hall Manager', 'Content Writer', 'Platform and Game Monitoring Specialist ', 'Incident Management Specialist ', 'JavaScript developer (Vue.js oriented)', 'Financial Analyst', 'Senior Business Advisor', 'Node.js, React.js Developer', 'Technical specialists', 'Night Shift Receptionist', 'Sales Manager', 'Marketing and PR Coordinator', 'Խնդրահարույց վարկերի հետ աշխատանքի վարչության երեկոյան հերթափոխի մասնագետ', 'Junior System Administrator ', 'Ադմինիստրատիվ բաժնի համակարգող', 'Logistic coordinator', 'Senior Software Engineer', 'Senior PHP Developer', 'Artificial Intelligence Engineer', 'Store Sales Consultant', 'BRS Consultant / Information Security Specialist', 'Marketing intern ', 'ServiceDesk Specialist', 'Sales Specialist ', 'Production Manager', 'Debt Collection Specialist', 'SMM Specialist', 'Quality Engineer', 'Software Engineer (Automation team)', 'Performance Engineer', 'Senior Front-End Software Engineer', 'C/C++ Software Engineer ', 'Category Manager', 'Sales Specialist', 'Live Dealer', 'German Specialist', 'Shift Manager', 'Design Specialist ', 'Ինժեներ', 'Wine Marketing Manager', 'System Administrator', 'Customs clearance specialist', 'Branch Representative', 'Contact Centre Intern', 'Node.js, React.js Developer', 'Service center logistics manager ', 'Junior PHP developer', 'Sr. Software Engineer, Front End', 'QA Automation Engineer', 'Incoming Tour agent for German Speaking Market', 'Front Desk Manager', 'HR assistant', 'Brand/Import manager']\n"
     ]
    }
   ],
   "source": [
    "all_jobs=[]\n",
    "for i in all_urls2:\n",
    "    all_jobs.extend(job_scrapper(i))\n",
    "    time.sleep(2)\n",
    "print(all_jobs)"
   ]
  },
  {
   "cell_type": "code",
   "execution_count": 67,
   "metadata": {},
   "outputs": [],
   "source": [
    "df=pd.DataFrame(list(all_jobs))"
   ]
  },
  {
   "cell_type": "code",
   "execution_count": 68,
   "metadata": {},
   "outputs": [
    {
     "data": {
      "text/plain": [
       "Accountant                                                              9\n",
       "Graphic Designer                                                        8\n",
       "Sales Manager                                                           6\n",
       "QA Engineer                                                             5\n",
       "System Administrator                                                    4\n",
       "Sales consultant                                                        4\n",
       "Front-end Developer                                                     3\n",
       "Back-end Developer Internship (3-6 month)                               3\n",
       "Android Developer                                                       3\n",
       "Software Developer                                                      3\n",
       "Office Manager                                                          3\n",
       "Sales Consultant                                                        3\n",
       "Digital Marketing Specialist                                            3\n",
       "Front-end Developer Internship (3-6 month)                              3\n",
       "Sales Specialist                                                        3\n",
       "Manual QA Engineer                                                      3\n",
       "UI/UX Designer                                                          3\n",
       "SMM Specialist                                                          3\n",
       "Receptionist                                                            3\n",
       "Logistic coordinator                                                    2\n",
       "Salesperson                                                             2\n",
       "Chief Accountant                                                        2\n",
       "Business Development Assistant                                          2\n",
       "Սուպերմարկետի տնօրեն                                                    2\n",
       "Administrative assistant                                                2\n",
       "Translator (Chinese Language)                                           2\n",
       "Senior Java Engineer                                                    2\n",
       "Accountant/bookkeeper                                                   2\n",
       "Financial Manager / Specialist                                          2\n",
       "DevOps Engineer                                                         2\n",
       "                                                                       ..\n",
       ".Net Developer                                                          1\n",
       "Tecnical specialist                                                     1\n",
       "Tour Manager for English speaking markets                               1\n",
       "Senior Technical Writer                                                 1\n",
       "Angular JS; Node JS; Javascript Developer                               1\n",
       "Sport journalist (Intern)                                               1\n",
       "Junior System Administrator                                             1\n",
       "Sr. Software Engineer, Front End                                        1\n",
       "Affiliate Team Lead                                                     1\n",
       "Leading analyst, Risk Management Directorate                            1\n",
       " «Տեխնոլոգիա» ոլորտի առարկայական չափորոշիչների և ծրագրերի խորհրդատու    1\n",
       "Experienced QA Specialist                                               1\n",
       "Data Visualization Engineer                                             1\n",
       "Russian Speaking Customer Service Representative                        1\n",
       "Sr. JavaScript Frontend Developer                                       1\n",
       "Technical Project Manager                                               1\n",
       "Business Analyst                                                        1\n",
       "German Specialist                                                       1\n",
       "Incoming Tour agent for German Speaking Market                          1\n",
       "Web Developer                                                           1\n",
       "Head of Backend                                                         1\n",
       "Project Manager Assistant                                               1\n",
       "Անիմատոր-խաղավար (տղա)                                                  1\n",
       "Risk Officer                                                            1\n",
       "Account Manager                                                         1\n",
       "Mid/Senior JavaScript developer                                         1\n",
       "Front-End (Angular+React.js) Engineer                                   1\n",
       "VP of Talent & Culture                                                  1\n",
       "B2B Customers Enrollment Coordinator                                    1\n",
       "Angular Developer                                                       1\n",
       "Name: 0, Length: 537, dtype: int64"
      ]
     },
     "execution_count": 68,
     "metadata": {},
     "output_type": "execute_result"
    }
   ],
   "source": [
    "df[0].value_counts()"
   ]
  },
  {
   "cell_type": "code",
   "execution_count": 85,
   "metadata": {},
   "outputs": [],
   "source": [
    "page2=requests.get(url2)\n",
    "response=TextResponse(url=page2.url, body=page2.text,encoding=\"utf-8\")"
   ]
  },
  {
   "cell_type": "code",
   "execution_count": 93,
   "metadata": {},
   "outputs": [],
   "source": [
    "companies=response.css('div[class=\"job-inner job-item-title\"]>p::text').extract()"
   ]
  },
  {
   "cell_type": "code",
   "execution_count": 94,
   "metadata": {},
   "outputs": [
    {
     "name": "stdout",
     "output_type": "stream",
     "text": [
      "['Translator (Arabic Language)', 'BetConstruct', 'Translator (Chinese Language)', 'BetConstruct', 'IT Business Analyst ', 'Webb Fontaine Holding LLC', 'Senior Front-End Developer', 'Webb Fontaine Holding LLC', 'Mid-level Java Developer', 'Webb Fontaine Holding LLC', 'Software Quality Assurance Engineer', 'Webb Fontaine Holding LLC', 'LEADING SYSTEM ADMINISTRATOR', '«Հայաստանի հանրային հեռուստաընկերություն» ՓԲԸ', 'Accountant', 'FINLEX LLC', 'Seller Consultant', 'TST LLC', 'Հեծանվային Տեխնիկ', 'MIMO Bike', 'Լոգիստիկայի բաժնի մենեջեր', 'Menu Group UK ltd', 'Waiter/Waitress with foreign language Knowledge', 'Armenia Marriott Hotel Yerevan', 'Sales Manager', 'Զանգակ-97 ՍՊԸ', 'Sales manager ', 'ԹԱՅԳՐ ԳՐՈՒՊ ՍՊԸ', 'Receptionist ', 'ԹԱՅԳՐ ԳՐՈՒՊ ՍՊԸ', 'Գանձապահ', 'staff.am Partner Company', 'Հաշվապահ', 'staff.am Partner Company', 'Մեծածախ շուկայի և մարզային դիստրիբյուտորային մենեջերների պատասխանատու', 'Վ.Ա.Ս. Գրուպ ՍՊԸ', 'Sales-engineer', 'NADINE LLC', 'Սուպերմարկետի տնօրեն', 'Վ.Ա.Ս. Գրուպ ՍՊԸ', 'Computer operator', 'HNet LLC', 'Experienced .NET Developer', 'VOLO', 'Android Developer', 'VOLO', 'ISMS Manager and Information Security Specialist', 'VOLO', 'Sales Lead', 'inOne', 'ՀՀ Գեղարքունիքի մարզի «Լիճքի միջնակարգ դպրոց» ՊՈԱԿ-ի տնօրենի թափուր պաշտոնի մրցույթ', 'ՀՀ կրթության, գիտության, մշակույթի և սպորտի նախարարություն', 'German Speaking HR Recruitment Specialist (m/f) in Yerevan', 'Majorel ', 'Business Developer, Yerevan', 'Coca-Cola Hellenic Bottling Company Armenia ', 'ՀՀ Արագածոտնի մարզի «Վերին Սասնաշենի հիմնական դպրոց» ՊՈԱԿ-ի տնօրենի թափուր պաշտոնի մրցույթ', 'ՀՀ կրթության, գիտության, մշակույթի և սպորտի նախարարություն', 'HR-Manager (m/w) in Yerevan', 'Majorel ', 'Business Development Assistant ', 'Efusoft LLC', 'Financial Manager / Specialist ', 'BetConstruct', 'QA Engineer', 'Alternative Creative Network', 'Graphic designer ', 'Ameriabank CJSC', 'Senior engineer, Kapan', 'VEON Armenia CJSC', 'Target marketing analyst', 'VEON Armenia CJSC', 'Lawyer with IT knowledge', 'Willing & Able Operations LLC', 'Front-end Developer Internship (3-6 month)', 'Willing & Able Operations LLC', 'Back-end Developer Internship (3-6 month)', 'Willing & Able Operations LLC', 'Senior Java Engineer ', 'DataArt Armenia', 'Front-end Software Engineer II', 'Workfront Armenia', 'Sr. Java Software Engineer', 'Workfront Armenia', 'Accountant/bookkeeper', 'Smooshop LLC', 'Sales Specialist', 'Smooshop LLC', 'Graphic Designer', 'Smooshop LLC', 'Automation QA Engineer', '10Web', 'Գանձապահ-վաճառողուհի', 'Էդ-Սպո ՍՊԸ (beko)', 'Manual QA Engineer', '10Web', 'Financial analyst', 'Կարաս ազգային սննդի ցանց', 'PHP\\\\Yii2\\\\JS senior developer', 'Focusoft']\n"
     ]
    }
   ],
   "source": [
    "print(companies)"
   ]
  },
  {
   "cell_type": "code",
   "execution_count": 95,
   "metadata": {},
   "outputs": [
    {
     "name": "stdout",
     "output_type": "stream",
     "text": [
      "BetConstruct\n",
      "BetConstruct\n",
      "Webb Fontaine Holding LLC\n",
      "Webb Fontaine Holding LLC\n",
      "Webb Fontaine Holding LLC\n",
      "Webb Fontaine Holding LLC\n",
      "«Հայաստանի հանրային հեռուստաընկերություն» ՓԲԸ\n",
      "FINLEX LLC\n",
      "TST LLC\n",
      "MIMO Bike\n",
      "Menu Group UK ltd\n",
      "Armenia Marriott Hotel Yerevan\n",
      "Զանգակ-97 ՍՊԸ\n",
      "ԹԱՅԳՐ ԳՐՈՒՊ ՍՊԸ\n",
      "ԹԱՅԳՐ ԳՐՈՒՊ ՍՊԸ\n",
      "staff.am Partner Company\n",
      "staff.am Partner Company\n",
      "Վ.Ա.Ս. Գրուպ ՍՊԸ\n",
      "NADINE LLC\n",
      "Վ.Ա.Ս. Գրուպ ՍՊԸ\n",
      "HNet LLC\n",
      "VOLO\n",
      "VOLO\n",
      "VOLO\n",
      "inOne\n",
      "ՀՀ կրթության, գիտության, մշակույթի և սպորտի նախարարություն\n",
      "Majorel \n",
      "Coca-Cola Hellenic Bottling Company Armenia \n",
      "ՀՀ կրթության, գիտության, մշակույթի և սպորտի նախարարություն\n",
      "Majorel \n",
      "Efusoft LLC\n",
      "BetConstruct\n",
      "Alternative Creative Network\n",
      "Ameriabank CJSC\n",
      "VEON Armenia CJSC\n",
      "VEON Armenia CJSC\n",
      "Willing & Able Operations LLC\n",
      "Willing & Able Operations LLC\n",
      "Willing & Able Operations LLC\n",
      "DataArt Armenia\n",
      "Workfront Armenia\n",
      "Workfront Armenia\n",
      "Smooshop LLC\n",
      "Smooshop LLC\n",
      "Smooshop LLC\n",
      "10Web\n",
      "Էդ-Սպո ՍՊԸ (beko)\n",
      "10Web\n",
      "Կարաս ազգային սննդի ցանց\n",
      "Focusoft\n"
     ]
    }
   ],
   "source": [
    "#bad approach\n",
    "for i in range(len(companies)):\n",
    "    if i%2==1:\n",
    "        print(companies[i])"
   ]
  },
  {
   "cell_type": "code",
   "execution_count": 103,
   "metadata": {},
   "outputs": [
    {
     "name": "stdout",
     "output_type": "stream",
     "text": [
      "['BetConstruct', 'BetConstruct', 'Webb Fontaine Holding LLC', 'Webb Fontaine Holding LLC', 'Webb Fontaine Holding LLC', 'Webb Fontaine Holding LLC', '«Հայաստանի հանրային հեռուստաընկերություն» ՓԲԸ', 'FINLEX LLC', 'TST LLC', 'MIMO Bike', 'Menu Group UK ltd', 'Armenia Marriott Hotel Yerevan', 'Զանգակ-97 ՍՊԸ', 'ԹԱՅԳՐ ԳՐՈՒՊ ՍՊԸ', 'ԹԱՅԳՐ ԳՐՈՒՊ ՍՊԸ', 'staff.am Partner Company', 'staff.am Partner Company', 'Վ.Ա.Ս. Գրուպ ՍՊԸ', 'NADINE LLC', 'Վ.Ա.Ս. Գրուպ ՍՊԸ', 'HNet LLC', 'VOLO', 'VOLO', 'VOLO', 'inOne', 'ՀՀ կրթության, գիտության, մշակույթի և սպորտի նախարարություն', 'Majorel ', 'Coca-Cola Hellenic Bottling Company Armenia ', 'ՀՀ կրթության, գիտության, մշակույթի և սպորտի նախարարություն', 'Majorel ', 'Efusoft LLC', 'BetConstruct', 'Alternative Creative Network', 'Ameriabank CJSC', 'VEON Armenia CJSC', 'VEON Armenia CJSC', 'Willing & Able Operations LLC', 'Willing & Able Operations LLC', 'Willing & Able Operations LLC', 'DataArt Armenia', 'Workfront Armenia', 'Workfront Armenia', 'Smooshop LLC', 'Smooshop LLC', 'Smooshop LLC', '10Web', 'Էդ-Սպո ՍՊԸ (beko)', '10Web', 'Կարաս ազգային սննդի ցանց', 'Focusoft']\n"
     ]
    }
   ],
   "source": [
    "#enumerations starts from 1 as this is css\n",
    "jobs_xpath=response.xpath('//div[@class=\"job-inner job-item-title\"]/p[1]/text()').extract()\n",
    "companies_xpath=response.xpath('//div[@class=\"job-inner job-item-title\"]/p[2]/text()').extract()\n",
    "print(companies_xpath)"
   ]
  },
  {
   "cell_type": "code",
   "execution_count": 102,
   "metadata": {},
   "outputs": [
    {
     "name": "stdout",
     "output_type": "stream",
     "text": [
      "['Translator (Arabic Language)', 'Translator (Chinese Language)', 'IT Business Analyst ', 'Senior Front-End Developer', 'Mid-level Java Developer', 'Software Quality Assurance Engineer', 'LEADING SYSTEM ADMINISTRATOR', 'Accountant', 'Seller Consultant', 'Հեծանվային Տեխնիկ', 'Լոգիստիկայի բաժնի մենեջեր', 'Waiter/Waitress with foreign language Knowledge', 'Sales Manager', 'Sales manager ', 'Receptionist ', 'Գանձապահ', 'Հաշվապահ', 'Մեծածախ շուկայի և մարզային դիստրիբյուտորային մենեջերների պատասխանատու', 'Sales-engineer', 'Սուպերմարկետի տնօրեն', 'Computer operator', 'Experienced .NET Developer', 'Android Developer', 'ISMS Manager and Information Security Specialist', 'Sales Lead', 'ՀՀ Գեղարքունիքի մարզի «Լիճքի միջնակարգ դպրոց» ՊՈԱԿ-ի տնօրենի թափուր պաշտոնի մրցույթ', 'German Speaking HR Recruitment Specialist (m/f) in Yerevan', 'Business Developer, Yerevan', 'ՀՀ Արագածոտնի մարզի «Վերին Սասնաշենի հիմնական դպրոց» ՊՈԱԿ-ի տնօրենի թափուր պաշտոնի մրցույթ', 'HR-Manager (m/w) in Yerevan', 'Business Development Assistant ', 'Financial Manager / Specialist ', 'QA Engineer', 'Graphic designer ', 'Senior engineer, Kapan', 'Target marketing analyst', 'Lawyer with IT knowledge', 'Front-end Developer Internship (3-6 month)', 'Back-end Developer Internship (3-6 month)', 'Senior Java Engineer ', 'Front-end Software Engineer II', 'Sr. Java Software Engineer', 'Accountant/bookkeeper', 'Sales Specialist', 'Graphic Designer', 'Automation QA Engineer', 'Գանձապահ-վաճառողուհի', 'Manual QA Engineer', 'Financial analyst', 'PHP\\\\Yii2\\\\JS senior developer']\n"
     ]
    }
   ],
   "source": [
    "print(jobs_xpath)"
   ]
  }
 ],
 "metadata": {
  "kernelspec": {
   "display_name": "Python 3",
   "language": "python",
   "name": "python3"
  },
  "language_info": {
   "codemirror_mode": {
    "name": "ipython",
    "version": 3
   },
   "file_extension": ".py",
   "mimetype": "text/x-python",
   "name": "python",
   "nbconvert_exporter": "python",
   "pygments_lexer": "ipython3",
   "version": "3.6.5"
  }
 },
 "nbformat": 4,
 "nbformat_minor": 2
}
