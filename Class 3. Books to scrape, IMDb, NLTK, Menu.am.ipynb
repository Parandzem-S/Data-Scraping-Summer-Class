{
 "cells": [
  {
   "cell_type": "code",
   "execution_count": 117,
   "metadata": {},
   "outputs": [],
   "source": [
    "import pandas as pd\n",
    "import requests\n",
    "from scrapy.http import TextResponse\n",
    "import time\n",
    "import numpy as np\n",
    "import re\n",
    "from textblob import TextBlob, Word #???\n",
    "from nltk.stem import PorterStemmer, WordNetLemmatizer\n",
    "import nltk\n",
    "import matplotlib.pyplot as plt\n",
    "from nltk.tokenize import sent_tokenize, word_tokenize\n",
    "from nltk.corpus import stopwords"
   ]
  },
  {
   "cell_type": "markdown",
   "metadata": {},
   "source": [
    "https://www.nltk.org/"
   ]
  },
  {
   "cell_type": "markdown",
   "metadata": {},
   "source": [
    "### Books_to_scrape"
   ]
  },
  {
   "cell_type": "code",
   "execution_count": 6,
   "metadata": {},
   "outputs": [],
   "source": [
    "url=\"http://books.toscrape.com/\"\n",
    "page=requests.get(url)\n",
    "response=TextResponse(url=page.url, body=page.text,encoding=\"utf-8\")\n",
    "prices=response.xpath('//p[@class=\"price_color\"]/text()').extract()"
   ]
  },
  {
   "cell_type": "code",
   "execution_count": 8,
   "metadata": {},
   "outputs": [
    {
     "data": {
      "text/plain": [
       "['51.77',\n",
       " '53.74',\n",
       " '50.10',\n",
       " '47.82',\n",
       " '54.23',\n",
       " '22.65',\n",
       " '33.34',\n",
       " '17.93',\n",
       " '22.60',\n",
       " '52.15',\n",
       " '13.99',\n",
       " '20.66',\n",
       " '17.46',\n",
       " '52.29',\n",
       " '35.02',\n",
       " '57.25',\n",
       " '23.88',\n",
       " '37.59',\n",
       " '51.33',\n",
       " '45.17']"
      ]
     },
     "execution_count": 8,
     "metadata": {},
     "output_type": "execute_result"
    }
   ],
   "source": [
    "#regular expressions - re() can be used to extract only numbers (to avoid further complex calculations)\n",
    "response.xpath('//p[@class=\"price_color\"]/text()').re(\"\\d.*\\d\")"
   ]
  },
  {
   "cell_type": "code",
   "execution_count": 11,
   "metadata": {},
   "outputs": [
    {
     "data": {
      "text/plain": [
       "['star-rating Three', 'star-rating Three', 'star-rating Three']"
      ]
     },
     "execution_count": 11,
     "metadata": {},
     "output_type": "execute_result"
    }
   ],
   "source": [
    "response.css(\"p[Class='star-rating Three']::attr(class)\").extract() #this is a repetitive approach not advised to use"
   ]
  },
  {
   "cell_type": "code",
   "execution_count": 14,
   "metadata": {},
   "outputs": [
    {
     "data": {
      "text/plain": [
       "['star-rating Three',\n",
       " 'star-rating One',\n",
       " 'star-rating One',\n",
       " 'star-rating Four',\n",
       " 'star-rating Five',\n",
       " 'star-rating One',\n",
       " 'star-rating Four',\n",
       " 'star-rating Three',\n",
       " 'star-rating Four',\n",
       " 'star-rating One',\n",
       " 'star-rating Two',\n",
       " 'star-rating Four',\n",
       " 'star-rating Five',\n",
       " 'star-rating Five',\n",
       " 'star-rating Five',\n",
       " 'star-rating Three',\n",
       " 'star-rating One',\n",
       " 'star-rating One',\n",
       " 'star-rating Two',\n",
       " 'star-rating Two']"
      ]
     },
     "execution_count": 14,
     "metadata": {},
     "output_type": "execute_result"
    }
   ],
   "source": [
    "#pseudochracters can be used like *\n",
    "# * contains an expression that will follow\n",
    "#^= starts with an expression that will follow\n",
    "response.css(\"p[class*='star-rating']::attr(class)\").extract()\n",
    "response.css(\"p[class^='star-rating']::attr(class)\").extract()"
   ]
  },
  {
   "cell_type": "markdown",
   "metadata": {},
   "source": [
    "https://devhints.io/xpath useful link to help with regex"
   ]
  },
  {
   "cell_type": "markdown",
   "metadata": {},
   "source": [
    "### IMDb film scrapping"
   ]
  },
  {
   "cell_type": "code",
   "execution_count": 78,
   "metadata": {},
   "outputs": [
    {
     "data": {
      "text/plain": [
       "['The Shawshank Redemption',\n",
       " 'The Godfather',\n",
       " 'The Godfather: Part II',\n",
       " 'The Dark Knight',\n",
       " '12 Angry Men']"
      ]
     },
     "execution_count": 78,
     "metadata": {},
     "output_type": "execute_result"
    }
   ],
   "source": [
    "url2=\"https://www.imdb.com/chart/top/\"\n",
    "page2=requests.get(url2)\n",
    "response2=TextResponse(url=page2.url, body=page2.text,encoding=\"utf-8\")\n",
    "films=response2.css(\"td[class='titleColumn']>a::text\").extract()\n",
    "films[0:5]"
   ]
  },
  {
   "cell_type": "code",
   "execution_count": 73,
   "metadata": {},
   "outputs": [
    {
     "data": {
      "text/plain": [
       "['9.2', '9.2', '9.0', '9.0', '8.9']"
      ]
     },
     "execution_count": 73,
     "metadata": {},
     "output_type": "execute_result"
    }
   ],
   "source": [
    "ratings=response2.css(\"td[class='ratingColumn imdbRating']>strong::text\").extract()\n",
    "ratings[0:5]"
   ]
  },
  {
   "cell_type": "code",
   "execution_count": 74,
   "metadata": {},
   "outputs": [
    {
     "data": {
      "text/plain": [
       "['1994', '1972', '1974', '2008', '1957']"
      ]
     },
     "execution_count": 74,
     "metadata": {},
     "output_type": "execute_result"
    }
   ],
   "source": [
    "years=response2.css('td[class=\"titleColumn\"]>span::text').re(\"\\d+\")\n",
    "years[0:5]"
   ]
  },
  {
   "cell_type": "code",
   "execution_count": 75,
   "metadata": {},
   "outputs": [
    {
     "data": {
      "text/plain": [
       "['/title/tt0111161/',\n",
       " '/title/tt0068646/',\n",
       " '/title/tt0071562/',\n",
       " '/title/tt0468569/',\n",
       " '/title/tt0050083/']"
      ]
     },
     "execution_count": 75,
     "metadata": {},
     "output_type": "execute_result"
    }
   ],
   "source": [
    "href=response2.css('td[class=\"titleColumn\"]>a::attr(href)').extract()\n",
    "href[0:5]"
   ]
  },
  {
   "cell_type": "code",
   "execution_count": 76,
   "metadata": {},
   "outputs": [
    {
     "data": {
      "text/plain": [
       "['9.2', '9.2', '9.0', '9.0', '8.9']"
      ]
     },
     "execution_count": 76,
     "metadata": {},
     "output_type": "execute_result"
    }
   ],
   "source": [
    "rate=response2.css('td[class=\"ratingColumn imdbRating\"]>strong::text').extract()\n",
    "rate[0:5]"
   ]
  },
  {
   "cell_type": "code",
   "execution_count": 71,
   "metadata": {},
   "outputs": [
    {
     "data": {
      "text/html": [
       "<div>\n",
       "<style scoped>\n",
       "    .dataframe tbody tr th:only-of-type {\n",
       "        vertical-align: middle;\n",
       "    }\n",
       "\n",
       "    .dataframe tbody tr th {\n",
       "        vertical-align: top;\n",
       "    }\n",
       "\n",
       "    .dataframe thead th {\n",
       "        text-align: right;\n",
       "    }\n",
       "</style>\n",
       "<table border=\"1\" class=\"dataframe\">\n",
       "  <thead>\n",
       "    <tr style=\"text-align: right;\">\n",
       "      <th></th>\n",
       "      <th>years</th>\n",
       "      <th>films</th>\n",
       "      <th>ratings</th>\n",
       "    </tr>\n",
       "  </thead>\n",
       "  <tbody>\n",
       "    <tr>\n",
       "      <th>0</th>\n",
       "      <td>1994.0</td>\n",
       "      <td>The Shawshank Redemption</td>\n",
       "      <td>9.2</td>\n",
       "    </tr>\n",
       "    <tr>\n",
       "      <th>1</th>\n",
       "      <td>1972.0</td>\n",
       "      <td>The Godfather</td>\n",
       "      <td>9.2</td>\n",
       "    </tr>\n",
       "    <tr>\n",
       "      <th>2</th>\n",
       "      <td>1974.0</td>\n",
       "      <td>The Godfather: Part II</td>\n",
       "      <td>9.0</td>\n",
       "    </tr>\n",
       "    <tr>\n",
       "      <th>3</th>\n",
       "      <td>2008.0</td>\n",
       "      <td>The Dark Knight</td>\n",
       "      <td>9.0</td>\n",
       "    </tr>\n",
       "    <tr>\n",
       "      <th>4</th>\n",
       "      <td>1957.0</td>\n",
       "      <td>12 Angry Men</td>\n",
       "      <td>8.9</td>\n",
       "    </tr>\n",
       "  </tbody>\n",
       "</table>\n",
       "</div>"
      ],
      "text/plain": [
       "    years                     films  ratings\n",
       "0  1994.0  The Shawshank Redemption      9.2\n",
       "1  1972.0             The Godfather      9.2\n",
       "2  1974.0    The Godfather: Part II      9.0\n",
       "3  2008.0           The Dark Knight      9.0\n",
       "4  1957.0              12 Angry Men      8.9"
      ]
     },
     "execution_count": 71,
     "metadata": {},
     "output_type": "execute_result"
    }
   ],
   "source": [
    "#creating dataframe using pd\n",
    "df=pd.DataFrame(list(zip(np.array(years).astype(np.float),films,np.array(ratings).astype(np.float))), \n",
    "                     columns=(\"years\",\"films\",\"ratings\"))\n",
    "df.head()"
   ]
  },
  {
   "cell_type": "code",
   "execution_count": 53,
   "metadata": {},
   "outputs": [
    {
     "data": {
      "text/html": [
       "<div>\n",
       "<style scoped>\n",
       "    .dataframe tbody tr th:only-of-type {\n",
       "        vertical-align: middle;\n",
       "    }\n",
       "\n",
       "    .dataframe tbody tr th {\n",
       "        vertical-align: top;\n",
       "    }\n",
       "\n",
       "    .dataframe thead th {\n",
       "        text-align: right;\n",
       "    }\n",
       "</style>\n",
       "<table border=\"1\" class=\"dataframe\">\n",
       "  <thead>\n",
       "    <tr style=\"text-align: right;\">\n",
       "      <th></th>\n",
       "      <th>years</th>\n",
       "      <th>films</th>\n",
       "      <th>ratings</th>\n",
       "    </tr>\n",
       "  </thead>\n",
       "  <tbody>\n",
       "    <tr>\n",
       "      <th>1</th>\n",
       "      <td>1972.0</td>\n",
       "      <td>The Godfather</td>\n",
       "      <td>9.2</td>\n",
       "    </tr>\n",
       "    <tr>\n",
       "      <th>2</th>\n",
       "      <td>1974.0</td>\n",
       "      <td>The Godfather: Part II</td>\n",
       "      <td>9.0</td>\n",
       "    </tr>\n",
       "    <tr>\n",
       "      <th>4</th>\n",
       "      <td>1957.0</td>\n",
       "      <td>12 Angry Men</td>\n",
       "      <td>8.9</td>\n",
       "    </tr>\n",
       "    <tr>\n",
       "      <th>8</th>\n",
       "      <td>1966.0</td>\n",
       "      <td>Il buono, il brutto, il cattivo</td>\n",
       "      <td>8.8</td>\n",
       "    </tr>\n",
       "    <tr>\n",
       "      <th>13</th>\n",
       "      <td>1980.0</td>\n",
       "      <td>Star Wars: Episode V - The Empire Strikes Back</td>\n",
       "      <td>8.7</td>\n",
       "    </tr>\n",
       "  </tbody>\n",
       "</table>\n",
       "</div>"
      ],
      "text/plain": [
       "     years                                           films  ratings\n",
       "1   1972.0                                   The Godfather      9.2\n",
       "2   1974.0                          The Godfather: Part II      9.0\n",
       "4   1957.0                                    12 Angry Men      8.9\n",
       "8   1966.0                 Il buono, il brutto, il cattivo      8.8\n",
       "13  1980.0  Star Wars: Episode V - The Empire Strikes Back      8.7"
      ]
     },
     "execution_count": 53,
     "metadata": {},
     "output_type": "execute_result"
    }
   ],
   "source": [
    "#selecting films that are produced before 1990\n",
    "df_before_1990=df[df.years<=1990]\n",
    "df_before_1990.sort_values(by=\"ratings\", ascending=False).head() #sort by highest rating"
   ]
  },
  {
   "cell_type": "code",
   "execution_count": 70,
   "metadata": {},
   "outputs": [
    {
     "data": {
      "text/html": [
       "<div>\n",
       "<style scoped>\n",
       "    .dataframe tbody tr th:only-of-type {\n",
       "        vertical-align: middle;\n",
       "    }\n",
       "\n",
       "    .dataframe tbody tr th {\n",
       "        vertical-align: top;\n",
       "    }\n",
       "\n",
       "    .dataframe thead th {\n",
       "        text-align: right;\n",
       "    }\n",
       "</style>\n",
       "<table border=\"1\" class=\"dataframe\">\n",
       "  <thead>\n",
       "    <tr style=\"text-align: right;\">\n",
       "      <th></th>\n",
       "      <th>name</th>\n",
       "      <th>year</th>\n",
       "      <th>url</th>\n",
       "      <th>rating</th>\n",
       "    </tr>\n",
       "  </thead>\n",
       "  <tbody>\n",
       "    <tr>\n",
       "      <th>0</th>\n",
       "      <td>The Shawshank Redemption</td>\n",
       "      <td>1994</td>\n",
       "      <td>/title/tt0111161/</td>\n",
       "      <td>9.2</td>\n",
       "    </tr>\n",
       "    <tr>\n",
       "      <th>1</th>\n",
       "      <td>The Godfather</td>\n",
       "      <td>1972</td>\n",
       "      <td>/title/tt0068646/</td>\n",
       "      <td>9.2</td>\n",
       "    </tr>\n",
       "    <tr>\n",
       "      <th>2</th>\n",
       "      <td>The Godfather: Part II</td>\n",
       "      <td>1974</td>\n",
       "      <td>/title/tt0071562/</td>\n",
       "      <td>9.0</td>\n",
       "    </tr>\n",
       "    <tr>\n",
       "      <th>3</th>\n",
       "      <td>The Dark Knight</td>\n",
       "      <td>2008</td>\n",
       "      <td>/title/tt0468569/</td>\n",
       "      <td>9.0</td>\n",
       "    </tr>\n",
       "    <tr>\n",
       "      <th>4</th>\n",
       "      <td>12 Angry Men</td>\n",
       "      <td>1957</td>\n",
       "      <td>/title/tt0050083/</td>\n",
       "      <td>8.9</td>\n",
       "    </tr>\n",
       "  </tbody>\n",
       "</table>\n",
       "</div>"
      ],
      "text/plain": [
       "                       name  year                url rating\n",
       "0  The Shawshank Redemption  1994  /title/tt0111161/    9.2\n",
       "1             The Godfather  1972  /title/tt0068646/    9.2\n",
       "2    The Godfather: Part II  1974  /title/tt0071562/    9.0\n",
       "3           The Dark Knight  2008  /title/tt0468569/    9.0\n",
       "4              12 Angry Men  1957  /title/tt0050083/    8.9"
      ]
     },
     "execution_count": 70,
     "metadata": {},
     "output_type": "execute_result"
    }
   ],
   "source": [
    "#another way of saving the scraped info as dataframe\n",
    "#saving data in movie dictionary\n",
    "movie_dict={\"name\":films, \"year\":years, \"url\":href, \"rating\":ratings}\n",
    "\n",
    "#saving as dataframe\n",
    "movie_df=pd.DataFrame(movie_dict)\n",
    "\n",
    "movie_df.head()"
   ]
  },
  {
   "cell_type": "code",
   "execution_count": 52,
   "metadata": {},
   "outputs": [
    {
     "data": {
      "text/html": [
       "<div>\n",
       "<style scoped>\n",
       "    .dataframe tbody tr th:only-of-type {\n",
       "        vertical-align: middle;\n",
       "    }\n",
       "\n",
       "    .dataframe tbody tr th {\n",
       "        vertical-align: top;\n",
       "    }\n",
       "\n",
       "    .dataframe thead th {\n",
       "        text-align: right;\n",
       "    }\n",
       "</style>\n",
       "<table border=\"1\" class=\"dataframe\">\n",
       "  <thead>\n",
       "    <tr style=\"text-align: right;\">\n",
       "      <th></th>\n",
       "      <th>name</th>\n",
       "      <th>year</th>\n",
       "      <th>url</th>\n",
       "      <th>rating</th>\n",
       "    </tr>\n",
       "  </thead>\n",
       "  <tbody>\n",
       "    <tr>\n",
       "      <th>0</th>\n",
       "      <td>The Shawshank Redemption</td>\n",
       "      <td>1994</td>\n",
       "      <td>/title/tt0111161/</td>\n",
       "      <td>9.2</td>\n",
       "    </tr>\n",
       "    <tr>\n",
       "      <th>1</th>\n",
       "      <td>The Godfather</td>\n",
       "      <td>1972</td>\n",
       "      <td>/title/tt0068646/</td>\n",
       "      <td>9.2</td>\n",
       "    </tr>\n",
       "    <tr>\n",
       "      <th>2</th>\n",
       "      <td>The Godfather: Part II</td>\n",
       "      <td>1974</td>\n",
       "      <td>/title/tt0071562/</td>\n",
       "      <td>9.0</td>\n",
       "    </tr>\n",
       "    <tr>\n",
       "      <th>3</th>\n",
       "      <td>The Dark Knight</td>\n",
       "      <td>2008</td>\n",
       "      <td>/title/tt0468569/</td>\n",
       "      <td>9.0</td>\n",
       "    </tr>\n",
       "    <tr>\n",
       "      <th>4</th>\n",
       "      <td>12 Angry Men</td>\n",
       "      <td>1957</td>\n",
       "      <td>/title/tt0050083/</td>\n",
       "      <td>8.9</td>\n",
       "    </tr>\n",
       "  </tbody>\n",
       "</table>\n",
       "</div>"
      ],
      "text/plain": [
       "                       name  year                url rating\n",
       "0  The Shawshank Redemption  1994  /title/tt0111161/    9.2\n",
       "1             The Godfather  1972  /title/tt0068646/    9.2\n",
       "2    The Godfather: Part II  1974  /title/tt0071562/    9.0\n",
       "3           The Dark Knight  2008  /title/tt0468569/    9.0\n",
       "4              12 Angry Men  1957  /title/tt0050083/    8.9"
      ]
     },
     "execution_count": 52,
     "metadata": {},
     "output_type": "execute_result"
    }
   ],
   "source": []
  },
  {
   "cell_type": "code",
   "execution_count": 55,
   "metadata": {},
   "outputs": [],
   "source": [
    "#exporting data as Excel\n",
    "movie_df.to_excel(\"movie.xlsx\")"
   ]
  },
  {
   "cell_type": "code",
   "execution_count": 66,
   "metadata": {},
   "outputs": [
    {
     "data": {
      "text/plain": [
       "1995.0"
      ]
     },
     "execution_count": 66,
     "metadata": {},
     "output_type": "execute_result"
    }
   ],
   "source": [
    "#the most popular year\n",
    "df.years.mode().values[0]"
   ]
  },
  {
   "cell_type": "code",
   "execution_count": 69,
   "metadata": {},
   "outputs": [
    {
     "data": {
      "text/plain": [
       "8.275000000000002"
      ]
     },
     "execution_count": 69,
     "metadata": {},
     "output_type": "execute_result"
    }
   ],
   "source": [
    "#mean rating of the films produced during 1995\n",
    "df.ratings[df.years==df.years.mode().values[0]].mean()"
   ]
  },
  {
   "cell_type": "markdown",
   "metadata": {},
   "source": [
    "# textblob_NLTK"
   ]
  },
  {
   "cell_type": "code",
   "execution_count": 81,
   "metadata": {},
   "outputs": [
    {
     "name": "stderr",
     "output_type": "stream",
     "text": [
      "[nltk_data] Downloading collection 'popular'\n",
      "[nltk_data]    | \n",
      "[nltk_data]    | Downloading package cmudict to\n",
      "[nltk_data]    |     C:\\Users\\HP\\AppData\\Roaming\\nltk_data...\n",
      "[nltk_data]    |   Unzipping corpora\\cmudict.zip.\n",
      "[nltk_data]    | Downloading package gazetteers to\n",
      "[nltk_data]    |     C:\\Users\\HP\\AppData\\Roaming\\nltk_data...\n",
      "[nltk_data]    |   Unzipping corpora\\gazetteers.zip.\n",
      "[nltk_data]    | Downloading package genesis to\n",
      "[nltk_data]    |     C:\\Users\\HP\\AppData\\Roaming\\nltk_data...\n",
      "[nltk_data]    |   Unzipping corpora\\genesis.zip.\n",
      "[nltk_data]    | Downloading package gutenberg to\n",
      "[nltk_data]    |     C:\\Users\\HP\\AppData\\Roaming\\nltk_data...\n",
      "[nltk_data]    |   Unzipping corpora\\gutenberg.zip.\n",
      "[nltk_data]    | Downloading package inaugural to\n",
      "[nltk_data]    |     C:\\Users\\HP\\AppData\\Roaming\\nltk_data...\n",
      "[nltk_data]    |   Unzipping corpora\\inaugural.zip.\n",
      "[nltk_data]    | Downloading package movie_reviews to\n",
      "[nltk_data]    |     C:\\Users\\HP\\AppData\\Roaming\\nltk_data...\n",
      "[nltk_data]    |   Unzipping corpora\\movie_reviews.zip.\n",
      "[nltk_data]    | Downloading package names to\n",
      "[nltk_data]    |     C:\\Users\\HP\\AppData\\Roaming\\nltk_data...\n",
      "[nltk_data]    |   Unzipping corpora\\names.zip.\n",
      "[nltk_data]    | Downloading package shakespeare to\n",
      "[nltk_data]    |     C:\\Users\\HP\\AppData\\Roaming\\nltk_data...\n",
      "[nltk_data]    |   Unzipping corpora\\shakespeare.zip.\n",
      "[nltk_data]    | Downloading package stopwords to\n",
      "[nltk_data]    |     C:\\Users\\HP\\AppData\\Roaming\\nltk_data...\n",
      "[nltk_data]    |   Package stopwords is already up-to-date!\n",
      "[nltk_data]    | Downloading package treebank to\n",
      "[nltk_data]    |     C:\\Users\\HP\\AppData\\Roaming\\nltk_data...\n",
      "[nltk_data]    |   Unzipping corpora\\treebank.zip.\n",
      "[nltk_data]    | Downloading package twitter_samples to\n",
      "[nltk_data]    |     C:\\Users\\HP\\AppData\\Roaming\\nltk_data...\n",
      "[nltk_data]    |   Unzipping corpora\\twitter_samples.zip.\n",
      "[nltk_data]    | Downloading package omw to\n",
      "[nltk_data]    |     C:\\Users\\HP\\AppData\\Roaming\\nltk_data...\n",
      "[nltk_data]    |   Unzipping corpora\\omw.zip.\n",
      "[nltk_data]    | Downloading package wordnet to\n",
      "[nltk_data]    |     C:\\Users\\HP\\AppData\\Roaming\\nltk_data...\n",
      "[nltk_data]    |   Unzipping corpora\\wordnet.zip.\n",
      "[nltk_data]    | Downloading package wordnet_ic to\n",
      "[nltk_data]    |     C:\\Users\\HP\\AppData\\Roaming\\nltk_data...\n",
      "[nltk_data]    |   Unzipping corpora\\wordnet_ic.zip.\n",
      "[nltk_data]    | Downloading package words to\n",
      "[nltk_data]    |     C:\\Users\\HP\\AppData\\Roaming\\nltk_data...\n",
      "[nltk_data]    |   Unzipping corpora\\words.zip.\n",
      "[nltk_data]    | Downloading package maxent_ne_chunker to\n",
      "[nltk_data]    |     C:\\Users\\HP\\AppData\\Roaming\\nltk_data...\n",
      "[nltk_data]    |   Unzipping chunkers\\maxent_ne_chunker.zip.\n",
      "[nltk_data]    | Downloading package punkt to\n",
      "[nltk_data]    |     C:\\Users\\HP\\AppData\\Roaming\\nltk_data...\n",
      "[nltk_data]    |   Unzipping tokenizers\\punkt.zip.\n",
      "[nltk_data]    | Downloading package snowball_data to\n",
      "[nltk_data]    |     C:\\Users\\HP\\AppData\\Roaming\\nltk_data...\n",
      "[nltk_data]    | Downloading package averaged_perceptron_tagger to\n",
      "[nltk_data]    |     C:\\Users\\HP\\AppData\\Roaming\\nltk_data...\n",
      "[nltk_data]    |   Unzipping taggers\\averaged_perceptron_tagger.zip.\n",
      "[nltk_data]    | \n",
      "[nltk_data]  Done downloading collection popular\n"
     ]
    },
    {
     "data": {
      "text/plain": [
       "True"
      ]
     },
     "execution_count": 81,
     "metadata": {},
     "output_type": "execute_result"
    }
   ],
   "source": [
    "#download if you do this 1st time\n",
    "nltk.download('popular', halt_on_error=False)"
   ]
  },
  {
   "cell_type": "code",
   "execution_count": 82,
   "metadata": {},
   "outputs": [],
   "source": [
    "slayer_lyrics=\"\"\"\"\n",
    "Trapped in purgatory\n",
    "A lifeless object, alive\n",
    "Awaiting reprisal\n",
    "Death will be their acquiescence\n",
    "The sky is turning red\n",
    "Return to power draws near\n",
    "Fall into me, the sky's crimson tears\n",
    "Abolish the rules made of stone\n",
    "Pierced from below, souls of my treacherous past\n",
    "Betrayed by many, now ornaments dripping above\n",
    "Awaiting the hour of reprisal\n",
    "Your time slips away\n",
    "Raining blood\n",
    "From a lacerated sky\n",
    "Bleeding its horror\n",
    "Creating my structure now I shall reign in blood\n",
    "\"\"\""
   ]
  },
  {
   "cell_type": "code",
   "execution_count": 96,
   "metadata": {},
   "outputs": [
    {
     "data": {
      "text/plain": [
       "WordList(['Trapped', 'in', 'purgatory', 'A', 'lifeless', 'object', 'alive', 'Awaiting', 'reprisal', 'Death', 'will', 'be', 'their', 'acquiescence', 'The', 'sky', 'is', 'turning', 'red', 'Return', 'to', 'power', 'draws', 'near', 'Fall', 'into', 'me', 'the', 'sky', \"'s\", 'crimson', 'tears', 'Abolish', 'the', 'rules', 'made', 'of', 'stone', 'Pierced', 'from', 'below', 'souls', 'of', 'my', 'treacherous', 'past', 'Betrayed', 'by', 'many', 'now', 'ornaments', 'dripping', 'above', 'Awaiting', 'the', 'hour', 'of', 'reprisal', 'Your', 'time', 'slips', 'away', 'Raining', 'blood', 'From', 'a', 'lacerated', 'sky', 'Bleeding', 'its', 'horror', 'Creating', 'my', 'structure', 'now', 'I', 'shall', 'reign', 'in', 'blood'])"
      ]
     },
     "execution_count": 96,
     "metadata": {},
     "output_type": "execute_result"
    }
   ],
   "source": [
    "#let's separate words\n",
    "stayer_blob=TextBlob(slayer_lyrics)\n",
    "stayer_blob.words"
   ]
  },
  {
   "cell_type": "markdown",
   "metadata": {},
   "source": [
    "        The concept of splitting the whole sentence into separate words is called tockenization."
   ]
  },
  {
   "cell_type": "code",
   "execution_count": 89,
   "metadata": {},
   "outputs": [
    {
     "data": {
      "image/png": "[encoded data removed]",
      "text/plain": [
       "<Figure size 432x288 with 1 Axes>"
      ]
     },
     "metadata": {},
     "output_type": "display_data"
    }
   ],
   "source": [
    "#the most frequent word\n",
    "freq=nltk.FreqDist(slayer_blob.words)\n",
    "freq.plot()\n",
    "plt.show()"
   ]
  },
  {
   "cell_type": "code",
   "execution_count": 90,
   "metadata": {},
   "outputs": [],
   "source": [
    "w1=Word(\"studied\")\n",
    "w2=Word(\"danced\")"
   ]
  },
  {
   "cell_type": "code",
   "execution_count": 91,
   "metadata": {},
   "outputs": [
    {
     "data": {
      "text/plain": [
       "'study'"
      ]
     },
     "execution_count": 91,
     "metadata": {},
     "output_type": "execute_result"
    }
   ],
   "source": [
    "#print 1st form\n",
    "w1.lemmatize(\"v\")"
   ]
  },
  {
   "cell_type": "code",
   "execution_count": 92,
   "metadata": {},
   "outputs": [
    {
     "data": {
      "text/plain": [
       "'dance'"
      ]
     },
     "execution_count": 92,
     "metadata": {},
     "output_type": "execute_result"
    }
   ],
   "source": [
    "w2.lemmatize(\"v\")"
   ]
  },
  {
   "cell_type": "code",
   "execution_count": 98,
   "metadata": {},
   "outputs": [
    {
     "name": "stdout",
     "output_type": "stream",
     "text": [
      "Trapped trap\n",
      "in in\n",
      "purgatory purgatory\n",
      "A a\n",
      "lifeless lifeless\n",
      "object object\n",
      "alive alive\n",
      "Awaiting await\n",
      "reprisal reprisal\n",
      "Death death\n",
      "will will\n",
      "be be\n",
      "their their\n",
      "acquiescence acquiescence\n",
      "The the\n",
      "sky sky\n",
      "is be\n",
      "turning turn\n",
      "red red\n",
      "Return return\n",
      "to to\n",
      "power power\n",
      "draws draw\n",
      "near near\n",
      "Fall fall\n",
      "into into\n",
      "me me\n",
      "the the\n",
      "sky sky\n",
      "'s 's\n",
      "crimson crimson\n",
      "tears tear\n",
      "Abolish abolish\n",
      "the the\n",
      "rules rule\n",
      "made make\n",
      "of of\n",
      "stone stone\n",
      "Pierced pierce\n",
      "from from\n",
      "below below\n",
      "souls souls\n",
      "of of\n",
      "my my\n",
      "treacherous treacherous\n",
      "past past\n",
      "Betrayed betray\n",
      "by by\n",
      "many many\n",
      "now now\n",
      "ornaments ornament\n",
      "dripping drip\n",
      "above above\n",
      "Awaiting await\n",
      "the the\n",
      "hour hour\n",
      "of of\n",
      "reprisal reprisal\n",
      "Your your\n",
      "time time\n",
      "slips slip\n",
      "away away\n",
      "Raining rain\n",
      "blood blood\n",
      "From from\n",
      "a a\n",
      "lacerated lacerate\n",
      "sky sky\n",
      "Bleeding bleed\n",
      "its its\n",
      "horror horror\n",
      "Creating create\n",
      "my my\n",
      "structure structure\n",
      "now now\n",
      "I i\n",
      "shall shall\n",
      "reign reign\n",
      "in in\n",
      "blood blood\n"
     ]
    }
   ],
   "source": [
    "#use Word() as str does not have lemmatize() method\n",
    "for i in stayer_blob.words:\n",
    "    print(i,Word(i.lower()).lemmatize(\"v\"))"
   ]
  },
  {
   "cell_type": "code",
   "execution_count": 99,
   "metadata": {},
   "outputs": [
    {
     "data": {
      "text/plain": [
       "[Sentence(\"\"\n",
       " Trapped in purgatory\n",
       " A lifeless object, alive\n",
       " Awaiting reprisal\n",
       " Death will be their acquiescence\n",
       " The sky is turning red\n",
       " Return to power draws near\n",
       " Fall into me, the sky's crimson tears\n",
       " Abolish the rules made of stone\n",
       " Pierced from below, souls of my treacherous past\n",
       " Betrayed by many, now ornaments dripping above\n",
       " Awaiting the hour of reprisal\n",
       " Your time slips away\n",
       " Raining blood\n",
       " From a lacerated sky\n",
       " Bleeding its horror\n",
       " Creating my structure now I shall reign in blood\")]"
      ]
     },
     "execution_count": 99,
     "metadata": {},
     "output_type": "execute_result"
    }
   ],
   "source": [
    "#getting all sentences\n",
    "slayer_blob.sentences"
   ]
  },
  {
   "cell_type": "code",
   "execution_count": 100,
   "metadata": {},
   "outputs": [
    {
     "data": {
      "text/plain": [
       "[('Trapped', 'VBN'),\n",
       " ('in', 'IN'),\n",
       " ('purgatory', 'NN'),\n",
       " ('A', 'NNP'),\n",
       " ('lifeless', 'NN'),\n",
       " ('object', 'NN'),\n",
       " ('alive', 'JJ'),\n",
       " ('Awaiting', 'NNP'),\n",
       " ('reprisal', 'NN'),\n",
       " ('Death', 'NNP'),\n",
       " ('will', 'MD'),\n",
       " ('be', 'VB'),\n",
       " ('their', 'PRP$'),\n",
       " ('acquiescence', 'NN'),\n",
       " ('The', 'DT'),\n",
       " ('sky', 'NN'),\n",
       " ('is', 'VBZ'),\n",
       " ('turning', 'VBG'),\n",
       " ('red', 'JJ'),\n",
       " ('Return', 'NNP'),\n",
       " ('to', 'TO'),\n",
       " ('power', 'NN'),\n",
       " ('draws', 'NN'),\n",
       " ('near', 'IN'),\n",
       " ('Fall', 'NNP'),\n",
       " ('into', 'IN'),\n",
       " ('me', 'PRP'),\n",
       " ('the', 'DT'),\n",
       " ('sky', 'NN'),\n",
       " (\"'s\", 'POS'),\n",
       " ('crimson', 'JJ'),\n",
       " ('tears', 'NNS'),\n",
       " ('Abolish', 'VBP'),\n",
       " ('the', 'DT'),\n",
       " ('rules', 'NNS'),\n",
       " ('made', 'VBN'),\n",
       " ('of', 'IN'),\n",
       " ('stone', 'NN'),\n",
       " ('Pierced', 'NNP'),\n",
       " ('from', 'IN'),\n",
       " ('below', 'IN'),\n",
       " ('souls', 'NN'),\n",
       " ('of', 'IN'),\n",
       " ('my', 'PRP$'),\n",
       " ('treacherous', 'JJ'),\n",
       " ('past', 'JJ'),\n",
       " ('Betrayed', 'NNP'),\n",
       " ('by', 'IN'),\n",
       " ('many', 'JJ'),\n",
       " ('now', 'RB'),\n",
       " ('ornaments', 'VBZ'),\n",
       " ('dripping', 'VBG'),\n",
       " ('above', 'IN'),\n",
       " ('Awaiting', 'VBG'),\n",
       " ('the', 'DT'),\n",
       " ('hour', 'NN'),\n",
       " ('of', 'IN'),\n",
       " ('reprisal', 'NN'),\n",
       " ('Your', 'PRP$'),\n",
       " ('time', 'NN'),\n",
       " ('slips', 'VBZ'),\n",
       " ('away', 'RB'),\n",
       " ('Raining', 'VBG'),\n",
       " ('blood', 'NN'),\n",
       " ('From', 'IN'),\n",
       " ('a', 'DT'),\n",
       " ('lacerated', 'VBN'),\n",
       " ('sky', 'NN'),\n",
       " ('Bleeding', 'VBG'),\n",
       " ('its', 'PRP$'),\n",
       " ('horror', 'NN'),\n",
       " ('Creating', 'NNP'),\n",
       " ('my', 'PRP$'),\n",
       " ('structure', 'NN'),\n",
       " ('now', 'RB'),\n",
       " ('I', 'PRP'),\n",
       " ('shall', 'MD'),\n",
       " ('reign', 'VB'),\n",
       " ('in', 'IN'),\n",
       " ('blood', 'NN')]"
      ]
     },
     "execution_count": 100,
     "metadata": {},
     "output_type": "execute_result"
    }
   ],
   "source": [
    "#let's get pos tags (xosqi maser)\n",
    "#before lemmatizing we can check this to select e.g. only worbs\n",
    "slayer_blob.tags"
   ]
  },
  {
   "cell_type": "code",
   "execution_count": 101,
   "metadata": {},
   "outputs": [
    {
     "data": {
      "text/plain": [
       "['move in a graceful and rhythmical way',\n",
       " 'move in a pattern; usually to musical accompaniment; do or perform a dance',\n",
       " 'skip, leap, or move up and down or sideways']"
      ]
     },
     "execution_count": 101,
     "metadata": {},
     "output_type": "execute_result"
    }
   ],
   "source": [
    "#getting the definitions of the words\n",
    "w2.definitions"
   ]
  },
  {
   "cell_type": "code",
   "execution_count": 102,
   "metadata": {},
   "outputs": [
    {
     "data": {
      "text/plain": [
       "['consider in detail and subject to an analysis in order to discover essential features or meaning',\n",
       " 'be a student; follow a course of study; be enrolled at an institute of learning',\n",
       " 'give careful consideration to',\n",
       " 'be a student of a certain subject',\n",
       " 'learn by reading books',\n",
       " 'think intently and at length, as for spiritual purposes',\n",
       " 'produced or marked by conscious design or premeditation; ; - V.L.Parrington']"
      ]
     },
     "execution_count": 102,
     "metadata": {},
     "output_type": "execute_result"
    }
   ],
   "source": [
    "#w1.define() gives the same\n",
    "w1.definitions"
   ]
  },
  {
   "cell_type": "code",
   "execution_count": 103,
   "metadata": {},
   "outputs": [
    {
     "data": {
      "text/plain": [
       "[('conscious', 0.8192771084337349),\n",
       " ('councils', 0.13253012048192772),\n",
       " ('concise', 0.04819277108433735)]"
      ]
     },
     "execution_count": 103,
     "metadata": {},
     "output_type": "execute_result"
    }
   ],
   "source": [
    "Word(\"concios\").spellcheck()"
   ]
  },
  {
   "cell_type": "markdown",
   "metadata": {},
   "source": [
    "    there is 81% prob that we meant concious."
   ]
  },
  {
   "cell_type": "code",
   "execution_count": 110,
   "metadata": {},
   "outputs": [
    {
     "data": {
      "text/plain": [
       "'conscious'"
      ]
     },
     "execution_count": 110,
     "metadata": {},
     "output_type": "execute_result"
    }
   ],
   "source": [
    "#correcting the spelling (based on the highest probability)\n",
    "Word(\"concios\").correct()"
   ]
  },
  {
   "cell_type": "code",
   "execution_count": 105,
   "metadata": {},
   "outputs": [
    {
     "data": {
      "text/plain": [
       "[Synset('analyze.v.01'),\n",
       " Synset('study.v.02'),\n",
       " Synset('study.v.03'),\n",
       " Synset('learn.v.04'),\n",
       " Synset('study.v.05'),\n",
       " Synset('study.v.06'),\n",
       " Synset('studied.a.01')]"
      ]
     },
     "execution_count": 105,
     "metadata": {},
     "output_type": "execute_result"
    }
   ],
   "source": [
    "#getting synonyms\n",
    "w1.synsets"
   ]
  },
  {
   "cell_type": "code",
   "execution_count": 108,
   "metadata": {},
   "outputs": [
    {
     "data": {
      "text/plain": [
       "[Synset('conscious.s.01'), Synset('conscious.a.02'), Synset('conscious.s.03')]"
      ]
     },
     "execution_count": 108,
     "metadata": {},
     "output_type": "execute_result"
    }
   ],
   "source": [
    "Word(\"conscious\").synsets"
   ]
  },
  {
   "cell_type": "markdown",
   "metadata": {},
   "source": [
    "    no synonym"
   ]
  },
  {
   "cell_type": "code",
   "execution_count": 111,
   "metadata": {},
   "outputs": [
    {
     "data": {
      "text/plain": [
       "['analyze a sonnet by Shakespeare',\n",
       " 'analyze the evidence in a criminal trial',\n",
       " 'analyze your real motives']"
      ]
     },
     "execution_count": 111,
     "metadata": {},
     "output_type": "execute_result"
    }
   ],
   "source": [
    "#to see examples of how the word is used in the sentences\n",
    "w1.synsets[0].examples()"
   ]
  },
  {
   "cell_type": "code",
   "execution_count": 112,
   "metadata": {},
   "outputs": [],
   "source": [
    "#stemming - keeping the root of the word\n",
    "stemmer=PorterStemmer()"
   ]
  },
  {
   "cell_type": "code",
   "execution_count": 113,
   "metadata": {},
   "outputs": [
    {
     "data": {
      "text/plain": [
       "'studi'"
      ]
     },
     "execution_count": 113,
     "metadata": {},
     "output_type": "execute_result"
    }
   ],
   "source": [
    "stemmer.stem(\"Studied\")"
   ]
  },
  {
   "cell_type": "markdown",
   "metadata": {},
   "source": [
    "    sometimes stemming is preferable than lemmatizing (ex. company names from staff.am)"
   ]
  },
  {
   "cell_type": "markdown",
   "metadata": {},
   "source": [
    "###### the most popular word sometimes in the texts are the, a, an which are stopwords. But if we want to get the most popular word from the text then we need to remove stopwords."
   ]
  },
  {
   "cell_type": "code",
   "execution_count": 125,
   "metadata": {},
   "outputs": [],
   "source": [
    "sw=stopwords.words('english')"
   ]
  },
  {
   "cell_type": "code",
   "execution_count": 126,
   "metadata": {},
   "outputs": [
    {
     "name": "stdout",
     "output_type": "stream",
     "text": [
      "['i', 'me', 'my', 'myself', 'we', 'our', 'ours', 'ourselves', 'you', \"you're\", \"you've\", \"you'll\", \"you'd\", 'your', 'yours', 'yourself', 'yourselves', 'he', 'him', 'his', 'himself', 'she', \"she's\", 'her', 'hers', 'herself', 'it', \"it's\", 'its', 'itself', 'they', 'them', 'their', 'theirs', 'themselves', 'what', 'which', 'who', 'whom', 'this', 'that', \"that'll\", 'these', 'those', 'am', 'is', 'are', 'was', 'were', 'be', 'been', 'being', 'have', 'has', 'had', 'having', 'do', 'does', 'did', 'doing', 'a', 'an', 'the', 'and', 'but', 'if', 'or', 'because', 'as', 'until', 'while', 'of', 'at', 'by', 'for', 'with', 'about', 'against', 'between', 'into', 'through', 'during', 'before', 'after', 'above', 'below', 'to', 'from', 'up', 'down', 'in', 'out', 'on', 'off', 'over', 'under', 'again', 'further', 'then', 'once', 'here', 'there', 'when', 'where', 'why', 'how', 'all', 'any', 'both', 'each', 'few', 'more', 'most', 'other', 'some', 'such', 'no', 'nor', 'not', 'only', 'own', 'same', 'so', 'than', 'too', 'very', 's', 't', 'can', 'will', 'just', 'don', \"don't\", 'should', \"should've\", 'now', 'd', 'll', 'm', 'o', 're', 've', 'y', 'ain', 'aren', \"aren't\", 'couldn', \"couldn't\", 'didn', \"didn't\", 'doesn', \"doesn't\", 'hadn', \"hadn't\", 'hasn', \"hasn't\", 'haven', \"haven't\", 'isn', \"isn't\", 'ma', 'mightn', \"mightn't\", 'mustn', \"mustn't\", 'needn', \"needn't\", 'shan', \"shan't\", 'shouldn', \"shouldn't\", 'wasn', \"wasn't\", 'weren', \"weren't\", 'won', \"won't\", 'wouldn', \"wouldn't\"]\n"
     ]
    }
   ],
   "source": [
    "#the list of all stopwords\n",
    "print(sw)"
   ]
  },
  {
   "cell_type": "code",
   "execution_count": 127,
   "metadata": {},
   "outputs": [
    {
     "data": {
      "text/plain": [
       "['trapped',\n",
       " 'purgatory',\n",
       " 'lifeless',\n",
       " 'object',\n",
       " 'alive',\n",
       " 'awaiting',\n",
       " 'reprisal',\n",
       " 'death',\n",
       " 'acquiescence',\n",
       " 'sky',\n",
       " 'turning',\n",
       " 'red',\n",
       " 'return',\n",
       " 'power',\n",
       " 'draws',\n",
       " 'near',\n",
       " 'fall',\n",
       " 'sky',\n",
       " \"'s\",\n",
       " 'crimson',\n",
       " 'tears',\n",
       " 'abolish',\n",
       " 'rules',\n",
       " 'made',\n",
       " 'stone',\n",
       " 'pierced',\n",
       " 'souls',\n",
       " 'treacherous',\n",
       " 'past',\n",
       " 'betrayed',\n",
       " 'many',\n",
       " 'ornaments',\n",
       " 'dripping',\n",
       " 'awaiting',\n",
       " 'hour',\n",
       " 'reprisal',\n",
       " 'time',\n",
       " 'slips',\n",
       " 'away',\n",
       " 'raining',\n",
       " 'blood',\n",
       " 'lacerated',\n",
       " 'sky',\n",
       " 'bleeding',\n",
       " 'horror',\n",
       " 'creating',\n",
       " 'structure',\n",
       " 'shall',\n",
       " 'reign',\n",
       " 'blood']"
      ]
     },
     "execution_count": 127,
     "metadata": {},
     "output_type": "execute_result"
    }
   ],
   "source": [
    "[i for i in  slayer_blob.words.lower() if i not in sw]"
   ]
  },
  {
   "cell_type": "markdown",
   "metadata": {},
   "source": [
    "# Menu.am"
   ]
  },
  {
   "cell_type": "code",
   "execution_count": 130,
   "metadata": {},
   "outputs": [],
   "source": [
    "url_menu=\"https://www.menu.am/en/\""
   ]
  },
  {
   "cell_type": "code",
   "execution_count": 131,
   "metadata": {},
   "outputs": [],
   "source": [
    "url_wasabi='https://www.menu.am/en/yerevan/delivery/restaurant/wasabi.html'"
   ]
  },
  {
   "cell_type": "code",
   "execution_count": 136,
   "metadata": {},
   "outputs": [],
   "source": [
    "page3=requests.get(url_wasabi)\n",
    "response3=TextResponse(url=page3.url, body=page3.text,encoding=\"utf-8\")\n",
    "food=response3.css(\"a[class='title prod_content_a']::text\").extract()"
   ]
  },
  {
   "cell_type": "code",
   "execution_count": 142,
   "metadata": {},
   "outputs": [
    {
     "data": {
      "text/plain": [
       "['#500 Philadelphia ',\n",
       " '#502 California salmon maki',\n",
       " '#501 Philadelphia classic',\n",
       " '#503 Smoke Salmon ',\n",
       " '#504 Kappa maki']"
      ]
     },
     "execution_count": 142,
     "metadata": {},
     "output_type": "execute_result"
    }
   ],
   "source": [
    "food[0:5]"
   ]
  },
  {
   "cell_type": "code",
   "execution_count": 143,
   "metadata": {},
   "outputs": [
    {
     "data": {
      "text/plain": [
       "['3700', '4200', '2400', '1850', '900']"
      ]
     },
     "execution_count": 143,
     "metadata": {},
     "output_type": "execute_result"
    }
   ],
   "source": [
    "prices=response3.css(\"div[class='price']::text\").re('\\d+')\n",
    "prices[0:5]"
   ]
  },
  {
   "cell_type": "code",
   "execution_count": 149,
   "metadata": {},
   "outputs": [
    {
     "data": {
      "text/plain": [
       "['/en/yerevan/delivery/restaurant/fugu.html',\n",
       " '/en/yerevan/delivery/restaurant/12-ktor-pizza.html',\n",
       " '/en/yerevan/delivery/restaurant/tsirani.html',\n",
       " '/en/yerevan/delivery/restaurant/wasabi.html',\n",
       " '/en/yerevan/delivery/restaurant/beijing.html']"
      ]
     },
     "execution_count": 149,
     "metadata": {},
     "output_type": "execute_result"
    }
   ],
   "source": [
    "url_restaurants='https://www.menu.am/en/yerevan/delivery/restaurant/type.html'\n",
    "page3=requests.get(url_restaurants)\n",
    "response3=TextResponse(url=page3.url, body=page3.text,encoding=\"utf-8\")\n",
    "names_rest=response3.css(\"div[class='fl list-logo']>a::attr(href)\").extract()\n",
    "names_rest[0:5]"
   ]
  },
  {
   "cell_type": "code",
   "execution_count": 148,
   "metadata": {},
   "outputs": [
    {
     "data": {
      "text/plain": [
       "['https://www.menu.am//en/yerevan/delivery/restaurant/fugu.html',\n",
       " 'https://www.menu.am//en/yerevan/delivery/restaurant/12-ktor-pizza.html',\n",
       " 'https://www.menu.am//en/yerevan/delivery/restaurant/tsirani.html',\n",
       " 'https://www.menu.am//en/yerevan/delivery/restaurant/wasabi.html',\n",
       " 'https://www.menu.am//en/yerevan/delivery/restaurant/beijing.html']"
      ]
     },
     "execution_count": 148,
     "metadata": {},
     "output_type": "execute_result"
    }
   ],
   "source": [
    "restaur_urls=['https://www.menu.am/'+names_rest[i] for i in range(0,len(names_rest))]\n",
    "restaur_urls[0:5]"
   ]
  },
  {
   "cell_type": "markdown",
   "metadata": {},
   "source": [
    "    kisaaat"
   ]
  },
  {
   "cell_type": "code",
   "execution_count": null,
   "metadata": {},
   "outputs": [],
   "source": []
  }
 ],
 "metadata": {
  "kernelspec": {
   "display_name": "Python 3",
   "language": "python",
   "name": "python3"
  },
  "language_info": {
   "codemirror_mode": {
    "name": "ipython",
    "version": 3
   },
   "file_extension": ".py",
   "mimetype": "text/x-python",
   "name": "python",
   "nbconvert_exporter": "python",
   "pygments_lexer": "ipython3",
   "version": "3.6.5"
  }
 },
 "nbformat": 4,
 "nbformat_minor": 2
}
