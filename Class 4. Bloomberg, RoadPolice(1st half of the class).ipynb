{
 "cells": [
  {
   "cell_type": "code",
   "execution_count": 45,
   "metadata": {},
   "outputs": [],
   "source": [
    "import pandas as pd\n",
    "import requests\n",
    "from scrapy.http import TextResponse\n",
    "import time\n",
    "import numpy as np\n",
    "import re\n",
    "from textblob import TextBlob, Word #???\n",
    "from nltk.stem import PorterStemmer, WordNetLemmatizer\n",
    "import matplotlib.pyplot as plt\n",
    "from nltk.tokenize import sent_tokenize, word_tokenize\n",
    "from nltk.corpus import stopwords\n",
    "from selenium import webdriver\n",
    "from selenium.webdriver.common.keys import Keys"
   ]
  },
  {
   "cell_type": "code",
   "execution_count": 2,
   "metadata": {},
   "outputs": [],
   "source": [
    "#to get price of S&P500 from running part of the Bloomberg page\n",
    "url=\"https://www.bloomberg.com/\"\n",
    "page=requests.get(url)\n",
    "response=TextResponse(url=page.url, body=page.text,encoding=\"utf-8\")\n",
    "SP5=response.css(\"div[class='navi-data-strip__ticker-market-price']::text\").extract()"
   ]
  },
  {
   "cell_type": "code",
   "execution_count": 3,
   "metadata": {},
   "outputs": [
    {
     "data": {
      "text/plain": [
       "[]"
      ]
     },
     "execution_count": 3,
     "metadata": {},
     "output_type": "execute_result"
    }
   ],
   "source": [
    "SP5 "
   ]
  },
  {
   "cell_type": "markdown",
   "metadata": {},
   "source": [
    "    We get empty results as it's impossible to scrape this website with html css scraper. \n",
    "    Values are written in javascrt language. \n",
    "    Selenium package can be used to deal w/ these kind of problems (ex. Bloomberg, rates.am, offense.police.am) - \n",
    "    https://www.seleniumhq.org/"
   ]
  },
  {
   "cell_type": "markdown",
   "metadata": {},
   "source": [
    "#### Before starting we need to download from http://chromedriver.chromium.org/downloads ChromeDriver - WebDriver for Chrome (75 is downloaded as the newest version of chrome is not available on my computer). The downloaded drive need to be put in the same folder where Jupyter Notebook on which we work is."
   ]
  },
  {
   "cell_type": "code",
   "execution_count": 27,
   "metadata": {},
   "outputs": [],
   "source": [
    "pin='19DEGRCHRSTZ' #random violation code found from in the facebook group just for teaching purpose    \n",
    "url_p='https://offense.roadpolice.am/violation' #website where the code of vilation will be used"
   ]
  },
  {
   "cell_type": "code",
   "execution_count": 28,
   "metadata": {},
   "outputs": [],
   "source": [
    "browser=webdriver.Chrome() #selenium lets us to control chrome page, each time we need to run this for new url"
   ]
  },
  {
   "cell_type": "code",
   "execution_count": 29,
   "metadata": {},
   "outputs": [],
   "source": [
    "browser.get(url_p) #open the given browser"
   ]
  },
  {
   "cell_type": "code",
   "execution_count": 26,
   "metadata": {},
   "outputs": [],
   "source": [
    "browser.close() #close the open browser"
   ]
  },
  {
   "cell_type": "markdown",
   "metadata": {},
   "source": [
    "Inspect the open website:  #<input type=\"text\" maxlength=\"12\" <b>id=\"pin\"</b> class=\"fs22\" name=\"pin-number\" value=\"\" autofocus=\"\">. \n",
    "\n",
    "Note: id=pin will be used further."
   ]
  },
  {
   "cell_type": "code",
   "execution_count": 30,
   "metadata": {},
   "outputs": [
    {
     "name": "stdout",
     "output_type": "stream",
     "text": [
      "<selenium.webdriver.remote.webelement.WebElement (session=\"fbe9f8d689215d42c563e3a82f665a6f\", element=\"65c4e9bc-634f-4277-bd20-858480ef1cdd\")>\n"
     ]
    }
   ],
   "source": [
    "pin_space=browser.find_element_by_id('pin')\n",
    "print(pin_space)"
   ]
  },
  {
   "cell_type": "code",
   "execution_count": 31,
   "metadata": {},
   "outputs": [],
   "source": [
    "#to put pin in a open space in the website\n",
    "pin_space.send_keys(pin)"
   ]
  },
  {
   "cell_type": "code",
   "execution_count": 32,
   "metadata": {},
   "outputs": [],
   "source": [
    "#submit the sent code\n",
    "pin_space.submit()"
   ]
  },
  {
   "cell_type": "code",
   "execution_count": 34,
   "metadata": {},
   "outputs": [],
   "source": [
    "page=browser.page_source #to use this to ger bage source"
   ]
  },
  {
   "cell_type": "code",
   "execution_count": 35,
   "metadata": {},
   "outputs": [],
   "source": [
    "browser.close() #after page we don't need the browser to be open anymore"
   ]
  },
  {
   "cell_type": "code",
   "execution_count": 36,
   "metadata": {},
   "outputs": [
    {
     "data": {
      "text/plain": [
       "'<html lang=\"en\"><head>\\n\\t<meta charset=\"UTF-8\">\\n\\t<meta name=\"viewport\" content=\"width=device-width, initial-scale=1, maximum-scale=1, user-scalable=no\">\\n\\t<meta name=\"format-detection\" content=\"telephone=no\">\\n\\t<title>ՀՀ Ճանապարհային ոստիկանության ծառայության տեխնիկական միջոցների օգտագործմամբ ստացված իրավախախտումների համակարգ</title>\\n\\t<link href=\"/css/main.css?v=78\" rel=\"stylesheet\" type=\"text/css\"><script type=\"text/javascript\" async=\"\" src=\"https://ssl.google-analytics.com/ga.js\"></script><script type=\"text/javascript\" src=\"/js/jquery-3.1.0.min.js?v=78\"></script><script type=\"text/javascript\" src=\"/js/main.js?v=78\"></script><script type=\"text/javascript\" src=\"/js/violation.js?v=78\"></script>\\n\\t<link rel=\"icon\" href=\"https://offense.roadpolice.am/favicon.png\">\\n\\t<link rel=\"shortcut icon\" href=\"https://offense.roadpolice.am/favicon.ico\">\\n</head>\\n<body>\\n\\n<script>\\n\\tvar $locSettings = {\"trans\":{\"pin.error.wrong_format\":\"\\\\u0546\\\\u0565\\\\u0580\\\\u0574\\\\u0578\\\\u0582\\\\u056e\\\\u057e\\\\u0561\\\\u056e PIN-\\\\u0568  \\\\u0569\\\\u0565\\\\u0580\\\\u056b \\\\u0567:<br \\\\/>\\\\u0546\\\\u056b\\\\u0577\\\\u0565\\\\u0580\\\\u056b \\\\u0584\\\\u0561\\\\u0576\\\\u0561\\\\u056f\\\\u0568 \\\\u057a\\\\u0565\\\\u057f\\\\u0584 \\\\u0567 \\\\u056c\\\\u056b\\\\u0576\\\\u056b 12\",\"pin.error.wrong_pin\":\"{pin} \\\\u0561\\\\u0576\\\\u0570\\\\u0561\\\\u057f\\\\u0561\\\\u056f\\\\u0561\\\\u0576 \\\\u056e\\\\u0561\\\\u056e\\\\u056f\\\\u0561\\\\u0563\\\\u0580\\\\u0578\\\\u057e \\\\u0578\\\\u0580\\\\u0578\\\\u0577\\\\u0578\\\\u0582\\\\u0574 \\\\u0563\\\\u0578\\\\u0575\\\\u0578\\\\u0582\\\\u0569\\\\u0575\\\\u0578\\\\u0582\\\\u0576 \\\\u0579\\\\u0578\\\\u0582\\\\u0576\\\\u056b:\"}};\\n</script>\\n\\n<main class=\"wrapper\">\\n\\t\\n<div class=\"wrapper-inner\">\\n\\n\\t<div class=\"wrapper-top clear-fix\">\\n\\t\\t<h1 class=\"logo\">\\n\\t\\t\\t<a href=\"#\"></a>\\n\\t\\t</h1>\\n\\t\\t<h2 class=\"fb fs22 title\">Ճանապարհային ոստիկանության տեսանկարահանող և լուսանկարահանող սարքերով հայտնաբերված իրավախախտումների համակարգ</h2>\\n\\t</div>\\n\\t<div id=\"violation-top\" style=\"display: none;\">\\n\\t\\t<form action=\"#\" method=\"post\" id=\"form-block\" class=\"violation\" autocomplete=\"off\">\\n\\t\\t\\t<h2 class=\"fs16 pin-title\">Մուտքագրեք վարչական տույժ նշանակելու մասին որոշման անհատական ծածկագիրը (PIN#)</h2>\\n\\t\\t\\t<h2 class=\"fs16 act-title dn\">Մուտքագրեք վարչական տույժ նշանակելու մասին որոշման համարը</h2>\\n\\t\\t\\t<div class=\"form-box\">\\n\\t\\t\\t\\t<input type=\"text\" maxlength=\"12\" id=\"pin\" class=\"fs22\" name=\"pin-number\" value=\"\" autofocus=\"\">\\n\\t\\t\\t\\t<input type=\"text\" id=\"act\" class=\"fs22 dn\" name=\"act-number\" value=\"\" autofocus=\"\">\\n\\t\\t\\t\\t<p id=\"form-error-pin\" class=\"form-error-message fs14\"></p>\\n\\t\\t\\t</div>\\n\\t\\t\\t<div class=\"form-box text-center pr\">\\n\\t\\t\\t\\t<div id=\"success-alert\" class=\"error-alert dn\">\\n\\t\\t\\t\\t\\t<a href=\"#\" id=\"close-icon\"></a>\\n\\t\\t\\t\\t\\t<div class=\"success-alert-inner\">\\n\\t\\t\\t\\t\\t\\t<p class=\"fs16\"></p>\\n\\t\\t\\t\\t\\t</div>\\n\\t\\t\\t\\t</div>\\n\\t\\t\\t\\t<button class=\"fs16 blue-btn\" type=\"submit\">Տեսնել</button>\\n\\t\\t\\t</div>\\n\\t\\t</form>\\n\\t\\t<div class=\"separate-line horizontal-line\"></div>\\n\\t\\t<div class=\"wrapper-bottom text-center\">\\n\\t\\t\\t<img class=\"ver-top-box\" src=\"images/reg-icon.png\" alt=\"\">\\n\\t\\t\\t<h2 class=\"reg-info fs20\">Գրանցվեք և ստացեք բոլոր իրավախախտումները Ձեր էլ․ փոստին</h2>\\n\\t\\t\\t<div class=\"reg-block\">\\n\\t\\t\\t\\t<a href=\"https://sms.roadpolice.am/\" class=\"ver-top-box reg-btn\">Գրանցվել</a>\\n\\t\\t\\t</div>\\n\\t\\t</div>\\n\\t</div>\\n</div>\\n\\n<div id=\"result\" class=\"\">\\n\\n\\t<div class=\"back-block text-center\">\\n\\t\\t<a class=\"result-back-btn fs16\" href=\"https://offense.roadpolice.am/violation\">Վերադառնալ</a>\\n\\t</div>\\n\\n\\t<div id=\"result-inner\"><div id=\"wrapper\">\\n\\t<table width=\"100%\">\\n\\t<tbody><tr>\\n\\t    <td style=\"text-align: center\"><b>Հայաստանի Հանրապետության<br>ոստիկանության «Ճանապարհային ոստիկանություն» ծառայություն</b></td>\\n\\t</tr>\\n\\t</tbody></table>\\n\\n\\t\\n\\t<p style=\"text-align: center\">\\n\\t<b style=\"font-size: 10pt;\">ՈՐՈՇՈՒՄ № 1909702337</b>\\n\\t<br>\\n\\t<b>Վարչական տույժ նշանակելու մասին</b>\\n\\t</p>\\n\\t\\t<p><b>ք.Երևան, 11 հուլիսի 2019թ.</b></p><p style=\"text-align: justify\">Ճանապարհային ոստիկանության տեսանկարահանման միջոցով հայտնաբերված խախտումների արձանագրման կենտրոնի տեսուչ Հարություն Հակոբյանս համադրելով տեխնիկական միջոցի օգտագործմամբ ստացված տեսանյութում ամրագրված արարքի հատկանիշները (անհատական ծածկագիր` <strong>PIN #19DEGRCHRSTZ</strong>) իրավախախտման հատկանիշների հետ`</p>\\n\\t<p style=\"text-align: center\"><b>ՊԱՐԶԵՑԻ</b></p>\\n\\t<table border=\"1\" cellpadding=\"3\" id=\"main_data\">\\n\\t    <tbody><tr>\\n\\t        <td rowspan=\"5\">Տրանսպորտային միջոցի</td>\\n\\t        <td>մակնիշը</td>\\n\\t        <td>LEXUS</td>\\n\\t    </tr>\\n\\t    <tr>\\n\\t        <td>համարանիշը</td>\\n\\t        <td>21CT200</td>\\n\\t    </tr>\\n\\t    <tr>\\n\\t        <td>գույնը</td>\\n\\t        <td>ՍՊԻՏԱԿ ՍՊԻՏԱԿ ՄԱՐԳԱՐԻՏ ՄԵՏԱՂԱԿԱՆ </td>\\n\\t    </tr><tr>\\n\\t\\t        <td>գրանցման (հաշվառման) հասցեն</td>\\n\\t\\t        <td>ԵՐԵՎԱՆ, ՇԵՆԳԱՎԻԹ, ԱՐՏԱՇԻՍՅԱՆ Փ., Շ 40/8, ԲՆ . 15</td>\\n\\t\\t    </tr><tr>\\n\\t        <td>սեփականատերը, լիզինգի պայմանագրով վարձակալը կամ շահագործող պետական մարմինը</td>\\n\\t        <td>ԳԵՎՈՐԳ ՀԱՐՈՒԹՅՈՒՆԻ ՀԱՐՈՒԹՅՈՒՆՅԱՆ</td>\\n\\t    </tr>\\n\\t    <tr>\\n\\t        <td rowspan=\"2\">Խախտման</td>\\n\\t        <td>օրը, ամիսը, տարին, ժամը, րոպեն</td>\\n\\t        <td>19 հնս. 2019թ. Ժամը` 16:54</td>\\n\\t    </tr>\\n\\t    <tr>\\n\\t        <td>վայրը</td>\\n\\t        <td>ք. Երևան, Վ. Համբարձումյան / Երզնկյան / Բաղրամյան խաչմերուկի հատված</td>\\n\\t    </tr>\\n\\t    <tr>\\n\\t        <td>Խախտված իրավանորմը</td>\\n\\t        <td colspan=\"2\">ՀՀ կառավարության 2007 թվականի հունիսի 28-ի 955-Ն որոշման Հավելված N 1-ի Ձև N 1-ի 5.15.1. «Երթևեկության ուղղությունները գոտիներով» ճանապարհային նշան</td>\\n\\t    </tr>\\n\\t    <tr>\\n\\t        <td>Հաստատված հանգամանքները</td>\\n\\t        <td colspan=\"2\">երթևեկել է «Երթևեկության ուղղությունները գոտիներով» ճանապարհային նշանով տվյալ գոտու համար չթույլատրված ուղղությամբ</td>\\n\\t    </tr>\\n\\t    <tr>\\n\\t        <td>Վարչական պատասխանատվություն նախատեսող նորմատիվ ակտը</td>\\n\\t        <td colspan=\"2\">Վարչական իրավախախտումների վերաբերյալ ՀՀ օրենսգրքի 124-րդ հոդվածի 1-ին մաս</td>\\n\\t    </tr>\\n\\t</tbody></table><p style=\"text-align: justify\">Ելնելով վերոգրյալից և ղեկավարվելով Վարչական իրավախախտումների վերաբերյալ ՀՀ օրենսգրքի 32-րդ հոդվածի 3-րդ մասով, 224-րդ հոդվածի 2-րդ մասով`</p><p style=\"text-align: center\"><b>ՈՐՈՇԵՑԻ</b></p>\\n\\t<ol>\\n\\t\\t    <li style=\"text-align: justify\">Վարչական իրավախախտումների վերաբերյալ ՀՀ օրենսգրքի 124-րդ հոդվածի 1-ին մասի համաձայն, ԳԵՎՈՐԳ ՀԱՐՈՒԹՅՈՒՆԻ ՀԱՐՈՒԹՅՈՒՆՅԱՆ-ին տուգանել <b>5000 (հինգ հազար) դրամ (<a href=\"https://www.e-payments.am/hy/fines/step3/service=1111/?police_pin=19DEGRCHRSTZ\" target=\"_blank\">Վճարել առցանց</a>):</b></li>\\n\\t    <li style=\"text-align: justify\">Սույն որոշումն ուժի մեջ է մտնում հանձնելու (հանձնված համարվելու) օրվան հաջորդող օրը:</li>\\n\\t    <li style=\"text-align: justify\">Սույն որոշմամբ նշանակված տուգանքի վճարման հաշվեհամարն է` 900013150058:</li>\\n\\t    <li style=\"text-align: justify\">Սույն որոշումը կարող է բողոքարկվել Ճանապարհային ոստիկանության պետին` Վարչական իրավախախտումների վերաբերյալ ՀՀ օրենսգրքի 283-րդ հոդվածով սահմանված կարգով հանձնելու (հանձնված համարվելու) օրվանից հետո՝ երեսուն օրվա ընթացքում կամ ՀՀ վարչական դատարան` օրենքով սահմանված կարգով և ժամկետներում:</li></ol>\\n\\t\\n\\t<hr><p></p><p class=\"download-video\"><a href=\"/api/video.php?f=BAGHR_ERZNK0&amp;id=18536941&amp;v=20186913\">Բեռնել տեսանյութը (1)</a></p><p class=\"download-video\"><a href=\"/api/video.php?f=ERZNK_BAGHR1&amp;id=18536941&amp;v=20186913\">Բեռնել տեսանյութը (2)</a></p><hr><br><br><div class=\"pics\"><img src=\"/api/pic.php?pin=19DEGRCHRSTZ&amp;mode=video&amp;file=BAGHR_ERZNK0_00013&amp;id=18536941&amp;pic=2\">\\n\\t\\t\\t\\t<br><br>\\n\\t\\t\\t\\t<img src=\"/api/pic.php?pin=19DEGRCHRSTZ&amp;mode=video&amp;file=BAGHR_ERZNK0_00013&amp;id=18536941&amp;pic=1\"><div style=\"padding: 20px 0\">\\n\\t\\t\\t\\t<hr>\\n\\t<div></div>\\n\\t<p style=\"text-align: center\">\\n\\tՏեսախցիկի համապատասխանության վկայագիր` STP-2011-00455, Տեղակայման վայրը` ք. Երևան, Վ. Համբարձումյան / Երզնկյան / Բաղրամյան խաչմերուկի հատված\\n\\t</p></div></div></div></div>\\n\\t<div class=\"back-block text-center\">\\n\\t\\t<a class=\"result-back-btn fs16\" href=\"https://offense.roadpolice.am/violation\">Վերադառնալ</a>\\n\\t</div>\\n</div>\\n\\n</main>\\n\\n<script type=\"text/javascript\">\\n\\tvar _gaq = _gaq || [];\\n\\t_gaq.push([\\'_setAccount\\', \\'UA-2363425-37\\']);\\n\\t_gaq.push([\\'_trackPageview\\']);\\n\\n\\t(function() {\\n\\t\\tvar ga = document.createElement(\\'script\\'); ga.type = \\'text/javascript\\'; ga.async = true;\\n\\t\\tga.src = (\\'https:\\' == document.location.protocol ? \\'https://ssl\\' : \\'http://www\\') + \\'.google-analytics.com/ga.js\\';\\n\\t\\tvar s = document.getElementsByTagName(\\'script\\')[0]; s.parentNode.insertBefore(ga, s);\\n\\t})();\\n</script>\\n\\n\\n</body></html>'"
      ]
     },
     "execution_count": 36,
     "metadata": {},
     "output_type": "execute_result"
    }
   ],
   "source": [
    "page #so the page info is scraped dully"
   ]
  },
  {
   "cell_type": "code",
   "execution_count": 37,
   "metadata": {},
   "outputs": [
    {
     "data": {
      "text/plain": [
       "<200 https://offense.roadpolice.am/violation>"
      ]
     },
     "execution_count": 37,
     "metadata": {},
     "output_type": "execute_result"
    }
   ],
   "source": [
    "TextResponse(url=url_p,body=page,encoding=\"utf-8\")"
   ]
  },
  {
   "cell_type": "markdown",
   "metadata": {},
   "source": [
    "# quotes.toscrape.com/scroll"
   ]
  },
  {
   "cell_type": "code",
   "execution_count": 38,
   "metadata": {},
   "outputs": [],
   "source": [
    "url_qu='http://quotes.toscrape.com/scroll'"
   ]
  },
  {
   "cell_type": "code",
   "execution_count": 39,
   "metadata": {},
   "outputs": [],
   "source": [
    "browser=webdriver.Chrome()\n",
    "browser.get(url_qu)"
   ]
  },
  {
   "cell_type": "code",
   "execution_count": 40,
   "metadata": {},
   "outputs": [],
   "source": [
    "page_quotes=browser.page_source"
   ]
  },
  {
   "cell_type": "code",
   "execution_count": 42,
   "metadata": {},
   "outputs": [
    {
     "data": {
      "text/plain": [
       "5811"
      ]
     },
     "execution_count": 42,
     "metadata": {},
     "output_type": "execute_result"
    }
   ],
   "source": [
    "len(page_quotes)"
   ]
  },
  {
   "cell_type": "code",
   "execution_count": 63,
   "metadata": {},
   "outputs": [],
   "source": [
    "some_element=browser.find_element_by_tag_name(\"html\")"
   ]
  },
  {
   "cell_type": "code",
   "execution_count": 65,
   "metadata": {},
   "outputs": [],
   "source": [
    "some_element.send_keys(Keys.END)"
   ]
  },
  {
   "cell_type": "code",
   "execution_count": null,
   "metadata": {},
   "outputs": [],
   "source": []
  }
 ],
 "metadata": {
  "kernelspec": {
   "display_name": "Python 3",
   "language": "python",
   "name": "python3"
  },
  "language_info": {
   "codemirror_mode": {
    "name": "ipython",
    "version": 3
   },
   "file_extension": ".py",
   "mimetype": "text/x-python",
   "name": "python",
   "nbconvert_exporter": "python",
   "pygments_lexer": "ipython3",
   "version": "3.6.5"
  }
 },
 "nbformat": 4,
 "nbformat_minor": 2
}
